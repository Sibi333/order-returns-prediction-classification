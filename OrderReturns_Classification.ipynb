{
 "cells": [
  {
   "cell_type": "markdown",
   "metadata": {},
   "source": [
    "# Order returns prediction - binary classification "
   ]
  },
  {
   "cell_type": "markdown",
   "metadata": {},
   "source": [
    "Please note - confidential details, data, and few of the output/ visualization charts are not shown for privacy reasons. "
   ]
  },
  {
   "cell_type": "markdown",
   "metadata": {},
   "source": [
    "## Import libraries"
   ]
  },
  {
   "cell_type": "code",
   "execution_count": 1,
   "metadata": {},
   "outputs": [],
   "source": [
    "import pandas as pd\n",
    "import numpy as np\n",
    "import seaborn as sns\n",
    "import matplotlib.pyplot as plt\n",
    "%matplotlib inline\n",
    "import warnings\n",
    "warnings.filterwarnings(\"ignore\")"
   ]
  },
  {
   "cell_type": "code",
   "execution_count": 2,
   "metadata": {},
   "outputs": [],
   "source": [
    "from sklearn.preprocessing import StandardScaler\n",
    "from sklearn.model_selection import train_test_split\n",
    "from sklearn.model_selection import StratifiedKFold\n",
    "from sklearn.linear_model import LogisticRegression\n",
    "from sklearn.metrics import accuracy_score \n",
    "from sklearn.metrics import confusion_matrix\n",
    "from sklearn.metrics import classification_report"
   ]
  },
  {
   "cell_type": "code",
   "execution_count": 3,
   "metadata": {},
   "outputs": [
    {
     "name": "stderr",
     "output_type": "stream",
     "text": [
      "C:\\ProgramData\\Anaconda3\\lib\\site-packages\\sklearn\\ensemble\\weight_boosting.py:29: DeprecationWarning: numpy.core.umath_tests is an internal NumPy module and should not be imported. It will be removed in a future NumPy release.\n",
      "  from numpy.core.umath_tests import inner1d\n"
     ]
    }
   ],
   "source": [
    "from sklearn.naive_bayes import GaussianNB\n",
    "from sklearn.naive_bayes import MultinomialNB\n",
    "from sklearn.naive_bayes import BernoulliNB\n",
    "from sklearn.ensemble import AdaBoostClassifier\n",
    "from sklearn.ensemble import RandomForestClassifier"
   ]
  },
  {
   "cell_type": "code",
   "execution_count": 4,
   "metadata": {},
   "outputs": [],
   "source": [
    "import cx_Oracle as orc"
   ]
  },
  {
   "cell_type": "markdown",
   "metadata": {},
   "source": [
    "## Data import from Oracle"
   ]
  },
  {
   "cell_type": "code",
   "execution_count": 5,
   "metadata": {},
   "outputs": [],
   "source": [
    "# Make DSN address\n",
    "dsn = orc.makedsn('hostname', 'port', service_name='servicename')\n",
    "# Connect to DSN\n",
    "conn = orc.connect(user='username', password='password', dsn=dsn)"
   ]
  },
  {
   "cell_type": "code",
   "execution_count": 6,
   "metadata": {},
   "outputs": [],
   "source": [
    "sql_query = \"\"\"SELECT \n",
    "  ORDER_NUMBER,\n",
    "  CREATION_DATE,\n",
    "  COMPLETED_DATE,\n",
    "  (COMPLETED_DATE - CREATION_DATE) AS DELIVERY_DAYS,\n",
    "  ORDER_METHOD,\n",
    "  DELIVERY_WAY, \n",
    "  CASE \n",
    "    WHEN FAMILY_MEMBER IS NOT NULL \n",
    "    THEN 'FAMILY'\n",
    "    ELSE 'NOT FAMILY'\n",
    "  END AS FAMILY_CUST,\n",
    "  CUSTOMER_TYPE,\n",
    "  DELIVERY_ZIPCODE,\n",
    "  CREATED_ZIPCODE,\n",
    "  DELIVERY_CHARGE,\n",
    "  TOTAL_ORDER_VALUE_NET,\n",
    "  NUMBER_ARTICLES,\n",
    "  RETURN_CREAT,\n",
    "  RETURN_COMPL,\n",
    "  CASE \n",
    "    WHEN PUR_PROOF IS NOT NULL \n",
    "    THEN 'RETURNED'\n",
    "    ELSE 'NOT RETURNED'\n",
    "  END AS ORDER_STATUS\n",
    "FROM \n",
    "( \n",
    "SELECT \n",
    "  ORDER_NUMBER,\n",
    "  TRUNC(CREATION_DATE) AS CREATION_DATE,\n",
    "  TRUNC(COMPLETED_DATE) AS COMPLETED_DATE,\n",
    "  ORDER_METHOD,\n",
    "  DELIVERY_WAY,\n",
    "  FAMILY_MEMBER,\n",
    "  CUSTOMER_TYPE,\n",
    "  DELIVERY_ZIPCODE,\n",
    "  CREATED_ZIPCODE,\n",
    "  CBO_FREIGHT_VALUE AS DELIVERY_CHARGE,\n",
    "  TOTAL_ORDER_VALUE_NET,\n",
    "  NUMBER_ARTICLES\n",
    "FROM \n",
    "  \"DATABASE_NAME\".\"TABLE_NAME\"\n",
    "WHERE \n",
    "  COMPLETED_DATE IS NOT NULL AND\n",
    "  DELIVERY_WAY NOT IN ('CLICK&COLLECT', 'EXPRESS DELIVERY') AND\n",
    "  CREATION_DATE >= TO_DATE('01.09.18','DD.MM.YY')) a \n",
    "LEFT JOIN \n",
    "( \n",
    "SELECT \n",
    "  MIN(RETURN_CREAT_DT) AS RETURN_CREAT,\n",
    "  MIN(RETURN_COMPL_DT) AS RETURN_COMPL,\n",
    "  PUR_PROOF \n",
    "FROM  \n",
    "  \"DATABASE_NAME\".\"TABLE_NAME\"\n",
    "WHERE \n",
    "  SELLING_STO_ID = 52 AND\n",
    "  RETURN_CREAT_DT >= TO_DATE('01.09.18','DD.MM.YY') AND\n",
    "  PUR_PROOF IS NOT NULL \n",
    "GROUP BY\n",
    "  PUR_PROOF) b\n",
    "ON \n",
    "  a.ORDER_NUMBER = b.PUR_PROOF\n",
    "WHERE \n",
    "  CREATION_DATE IS NOT NULL AND\n",
    "  CREATION_DATE >= TO_DATE('01.09.18','DD.MM.YY')\"\"\""
   ]
  },
  {
   "cell_type": "code",
   "execution_count": 7,
   "metadata": {},
   "outputs": [],
   "source": [
    "original_df = pd.read_sql(sql_query, conn)"
   ]
  },
  {
   "cell_type": "code",
   "execution_count": 8,
   "metadata": {},
   "outputs": [],
   "source": [
    "df_a1 = original_df.copy()"
   ]
  },
  {
   "cell_type": "markdown",
   "metadata": {},
   "source": [
    "## Data exploration"
   ]
  },
  {
   "cell_type": "code",
   "execution_count": 9,
   "metadata": {},
   "outputs": [
    {
     "data": {
      "text/html": [
       "<div>\n",
       "<style scoped>\n",
       "    .dataframe tbody tr th:only-of-type {\n",
       "        vertical-align: middle;\n",
       "    }\n",
       "\n",
       "    .dataframe tbody tr th {\n",
       "        vertical-align: top;\n",
       "    }\n",
       "\n",
       "    .dataframe thead th {\n",
       "        text-align: right;\n",
       "    }\n",
       "</style>\n",
       "<table border=\"1\" class=\"dataframe\">\n",
       "  <thead>\n",
       "    <tr style=\"text-align: right;\">\n",
       "      <th></th>\n",
       "      <th>ORDER_NUMBER</th>\n",
       "      <th>CREATION_DATE</th>\n",
       "      <th>COMPLETED_DATE</th>\n",
       "      <th>DELIVERY_DAYS</th>\n",
       "      <th>ORDER_METHOD</th>\n",
       "      <th>DELIVERY_WAY</th>\n",
       "      <th>FAMILY_CUST</th>\n",
       "      <th>CUSTOMER_TYPE</th>\n",
       "      <th>DELIVERY_ZIPCODE</th>\n",
       "      <th>CREATED_ZIPCODE</th>\n",
       "      <th>DELIVERY_CHARGE</th>\n",
       "      <th>TOTAL_ORDER_VALUE_NET</th>\n",
       "      <th>NUMBER_ARTICLES</th>\n",
       "      <th>RETURN_CREAT</th>\n",
       "      <th>RETURN_COMPL</th>\n",
       "      <th>ORDER_STATUS</th>\n",
       "    </tr>\n",
       "  </thead>\n",
       "  <tbody>\n",
       "    <tr>\n",
       "      <th>0</th>\n",
       "      <td>1005665161</td>\n",
       "      <td>2018-12-14</td>\n",
       "      <td>2018-12-20</td>\n",
       "      <td>6</td>\n",
       "      <td>INTERNET</td>\n",
       "      <td>PARCEL</td>\n",
       "      <td>FAMILY</td>\n",
       "      <td>PRIVATE</td>\n",
       "      <td>53757</td>\n",
       "      <td>53757</td>\n",
       "      <td>3.9</td>\n",
       "      <td>32.68</td>\n",
       "      <td>1.0</td>\n",
       "      <td>NaT</td>\n",
       "      <td>NaT</td>\n",
       "      <td>NOT RETURNED</td>\n",
       "    </tr>\n",
       "    <tr>\n",
       "      <th>1</th>\n",
       "      <td>1005428825</td>\n",
       "      <td>2018-12-13</td>\n",
       "      <td>2018-12-19</td>\n",
       "      <td>6</td>\n",
       "      <td>PHONE</td>\n",
       "      <td>PARCEL</td>\n",
       "      <td>NOT FAMILY</td>\n",
       "      <td>PRIVATE</td>\n",
       "      <td>81669</td>\n",
       "      <td>81669</td>\n",
       "      <td>0.0</td>\n",
       "      <td>0.00</td>\n",
       "      <td>1.0</td>\n",
       "      <td>NaT</td>\n",
       "      <td>NaT</td>\n",
       "      <td>NOT RETURNED</td>\n",
       "    </tr>\n",
       "    <tr>\n",
       "      <th>2</th>\n",
       "      <td>1007196172</td>\n",
       "      <td>2018-12-14</td>\n",
       "      <td>2018-12-27</td>\n",
       "      <td>13</td>\n",
       "      <td>INTERNET</td>\n",
       "      <td>PARCEL</td>\n",
       "      <td>FAMILY</td>\n",
       "      <td>PRIVATE</td>\n",
       "      <td>76297</td>\n",
       "      <td>76297</td>\n",
       "      <td>3.9</td>\n",
       "      <td>24.28</td>\n",
       "      <td>1.0</td>\n",
       "      <td>NaT</td>\n",
       "      <td>NaT</td>\n",
       "      <td>NOT RETURNED</td>\n",
       "    </tr>\n",
       "    <tr>\n",
       "      <th>3</th>\n",
       "      <td>1002440897</td>\n",
       "      <td>2018-11-18</td>\n",
       "      <td>2018-11-26</td>\n",
       "      <td>8</td>\n",
       "      <td>INTERNET</td>\n",
       "      <td>PARCEL</td>\n",
       "      <td>NOT FAMILY</td>\n",
       "      <td>PRIVATE</td>\n",
       "      <td>67125</td>\n",
       "      <td>67125</td>\n",
       "      <td>3.9</td>\n",
       "      <td>45.29</td>\n",
       "      <td>1.0</td>\n",
       "      <td>NaT</td>\n",
       "      <td>NaT</td>\n",
       "      <td>NOT RETURNED</td>\n",
       "    </tr>\n",
       "    <tr>\n",
       "      <th>4</th>\n",
       "      <td>1000557302</td>\n",
       "      <td>2018-11-18</td>\n",
       "      <td>2018-11-27</td>\n",
       "      <td>9</td>\n",
       "      <td>INTERNET</td>\n",
       "      <td>PARCEL</td>\n",
       "      <td>NOT FAMILY</td>\n",
       "      <td>PRIVATE</td>\n",
       "      <td>18356</td>\n",
       "      <td>18356</td>\n",
       "      <td>3.9</td>\n",
       "      <td>28.94</td>\n",
       "      <td>7.0</td>\n",
       "      <td>NaT</td>\n",
       "      <td>NaT</td>\n",
       "      <td>NOT RETURNED</td>\n",
       "    </tr>\n",
       "  </tbody>\n",
       "</table>\n",
       "</div>"
      ],
      "text/plain": [
       "   ORDER_NUMBER CREATION_DATE COMPLETED_DATE  DELIVERY_DAYS ORDER_METHOD  \\\n",
       "0    1005665161    2018-12-14     2018-12-20              6     INTERNET   \n",
       "1    1005428825    2018-12-13     2018-12-19              6        PHONE   \n",
       "2    1007196172    2018-12-14     2018-12-27             13     INTERNET   \n",
       "3    1002440897    2018-11-18     2018-11-26              8     INTERNET   \n",
       "4    1000557302    2018-11-18     2018-11-27              9     INTERNET   \n",
       "\n",
       "  DELIVERY_WAY FAMILY_CUST CUSTOMER_TYPE DELIVERY_ZIPCODE CREATED_ZIPCODE  \\\n",
       "0       PARCEL      FAMILY       PRIVATE            53757           53757   \n",
       "1       PARCEL  NOT FAMILY       PRIVATE            81669           81669   \n",
       "2       PARCEL      FAMILY       PRIVATE            76297           76297   \n",
       "3       PARCEL  NOT FAMILY       PRIVATE            67125           67125   \n",
       "4       PARCEL  NOT FAMILY       PRIVATE            18356           18356   \n",
       "\n",
       "   DELIVERY_CHARGE  TOTAL_ORDER_VALUE_NET  NUMBER_ARTICLES RETURN_CREAT  \\\n",
       "0              3.9                  32.68              1.0          NaT   \n",
       "1              0.0                   0.00              1.0          NaT   \n",
       "2              3.9                  24.28              1.0          NaT   \n",
       "3              3.9                  45.29              1.0          NaT   \n",
       "4              3.9                  28.94              7.0          NaT   \n",
       "\n",
       "  RETURN_COMPL  ORDER_STATUS  \n",
       "0          NaT  NOT RETURNED  \n",
       "1          NaT  NOT RETURNED  \n",
       "2          NaT  NOT RETURNED  \n",
       "3          NaT  NOT RETURNED  \n",
       "4          NaT  NOT RETURNED  "
      ]
     },
     "execution_count": 9,
     "metadata": {},
     "output_type": "execute_result"
    }
   ],
   "source": [
    "df_a1.head()"
   ]
  },
  {
   "cell_type": "code",
   "execution_count": 10,
   "metadata": {},
   "outputs": [
    {
     "name": "stdout",
     "output_type": "stream",
     "text": [
      "<class 'pandas.core.frame.DataFrame'>\n",
      "RangeIndex: 2984273 entries, 0 to 2984272\n",
      "Data columns (total 16 columns):\n",
      "ORDER_NUMBER             int64\n",
      "CREATION_DATE            datetime64[ns]\n",
      "COMPLETED_DATE           datetime64[ns]\n",
      "DELIVERY_DAYS            int64\n",
      "ORDER_METHOD             object\n",
      "DELIVERY_WAY             object\n",
      "FAMILY_CUST              object\n",
      "CUSTOMER_TYPE            object\n",
      "DELIVERY_ZIPCODE         object\n",
      "CREATED_ZIPCODE          object\n",
      "DELIVERY_CHARGE          float64\n",
      "TOTAL_ORDER_VALUE_NET    float64\n",
      "NUMBER_ARTICLES          float64\n",
      "RETURN_CREAT             datetime64[ns]\n",
      "RETURN_COMPL             datetime64[ns]\n",
      "ORDER_STATUS             object\n",
      "dtypes: datetime64[ns](4), float64(3), int64(2), object(7)\n",
      "memory usage: 364.3+ MB\n"
     ]
    }
   ],
   "source": [
    "df_a1.info()"
   ]
  },
  {
   "cell_type": "code",
   "execution_count": 11,
   "metadata": {},
   "outputs": [
    {
     "data": {
      "text/html": [
       "<div>\n",
       "<style scoped>\n",
       "    .dataframe tbody tr th:only-of-type {\n",
       "        vertical-align: middle;\n",
       "    }\n",
       "\n",
       "    .dataframe tbody tr th {\n",
       "        vertical-align: top;\n",
       "    }\n",
       "\n",
       "    .dataframe thead th {\n",
       "        text-align: right;\n",
       "    }\n",
       "</style>\n",
       "<table border=\"1\" class=\"dataframe\">\n",
       "  <thead>\n",
       "    <tr style=\"text-align: right;\">\n",
       "      <th></th>\n",
       "      <th>ORDER_NUMBER</th>\n",
       "      <th>CREATION_DATE</th>\n",
       "      <th>COMPLETED_DATE</th>\n",
       "      <th>DELIVERY_DAYS</th>\n",
       "      <th>ORDER_METHOD</th>\n",
       "      <th>DELIVERY_WAY</th>\n",
       "      <th>FAMILY_CUST</th>\n",
       "      <th>CUSTOMER_TYPE</th>\n",
       "      <th>DELIVERY_ZIPCODE</th>\n",
       "      <th>CREATED_ZIPCODE</th>\n",
       "      <th>DELIVERY_CHARGE</th>\n",
       "      <th>TOTAL_ORDER_VALUE_NET</th>\n",
       "      <th>NUMBER_ARTICLES</th>\n",
       "      <th>RETURN_CREAT</th>\n",
       "      <th>RETURN_COMPL</th>\n",
       "      <th>ORDER_STATUS</th>\n",
       "    </tr>\n",
       "  </thead>\n",
       "  <tbody>\n",
       "    <tr>\n",
       "      <th>count</th>\n",
       "      <td>2984273.00</td>\n",
       "      <td>2984273</td>\n",
       "      <td>2984273</td>\n",
       "      <td>2984273.00</td>\n",
       "      <td>2984273</td>\n",
       "      <td>2984273</td>\n",
       "      <td>2984273</td>\n",
       "      <td>2984241</td>\n",
       "      <td>2984273</td>\n",
       "      <td>2979094</td>\n",
       "      <td>2984273.00</td>\n",
       "      <td>2984241.00</td>\n",
       "      <td>2981577.00</td>\n",
       "      <td>130294</td>\n",
       "      <td>128899</td>\n",
       "      <td>2984273</td>\n",
       "    </tr>\n",
       "    <tr>\n",
       "      <th>unique</th>\n",
       "      <td>nan</td>\n",
       "      <td>402</td>\n",
       "      <td>347</td>\n",
       "      <td>nan</td>\n",
       "      <td>5</td>\n",
       "      <td>3</td>\n",
       "      <td>2</td>\n",
       "      <td>2</td>\n",
       "      <td>8441</td>\n",
       "      <td>9849</td>\n",
       "      <td>nan</td>\n",
       "      <td>nan</td>\n",
       "      <td>nan</td>\n",
       "      <td>129430</td>\n",
       "      <td>125798</td>\n",
       "      <td>2</td>\n",
       "    </tr>\n",
       "    <tr>\n",
       "      <th>top</th>\n",
       "      <td>nan</td>\n",
       "      <td>2018-11-25 00:00:00</td>\n",
       "      <td>2018-10-18 00:00:00</td>\n",
       "      <td>nan</td>\n",
       "      <td>INTERNET</td>\n",
       "      <td>PARCEL</td>\n",
       "      <td>NOT FAMILY</td>\n",
       "      <td>PRIVATE</td>\n",
       "      <td>78467</td>\n",
       "      <td>78467</td>\n",
       "      <td>nan</td>\n",
       "      <td>nan</td>\n",
       "      <td>nan</td>\n",
       "      <td>2018-11-19 12:15:57</td>\n",
       "      <td>2019-05-02 16:06:49</td>\n",
       "      <td>NOT RETURNED</td>\n",
       "    </tr>\n",
       "    <tr>\n",
       "      <th>freq</th>\n",
       "      <td>nan</td>\n",
       "      <td>16226</td>\n",
       "      <td>33654</td>\n",
       "      <td>nan</td>\n",
       "      <td>2890139</td>\n",
       "      <td>2136233</td>\n",
       "      <td>2217839</td>\n",
       "      <td>2831982</td>\n",
       "      <td>3881</td>\n",
       "      <td>3873</td>\n",
       "      <td>nan</td>\n",
       "      <td>nan</td>\n",
       "      <td>nan</td>\n",
       "      <td>3</td>\n",
       "      <td>6</td>\n",
       "      <td>2853979</td>\n",
       "    </tr>\n",
       "    <tr>\n",
       "      <th>first</th>\n",
       "      <td>nan</td>\n",
       "      <td>2018-09-01 00:00:00</td>\n",
       "      <td>2018-09-06 00:00:00</td>\n",
       "      <td>nan</td>\n",
       "      <td>NaN</td>\n",
       "      <td>NaN</td>\n",
       "      <td>NaN</td>\n",
       "      <td>NaN</td>\n",
       "      <td>NaN</td>\n",
       "      <td>NaN</td>\n",
       "      <td>nan</td>\n",
       "      <td>nan</td>\n",
       "      <td>nan</td>\n",
       "      <td>2018-10-10 07:18:36</td>\n",
       "      <td>2018-10-10 10:01:13</td>\n",
       "      <td>NaN</td>\n",
       "    </tr>\n",
       "    <tr>\n",
       "      <th>last</th>\n",
       "      <td>nan</td>\n",
       "      <td>2019-10-07 00:00:00</td>\n",
       "      <td>2019-10-09 00:00:00</td>\n",
       "      <td>nan</td>\n",
       "      <td>NaN</td>\n",
       "      <td>NaN</td>\n",
       "      <td>NaN</td>\n",
       "      <td>NaN</td>\n",
       "      <td>NaN</td>\n",
       "      <td>NaN</td>\n",
       "      <td>nan</td>\n",
       "      <td>nan</td>\n",
       "      <td>nan</td>\n",
       "      <td>2019-10-08 20:27:04</td>\n",
       "      <td>2019-10-08 20:26:17</td>\n",
       "      <td>NaN</td>\n",
       "    </tr>\n",
       "    <tr>\n",
       "      <th>mean</th>\n",
       "      <td>1001398931.13</td>\n",
       "      <td>NaN</td>\n",
       "      <td>NaN</td>\n",
       "      <td>10.32</td>\n",
       "      <td>NaN</td>\n",
       "      <td>NaN</td>\n",
       "      <td>NaN</td>\n",
       "      <td>NaN</td>\n",
       "      <td>NaN</td>\n",
       "      <td>NaN</td>\n",
       "      <td>17.77</td>\n",
       "      <td>160.41</td>\n",
       "      <td>8.74</td>\n",
       "      <td>NaN</td>\n",
       "      <td>NaN</td>\n",
       "      <td>NaN</td>\n",
       "    </tr>\n",
       "    <tr>\n",
       "      <th>std</th>\n",
       "      <td>82999675.15</td>\n",
       "      <td>NaN</td>\n",
       "      <td>NaN</td>\n",
       "      <td>8.23</td>\n",
       "      <td>NaN</td>\n",
       "      <td>NaN</td>\n",
       "      <td>NaN</td>\n",
       "      <td>NaN</td>\n",
       "      <td>NaN</td>\n",
       "      <td>NaN</td>\n",
       "      <td>31.05</td>\n",
       "      <td>331.44</td>\n",
       "      <td>28.55</td>\n",
       "      <td>NaN</td>\n",
       "      <td>NaN</td>\n",
       "      <td>NaN</td>\n",
       "    </tr>\n",
       "    <tr>\n",
       "      <th>min</th>\n",
       "      <td>521201305.00</td>\n",
       "      <td>NaN</td>\n",
       "      <td>NaN</td>\n",
       "      <td>1.00</td>\n",
       "      <td>NaN</td>\n",
       "      <td>NaN</td>\n",
       "      <td>NaN</td>\n",
       "      <td>NaN</td>\n",
       "      <td>NaN</td>\n",
       "      <td>NaN</td>\n",
       "      <td>0.00</td>\n",
       "      <td>0.00</td>\n",
       "      <td>1.00</td>\n",
       "      <td>NaN</td>\n",
       "      <td>NaN</td>\n",
       "      <td>NaN</td>\n",
       "    </tr>\n",
       "    <tr>\n",
       "      <th>25%</th>\n",
       "      <td>1004238339.00</td>\n",
       "      <td>NaN</td>\n",
       "      <td>NaN</td>\n",
       "      <td>6.00</td>\n",
       "      <td>NaN</td>\n",
       "      <td>NaN</td>\n",
       "      <td>NaN</td>\n",
       "      <td>NaN</td>\n",
       "      <td>NaN</td>\n",
       "      <td>NaN</td>\n",
       "      <td>3.90</td>\n",
       "      <td>25.46</td>\n",
       "      <td>2.00</td>\n",
       "      <td>NaN</td>\n",
       "      <td>NaN</td>\n",
       "      <td>NaN</td>\n",
       "    </tr>\n",
       "    <tr>\n",
       "      <th>50%</th>\n",
       "      <td>1019819736.00</td>\n",
       "      <td>NaN</td>\n",
       "      <td>NaN</td>\n",
       "      <td>9.00</td>\n",
       "      <td>NaN</td>\n",
       "      <td>NaN</td>\n",
       "      <td>NaN</td>\n",
       "      <td>NaN</td>\n",
       "      <td>NaN</td>\n",
       "      <td>NaN</td>\n",
       "      <td>4.00</td>\n",
       "      <td>53.69</td>\n",
       "      <td>4.00</td>\n",
       "      <td>NaN</td>\n",
       "      <td>NaN</td>\n",
       "      <td>NaN</td>\n",
       "    </tr>\n",
       "    <tr>\n",
       "      <th>75%</th>\n",
       "      <td>1035867163.00</td>\n",
       "      <td>NaN</td>\n",
       "      <td>NaN</td>\n",
       "      <td>12.00</td>\n",
       "      <td>NaN</td>\n",
       "      <td>NaN</td>\n",
       "      <td>NaN</td>\n",
       "      <td>NaN</td>\n",
       "      <td>NaN</td>\n",
       "      <td>NaN</td>\n",
       "      <td>25.00</td>\n",
       "      <td>147.06</td>\n",
       "      <td>9.00</td>\n",
       "      <td>NaN</td>\n",
       "      <td>NaN</td>\n",
       "      <td>NaN</td>\n",
       "    </tr>\n",
       "    <tr>\n",
       "      <th>max</th>\n",
       "      <td>1056351027.00</td>\n",
       "      <td>NaN</td>\n",
       "      <td>NaN</td>\n",
       "      <td>364.00</td>\n",
       "      <td>NaN</td>\n",
       "      <td>NaN</td>\n",
       "      <td>NaN</td>\n",
       "      <td>NaN</td>\n",
       "      <td>NaN</td>\n",
       "      <td>NaN</td>\n",
       "      <td>175.00</td>\n",
       "      <td>37303.24</td>\n",
       "      <td>29932.00</td>\n",
       "      <td>NaN</td>\n",
       "      <td>NaN</td>\n",
       "      <td>NaN</td>\n",
       "    </tr>\n",
       "  </tbody>\n",
       "</table>\n",
       "</div>"
      ],
      "text/plain": [
       "        ORDER_NUMBER        CREATION_DATE       COMPLETED_DATE  DELIVERY_DAYS  \\\n",
       "count     2984273.00              2984273              2984273     2984273.00   \n",
       "unique           nan                  402                  347            nan   \n",
       "top              nan  2018-11-25 00:00:00  2018-10-18 00:00:00            nan   \n",
       "freq             nan                16226                33654            nan   \n",
       "first            nan  2018-09-01 00:00:00  2018-09-06 00:00:00            nan   \n",
       "last             nan  2019-10-07 00:00:00  2019-10-09 00:00:00            nan   \n",
       "mean   1001398931.13                  NaN                  NaN          10.32   \n",
       "std      82999675.15                  NaN                  NaN           8.23   \n",
       "min     521201305.00                  NaN                  NaN           1.00   \n",
       "25%    1004238339.00                  NaN                  NaN           6.00   \n",
       "50%    1019819736.00                  NaN                  NaN           9.00   \n",
       "75%    1035867163.00                  NaN                  NaN          12.00   \n",
       "max    1056351027.00                  NaN                  NaN         364.00   \n",
       "\n",
       "       ORDER_METHOD DELIVERY_WAY FAMILY_CUST CUSTOMER_TYPE DELIVERY_ZIPCODE  \\\n",
       "count       2984273      2984273     2984273       2984241          2984273   \n",
       "unique            5            3           2             2             8441   \n",
       "top        INTERNET       PARCEL  NOT FAMILY       PRIVATE            78467   \n",
       "freq        2890139      2136233     2217839       2831982             3881   \n",
       "first           NaN          NaN         NaN           NaN              NaN   \n",
       "last            NaN          NaN         NaN           NaN              NaN   \n",
       "mean            NaN          NaN         NaN           NaN              NaN   \n",
       "std             NaN          NaN         NaN           NaN              NaN   \n",
       "min             NaN          NaN         NaN           NaN              NaN   \n",
       "25%             NaN          NaN         NaN           NaN              NaN   \n",
       "50%             NaN          NaN         NaN           NaN              NaN   \n",
       "75%             NaN          NaN         NaN           NaN              NaN   \n",
       "max             NaN          NaN         NaN           NaN              NaN   \n",
       "\n",
       "       CREATED_ZIPCODE  DELIVERY_CHARGE  TOTAL_ORDER_VALUE_NET  \\\n",
       "count          2979094       2984273.00             2984241.00   \n",
       "unique            9849              nan                    nan   \n",
       "top              78467              nan                    nan   \n",
       "freq              3873              nan                    nan   \n",
       "first              NaN              nan                    nan   \n",
       "last               NaN              nan                    nan   \n",
       "mean               NaN            17.77                 160.41   \n",
       "std                NaN            31.05                 331.44   \n",
       "min                NaN             0.00                   0.00   \n",
       "25%                NaN             3.90                  25.46   \n",
       "50%                NaN             4.00                  53.69   \n",
       "75%                NaN            25.00                 147.06   \n",
       "max                NaN           175.00               37303.24   \n",
       "\n",
       "        NUMBER_ARTICLES         RETURN_CREAT         RETURN_COMPL  \\\n",
       "count        2981577.00               130294               128899   \n",
       "unique              nan               129430               125798   \n",
       "top                 nan  2018-11-19 12:15:57  2019-05-02 16:06:49   \n",
       "freq                nan                    3                    6   \n",
       "first               nan  2018-10-10 07:18:36  2018-10-10 10:01:13   \n",
       "last                nan  2019-10-08 20:27:04  2019-10-08 20:26:17   \n",
       "mean               8.74                  NaN                  NaN   \n",
       "std               28.55                  NaN                  NaN   \n",
       "min                1.00                  NaN                  NaN   \n",
       "25%                2.00                  NaN                  NaN   \n",
       "50%                4.00                  NaN                  NaN   \n",
       "75%                9.00                  NaN                  NaN   \n",
       "max            29932.00                  NaN                  NaN   \n",
       "\n",
       "        ORDER_STATUS  \n",
       "count        2984273  \n",
       "unique             2  \n",
       "top     NOT RETURNED  \n",
       "freq         2853979  \n",
       "first            NaN  \n",
       "last             NaN  \n",
       "mean             NaN  \n",
       "std              NaN  \n",
       "min              NaN  \n",
       "25%              NaN  \n",
       "50%              NaN  \n",
       "75%              NaN  \n",
       "max              NaN  "
      ]
     },
     "execution_count": 11,
     "metadata": {},
     "output_type": "execute_result"
    }
   ],
   "source": [
    "pd.set_option('display.float_format','{:.2f}'.format)\n",
    "df_a1.describe(include='all')"
   ]
  },
  {
   "cell_type": "code",
   "execution_count": 12,
   "metadata": {},
   "outputs": [],
   "source": [
    "df_a1['CREATION_DAY'] = pd.DatetimeIndex(df_a1['CREATION_DATE']).weekday_name\n",
    "df_a1['CREATION_MONTH'] = pd.DatetimeIndex(df_a1['CREATION_DATE']).month\n",
    "df_a1['CREATION_YEAR'] = pd.DatetimeIndex(df_a1['CREATION_DATE']).year"
   ]
  },
  {
   "cell_type": "code",
   "execution_count": 13,
   "metadata": {},
   "outputs": [],
   "source": [
    "df_a1['COMPLETED_DAY'] = pd.DatetimeIndex(df_a1['COMPLETED_DATE']).weekday_name\n",
    "df_a1['COMPLETED_MONTH'] = pd.DatetimeIndex(df_a1['COMPLETED_DATE']).month\n",
    "df_a1['COMPLETED_YEAR'] = pd.DatetimeIndex(df_a1['COMPLETED_DATE']).year"
   ]
  },
  {
   "cell_type": "code",
   "execution_count": 14,
   "metadata": {},
   "outputs": [],
   "source": [
    "df_a1['DELIVERY_ZIPCODE'] = df_a1['DELIVERY_ZIPCODE'].str[1]\n",
    "df_a1['CREATED_ZIPCODE'] = df_a1['CREATED_ZIPCODE'].str[1]"
   ]
  },
  {
   "cell_type": "code",
   "execution_count": 16,
   "metadata": {},
   "outputs": [
    {
     "data": {
      "text/plain": [
       "<matplotlib.axes._subplots.AxesSubplot at 0x17c40930fd0>"
      ]
     },
     "execution_count": 16,
     "metadata": {},
     "output_type": "execute_result"
    },
    {
     "data": {
      "image/png": "[encoded data removed]",
      "text/plain": [
       "<Figure size 432x288 with 1 Axes>"
      ]
     },
     "metadata": {
      "needs_background": "light"
     },
     "output_type": "display_data"
    }
   ],
   "source": [
    "df_a1['ORDER_STATUS'].value_counts(normalize=True).plot.bar(title='Order Status')"
   ]
  },
  {
   "cell_type": "code",
   "execution_count": 17,
   "metadata": {},
   "outputs": [
    {
     "data": {
      "text/plain": [
       "NOT RETURNED   0.96\n",
       "RETURNED       0.04\n",
       "Name: ORDER_STATUS, dtype: float64"
      ]
     },
     "execution_count": 17,
     "metadata": {},
     "output_type": "execute_result"
    }
   ],
   "source": [
    "df_a1['ORDER_STATUS'].value_counts(normalize=True)"
   ]
  },
  {
   "cell_type": "code",
   "execution_count": 18,
   "metadata": {},
   "outputs": [
    {
     "data": {
      "text/plain": [
       "NOT RETURNED    2853979\n",
       "RETURNED         130294\n",
       "Name: ORDER_STATUS, dtype: int64"
      ]
     },
     "execution_count": 18,
     "metadata": {},
     "output_type": "execute_result"
    }
   ],
   "source": [
    "df_a1['ORDER_STATUS'].value_counts()"
   ]
  },
  {
   "cell_type": "code",
   "execution_count": 13,
   "metadata": {},
   "outputs": [
    {
     "data": {
      "image/png": "[encoded data removed]",
      "text/plain": [
       "<Figure size 1440x864 with 4 Axes>"
      ]
     },
     "metadata": {
      "needs_background": "light"
     },
     "output_type": "display_data"
    }
   ],
   "source": [
    "fig = plt.figure(figsize=(20,12))\n",
    "ax1 = fig.add_subplot(221)\n",
    "pd.crosstab(df_a1['FAMILY_CUST'], df_a1['ORDER_STATUS'], normalize='index').plot.barh(stacked=True, ax=ax1, legend=False)\n",
    "ax2 = fig.add_subplot(222)\n",
    "pd.crosstab(df_a1['ORDER_METHOD'], df_a1['ORDER_STATUS'], normalize='index').plot.barh(stacked=True, ax=ax2, legend=False)\n",
    "ax3 = fig.add_subplot(223)\n",
    "pd.crosstab(df_a1['CUSTOMER_TYPE'], df_a1['ORDER_STATUS'], normalize='index').plot.barh(stacked=True, ax=ax3, legend=False)\n",
    "ax4 = fig.add_subplot(224)\n",
    "pd.crosstab(df_a1['DELIVERY_WAY'], df_a1['ORDER_STATUS'], normalize='index').plot.barh(stacked=True, ax=ax4, legend=False)\n",
    "plt.show()"
   ]
  },
  {
   "cell_type": "code",
   "execution_count": 25,
   "metadata": {},
   "outputs": [],
   "source": [
    "df_a1['ORDER_STATUS'].replace('NOT RETURNED', 0, inplace=True)\n",
    "df_a1['ORDER_STATUS'].replace('RETURNED', 1, inplace=True)"
   ]
  },
  {
   "cell_type": "code",
   "execution_count": 26,
   "metadata": {},
   "outputs": [
    {
     "data": {
      "text/html": [
       "<div>\n",
       "<style scoped>\n",
       "    .dataframe tbody tr th:only-of-type {\n",
       "        vertical-align: middle;\n",
       "    }\n",
       "\n",
       "    .dataframe tbody tr th {\n",
       "        vertical-align: top;\n",
       "    }\n",
       "\n",
       "    .dataframe thead th {\n",
       "        text-align: right;\n",
       "    }\n",
       "</style>\n",
       "<table border=\"1\" class=\"dataframe\">\n",
       "  <thead>\n",
       "    <tr style=\"text-align: right;\">\n",
       "      <th></th>\n",
       "      <th>ORDER_NUMBER</th>\n",
       "      <th>DELIVERY_DAYS</th>\n",
       "      <th>DELIVERY_CHARGE</th>\n",
       "      <th>TOTAL_ORDER_VALUE_NET</th>\n",
       "      <th>NUMBER_ARTICLES</th>\n",
       "      <th>ORDER_STATUS</th>\n",
       "      <th>CREATION_MONTH</th>\n",
       "      <th>CREATION_YEAR</th>\n",
       "      <th>COMPLETED_MONTH</th>\n",
       "      <th>COMPLETED_YEAR</th>\n",
       "    </tr>\n",
       "  </thead>\n",
       "  <tbody>\n",
       "    <tr>\n",
       "      <th>ORDER_NUMBER</th>\n",
       "      <td>1.00</td>\n",
       "      <td>-0.40</td>\n",
       "      <td>0.20</td>\n",
       "      <td>0.03</td>\n",
       "      <td>0.01</td>\n",
       "      <td>-0.00</td>\n",
       "      <td>-0.29</td>\n",
       "      <td>0.81</td>\n",
       "      <td>-0.20</td>\n",
       "      <td>0.78</td>\n",
       "    </tr>\n",
       "    <tr>\n",
       "      <th>DELIVERY_DAYS</th>\n",
       "      <td>-0.40</td>\n",
       "      <td>1.00</td>\n",
       "      <td>0.10</td>\n",
       "      <td>0.21</td>\n",
       "      <td>0.12</td>\n",
       "      <td>0.03</td>\n",
       "      <td>0.28</td>\n",
       "      <td>-0.43</td>\n",
       "      <td>0.18</td>\n",
       "      <td>-0.36</td>\n",
       "    </tr>\n",
       "    <tr>\n",
       "      <th>DELIVERY_CHARGE</th>\n",
       "      <td>0.20</td>\n",
       "      <td>0.10</td>\n",
       "      <td>1.00</td>\n",
       "      <td>0.66</td>\n",
       "      <td>0.28</td>\n",
       "      <td>0.07</td>\n",
       "      <td>0.01</td>\n",
       "      <td>0.12</td>\n",
       "      <td>0.03</td>\n",
       "      <td>0.12</td>\n",
       "    </tr>\n",
       "    <tr>\n",
       "      <th>TOTAL_ORDER_VALUE_NET</th>\n",
       "      <td>0.03</td>\n",
       "      <td>0.21</td>\n",
       "      <td>0.66</td>\n",
       "      <td>1.00</td>\n",
       "      <td>0.49</td>\n",
       "      <td>0.14</td>\n",
       "      <td>-0.00</td>\n",
       "      <td>0.02</td>\n",
       "      <td>0.01</td>\n",
       "      <td>0.02</td>\n",
       "    </tr>\n",
       "    <tr>\n",
       "      <th>NUMBER_ARTICLES</th>\n",
       "      <td>0.01</td>\n",
       "      <td>0.12</td>\n",
       "      <td>0.28</td>\n",
       "      <td>0.49</td>\n",
       "      <td>1.00</td>\n",
       "      <td>0.12</td>\n",
       "      <td>-0.00</td>\n",
       "      <td>0.01</td>\n",
       "      <td>0.00</td>\n",
       "      <td>0.01</td>\n",
       "    </tr>\n",
       "    <tr>\n",
       "      <th>ORDER_STATUS</th>\n",
       "      <td>-0.00</td>\n",
       "      <td>0.03</td>\n",
       "      <td>0.07</td>\n",
       "      <td>0.14</td>\n",
       "      <td>0.12</td>\n",
       "      <td>1.00</td>\n",
       "      <td>-0.01</td>\n",
       "      <td>0.00</td>\n",
       "      <td>-0.01</td>\n",
       "      <td>0.00</td>\n",
       "    </tr>\n",
       "    <tr>\n",
       "      <th>CREATION_MONTH</th>\n",
       "      <td>-0.29</td>\n",
       "      <td>0.28</td>\n",
       "      <td>0.01</td>\n",
       "      <td>-0.00</td>\n",
       "      <td>-0.00</td>\n",
       "      <td>-0.01</td>\n",
       "      <td>1.00</td>\n",
       "      <td>-0.79</td>\n",
       "      <td>0.81</td>\n",
       "      <td>-0.70</td>\n",
       "    </tr>\n",
       "    <tr>\n",
       "      <th>CREATION_YEAR</th>\n",
       "      <td>0.81</td>\n",
       "      <td>-0.43</td>\n",
       "      <td>0.12</td>\n",
       "      <td>0.02</td>\n",
       "      <td>0.01</td>\n",
       "      <td>0.00</td>\n",
       "      <td>-0.79</td>\n",
       "      <td>1.00</td>\n",
       "      <td>-0.62</td>\n",
       "      <td>0.92</td>\n",
       "    </tr>\n",
       "    <tr>\n",
       "      <th>COMPLETED_MONTH</th>\n",
       "      <td>-0.20</td>\n",
       "      <td>0.18</td>\n",
       "      <td>0.03</td>\n",
       "      <td>0.01</td>\n",
       "      <td>0.00</td>\n",
       "      <td>-0.01</td>\n",
       "      <td>0.81</td>\n",
       "      <td>-0.62</td>\n",
       "      <td>1.00</td>\n",
       "      <td>-0.76</td>\n",
       "    </tr>\n",
       "    <tr>\n",
       "      <th>COMPLETED_YEAR</th>\n",
       "      <td>0.78</td>\n",
       "      <td>-0.36</td>\n",
       "      <td>0.12</td>\n",
       "      <td>0.02</td>\n",
       "      <td>0.01</td>\n",
       "      <td>0.00</td>\n",
       "      <td>-0.70</td>\n",
       "      <td>0.92</td>\n",
       "      <td>-0.76</td>\n",
       "      <td>1.00</td>\n",
       "    </tr>\n",
       "  </tbody>\n",
       "</table>\n",
       "</div>"
      ],
      "text/plain": [
       "                       ORDER_NUMBER  DELIVERY_DAYS  DELIVERY_CHARGE  \\\n",
       "ORDER_NUMBER                   1.00          -0.40             0.20   \n",
       "DELIVERY_DAYS                 -0.40           1.00             0.10   \n",
       "DELIVERY_CHARGE                0.20           0.10             1.00   \n",
       "TOTAL_ORDER_VALUE_NET          0.03           0.21             0.66   \n",
       "NUMBER_ARTICLES                0.01           0.12             0.28   \n",
       "ORDER_STATUS                  -0.00           0.03             0.07   \n",
       "CREATION_MONTH                -0.29           0.28             0.01   \n",
       "CREATION_YEAR                  0.81          -0.43             0.12   \n",
       "COMPLETED_MONTH               -0.20           0.18             0.03   \n",
       "COMPLETED_YEAR                 0.78          -0.36             0.12   \n",
       "\n",
       "                       TOTAL_ORDER_VALUE_NET  NUMBER_ARTICLES  ORDER_STATUS  \\\n",
       "ORDER_NUMBER                            0.03             0.01         -0.00   \n",
       "DELIVERY_DAYS                           0.21             0.12          0.03   \n",
       "DELIVERY_CHARGE                         0.66             0.28          0.07   \n",
       "TOTAL_ORDER_VALUE_NET                   1.00             0.49          0.14   \n",
       "NUMBER_ARTICLES                         0.49             1.00          0.12   \n",
       "ORDER_STATUS                            0.14             0.12          1.00   \n",
       "CREATION_MONTH                         -0.00            -0.00         -0.01   \n",
       "CREATION_YEAR                           0.02             0.01          0.00   \n",
       "COMPLETED_MONTH                         0.01             0.00         -0.01   \n",
       "COMPLETED_YEAR                          0.02             0.01          0.00   \n",
       "\n",
       "                       CREATION_MONTH  CREATION_YEAR  COMPLETED_MONTH  \\\n",
       "ORDER_NUMBER                    -0.29           0.81            -0.20   \n",
       "DELIVERY_DAYS                    0.28          -0.43             0.18   \n",
       "DELIVERY_CHARGE                  0.01           0.12             0.03   \n",
       "TOTAL_ORDER_VALUE_NET           -0.00           0.02             0.01   \n",
       "NUMBER_ARTICLES                 -0.00           0.01             0.00   \n",
       "ORDER_STATUS                    -0.01           0.00            -0.01   \n",
       "CREATION_MONTH                   1.00          -0.79             0.81   \n",
       "CREATION_YEAR                   -0.79           1.00            -0.62   \n",
       "COMPLETED_MONTH                  0.81          -0.62             1.00   \n",
       "COMPLETED_YEAR                  -0.70           0.92            -0.76   \n",
       "\n",
       "                       COMPLETED_YEAR  \n",
       "ORDER_NUMBER                     0.78  \n",
       "DELIVERY_DAYS                   -0.36  \n",
       "DELIVERY_CHARGE                  0.12  \n",
       "TOTAL_ORDER_VALUE_NET            0.02  \n",
       "NUMBER_ARTICLES                  0.01  \n",
       "ORDER_STATUS                     0.00  \n",
       "CREATION_MONTH                  -0.70  \n",
       "CREATION_YEAR                    0.92  \n",
       "COMPLETED_MONTH                 -0.76  \n",
       "COMPLETED_YEAR                   1.00  "
      ]
     },
     "execution_count": 26,
     "metadata": {},
     "output_type": "execute_result"
    }
   ],
   "source": [
    "df_a1.corr(method='spearman')"
   ]
  },
  {
   "cell_type": "markdown",
   "metadata": {},
   "source": [
    "## Handling missing values"
   ]
  },
  {
   "cell_type": "code",
   "execution_count": 27,
   "metadata": {},
   "outputs": [
    {
     "data": {
      "text/plain": [
       "ORDER_NUMBER                   0\n",
       "CREATION_DATE                  0\n",
       "COMPLETED_DATE                 0\n",
       "DELIVERY_DAYS                  0\n",
       "ORDER_METHOD                   0\n",
       "DELIVERY_WAY                   0\n",
       "FAMILY_CUST                    0\n",
       "CUSTOMER_TYPE                 32\n",
       "DELIVERY_ZIPCODE               0\n",
       "CREATED_ZIPCODE             5179\n",
       "DELIVERY_CHARGE                0\n",
       "TOTAL_ORDER_VALUE_NET         32\n",
       "NUMBER_ARTICLES             2696\n",
       "RETURN_CREAT             2853979\n",
       "RETURN_COMPL             2855374\n",
       "ORDER_STATUS                   0\n",
       "CREATION_DAY                   0\n",
       "CREATION_MONTH                 0\n",
       "CREATION_YEAR                  0\n",
       "COMPLETED_DAY                  0\n",
       "COMPLETED_MONTH                0\n",
       "COMPLETED_YEAR                 0\n",
       "dtype: int64"
      ]
     },
     "execution_count": 27,
     "metadata": {},
     "output_type": "execute_result"
    }
   ],
   "source": [
    "df_a1.isnull().sum()"
   ]
  },
  {
   "cell_type": "code",
   "execution_count": 28,
   "metadata": {},
   "outputs": [
    {
     "data": {
      "text/plain": [
       "5337"
      ]
     },
     "execution_count": 28,
     "metadata": {},
     "output_type": "execute_result"
    }
   ],
   "source": [
    "len(df_a1[(df_a1['CREATED_ZIPCODE']!=df_a1['DELIVERY_ZIPCODE'])])"
   ]
  },
  {
   "cell_type": "code",
   "execution_count": 29,
   "metadata": {},
   "outputs": [],
   "source": [
    "df_a2 = df_a1.drop(['RETURN_CREAT', 'RETURN_COMPL', 'CREATED_ZIPCODE'], axis=1)"
   ]
  },
  {
   "cell_type": "code",
   "execution_count": 30,
   "metadata": {},
   "outputs": [
    {
     "data": {
      "text/plain": [
       "PRIVATE     2831982\n",
       "BUSINESS     152259\n",
       "Name: CUSTOMER_TYPE, dtype: int64"
      ]
     },
     "execution_count": 30,
     "metadata": {},
     "output_type": "execute_result"
    }
   ],
   "source": [
    "df_a2['CUSTOMER_TYPE'].value_counts()"
   ]
  },
  {
   "cell_type": "code",
   "execution_count": 31,
   "metadata": {},
   "outputs": [],
   "source": [
    "df_a2['CUSTOMER_TYPE'].fillna(df_a2['CUSTOMER_TYPE'].mode()[0], inplace=True)"
   ]
  },
  {
   "cell_type": "code",
   "execution_count": 32,
   "metadata": {},
   "outputs": [],
   "source": [
    "df_a2['TOTAL_ORDER_VALUE_NET'].fillna(df_a2['TOTAL_ORDER_VALUE_NET'].median(), inplace=True)\n",
    "df_a2['NUMBER_ARTICLES'].fillna(df_a2['NUMBER_ARTICLES'].median(), inplace=True)"
   ]
  },
  {
   "cell_type": "code",
   "execution_count": 33,
   "metadata": {},
   "outputs": [
    {
     "data": {
      "text/plain": [
       "ORDER_NUMBER             0\n",
       "CREATION_DATE            0\n",
       "COMPLETED_DATE           0\n",
       "DELIVERY_DAYS            0\n",
       "ORDER_METHOD             0\n",
       "DELIVERY_WAY             0\n",
       "FAMILY_CUST              0\n",
       "CUSTOMER_TYPE            0\n",
       "DELIVERY_ZIPCODE         0\n",
       "DELIVERY_CHARGE          0\n",
       "TOTAL_ORDER_VALUE_NET    0\n",
       "NUMBER_ARTICLES          0\n",
       "ORDER_STATUS             0\n",
       "CREATION_DAY             0\n",
       "CREATION_MONTH           0\n",
       "CREATION_YEAR            0\n",
       "COMPLETED_DAY            0\n",
       "COMPLETED_MONTH          0\n",
       "COMPLETED_YEAR           0\n",
       "dtype: int64"
      ]
     },
     "execution_count": 33,
     "metadata": {},
     "output_type": "execute_result"
    }
   ],
   "source": [
    "df_a2.isnull().sum()"
   ]
  },
  {
   "cell_type": "markdown",
   "metadata": {},
   "source": [
    "## Outliers treatment"
   ]
  },
  {
   "cell_type": "code",
   "execution_count": 36,
   "metadata": {},
   "outputs": [
    {
     "data": {
      "image/png": "[encoded data removed]",
      "text/plain": [
       "<Figure size 1152x1152 with 4 Axes>"
      ]
     },
     "metadata": {
      "needs_background": "light"
     },
     "output_type": "display_data"
    }
   ],
   "source": [
    "fig = plt.figure(figsize=(16,16))\n",
    "ax1 = fig.add_subplot(221)\n",
    "sns.distplot(df_a2['DELIVERY_DAYS'], hist=True, ax=ax1)\n",
    "ax2 = fig.add_subplot(222)\n",
    "sns.distplot(df_a2['TOTAL_ORDER_VALUE_NET'], hist=True, ax=ax2)\n",
    "ax3 = fig.add_subplot(223)\n",
    "sns.distplot(df_a2['NUMBER_ARTICLES'], hist=True, ax=ax3)\n",
    "ax4 = fig.add_subplot(224)\n",
    "sns.distplot(df_a2['DELIVERY_CHARGE'], hist=True, ax=ax4)\n",
    "plt.show()"
   ]
  },
  {
   "cell_type": "code",
   "execution_count": 37,
   "metadata": {},
   "outputs": [
    {
     "data": {
      "text/plain": [
       "13410"
      ]
     },
     "execution_count": 37,
     "metadata": {},
     "output_type": "execute_result"
    }
   ],
   "source": [
    "len(df_a2[df_a2['NUMBER_ARTICLES']>100])"
   ]
  },
  {
   "cell_type": "code",
   "execution_count": 38,
   "metadata": {},
   "outputs": [
    {
     "data": {
      "text/plain": [
       "14660"
      ]
     },
     "execution_count": 38,
     "metadata": {},
     "output_type": "execute_result"
    }
   ],
   "source": [
    "len(df_a2[df_a2['DELIVERY_DAYS']>50])"
   ]
  },
  {
   "cell_type": "code",
   "execution_count": 39,
   "metadata": {},
   "outputs": [
    {
     "data": {
      "text/plain": [
       "14288"
      ]
     },
     "execution_count": 39,
     "metadata": {},
     "output_type": "execute_result"
    }
   ],
   "source": [
    "len(df_a2[df_a2['TOTAL_ORDER_VALUE_NET']>2100])"
   ]
  },
  {
   "cell_type": "code",
   "execution_count": 40,
   "metadata": {},
   "outputs": [
    {
     "data": {
      "text/plain": [
       "36318"
      ]
     },
     "execution_count": 40,
     "metadata": {},
     "output_type": "execute_result"
    }
   ],
   "source": [
    "len(df_a2[(df_a2['NUMBER_ARTICLES']>100) | (df_a2['DELIVERY_DAYS']>50) | (df_a2['TOTAL_ORDER_VALUE_NET']>2100)])"
   ]
  },
  {
   "cell_type": "code",
   "execution_count": 41,
   "metadata": {},
   "outputs": [],
   "source": [
    "df_outlier = df_a2[(df_a2['NUMBER_ARTICLES']>100) | (df_a2['DELIVERY_DAYS']>50) | (df_a2['TOTAL_ORDER_VALUE_NET']>2100)]"
   ]
  },
  {
   "cell_type": "code",
   "execution_count": 42,
   "metadata": {},
   "outputs": [
    {
     "data": {
      "text/plain": [
       "<matplotlib.axes._subplots.AxesSubplot at 0x17c40e58550>"
      ]
     },
     "execution_count": 42,
     "metadata": {},
     "output_type": "execute_result"
    },
    {
     "data": {
      "image/png": "[encoded data removed]",
      "text/plain": [
       "<Figure size 432x288 with 1 Axes>"
      ]
     },
     "metadata": {
      "needs_background": "light"
     },
     "output_type": "display_data"
    }
   ],
   "source": [
    "df_outlier['ORDER_STATUS'].value_counts(normalize=True).plot.bar(title='Order Status')"
   ]
  },
  {
   "cell_type": "code",
   "execution_count": 43,
   "metadata": {},
   "outputs": [],
   "source": [
    "df_b1 = df_a2[(df_a2['NUMBER_ARTICLES']<=100) & (df_a2['DELIVERY_DAYS']<=50) & (df_a2['TOTAL_ORDER_VALUE_NET']<=2100)]"
   ]
  },
  {
   "cell_type": "code",
   "execution_count": 44,
   "metadata": {},
   "outputs": [],
   "source": [
    "df_a3 = df_a2.copy()"
   ]
  },
  {
   "cell_type": "code",
   "execution_count": 45,
   "metadata": {},
   "outputs": [],
   "source": [
    "df_a3['NUMBER_ARTICLES'] = df_a3['NUMBER_ARTICLES'].clip(0, 100)"
   ]
  },
  {
   "cell_type": "code",
   "execution_count": 46,
   "metadata": {},
   "outputs": [],
   "source": [
    "df_a3['DELIVERY_DAYS'] = df_a3['DELIVERY_DAYS'].clip(0, 50)"
   ]
  },
  {
   "cell_type": "code",
   "execution_count": 47,
   "metadata": {},
   "outputs": [],
   "source": [
    "df_a3['TOTAL_ORDER_VALUE_NET'] = df_a3['TOTAL_ORDER_VALUE_NET'].clip(0, 2100)"
   ]
  },
  {
   "cell_type": "code",
   "execution_count": 48,
   "metadata": {},
   "outputs": [
    {
     "data": {
      "image/png": "[encoded data removed]",
      "text/plain": [
       "<Figure size 1152x1152 with 3 Axes>"
      ]
     },
     "metadata": {
      "needs_background": "light"
     },
     "output_type": "display_data"
    }
   ],
   "source": [
    "fig = plt.figure(figsize=(16,16))\n",
    "ax1 = fig.add_subplot(221)\n",
    "sns.boxplot(x=df_a3['ORDER_STATUS'], y=df_a3['NUMBER_ARTICLES'], ax=ax1)\n",
    "ax2 = fig.add_subplot(222)\n",
    "sns.boxplot(x=df_a3['ORDER_STATUS'], y=df_a3['DELIVERY_DAYS'], ax=ax2)\n",
    "ax3 = fig.add_subplot(223)\n",
    "sns.boxplot(x=df_a3['ORDER_STATUS'], y=df_a3['TOTAL_ORDER_VALUE_NET'], ax=ax3)\n",
    "plt.show()"
   ]
  },
  {
   "cell_type": "code",
   "execution_count": 49,
   "metadata": {},
   "outputs": [
    {
     "data": {
      "text/html": [
       "<div>\n",
       "<style scoped>\n",
       "    .dataframe tbody tr th:only-of-type {\n",
       "        vertical-align: middle;\n",
       "    }\n",
       "\n",
       "    .dataframe tbody tr th {\n",
       "        vertical-align: top;\n",
       "    }\n",
       "\n",
       "    .dataframe thead th {\n",
       "        text-align: right;\n",
       "    }\n",
       "</style>\n",
       "<table border=\"1\" class=\"dataframe\">\n",
       "  <thead>\n",
       "    <tr style=\"text-align: right;\">\n",
       "      <th></th>\n",
       "      <th>ORDER_NUMBER</th>\n",
       "      <th>CREATION_DATE</th>\n",
       "      <th>COMPLETED_DATE</th>\n",
       "      <th>DELIVERY_DAYS</th>\n",
       "      <th>ORDER_METHOD</th>\n",
       "      <th>DELIVERY_WAY</th>\n",
       "      <th>FAMILY_CUST</th>\n",
       "      <th>CUSTOMER_TYPE</th>\n",
       "      <th>DELIVERY_ZIPCODE</th>\n",
       "      <th>DELIVERY_CHARGE</th>\n",
       "      <th>TOTAL_ORDER_VALUE_NET</th>\n",
       "      <th>NUMBER_ARTICLES</th>\n",
       "      <th>ORDER_STATUS</th>\n",
       "      <th>CREATION_DAY</th>\n",
       "      <th>CREATION_MONTH</th>\n",
       "      <th>CREATION_YEAR</th>\n",
       "      <th>COMPLETED_DAY</th>\n",
       "      <th>COMPLETED_MONTH</th>\n",
       "      <th>COMPLETED_YEAR</th>\n",
       "    </tr>\n",
       "  </thead>\n",
       "  <tbody>\n",
       "    <tr>\n",
       "      <th>0</th>\n",
       "      <td>1003228436</td>\n",
       "      <td>2018-12-11</td>\n",
       "      <td>2019-01-03</td>\n",
       "      <td>23</td>\n",
       "      <td>INTERNET</td>\n",
       "      <td>TRUCK</td>\n",
       "      <td>NOT FAMILY</td>\n",
       "      <td>PRIVATE</td>\n",
       "      <td>3</td>\n",
       "      <td>49.00</td>\n",
       "      <td>352.10</td>\n",
       "      <td>4.00</td>\n",
       "      <td>0</td>\n",
       "      <td>Tuesday</td>\n",
       "      <td>12</td>\n",
       "      <td>2018</td>\n",
       "      <td>Thursday</td>\n",
       "      <td>1</td>\n",
       "      <td>2019</td>\n",
       "    </tr>\n",
       "    <tr>\n",
       "      <th>1</th>\n",
       "      <td>1006775526</td>\n",
       "      <td>2018-12-11</td>\n",
       "      <td>2018-12-27</td>\n",
       "      <td>16</td>\n",
       "      <td>INTERNET</td>\n",
       "      <td>PARCEL</td>\n",
       "      <td>NOT FAMILY</td>\n",
       "      <td>PRIVATE</td>\n",
       "      <td>9</td>\n",
       "      <td>3.90</td>\n",
       "      <td>45.29</td>\n",
       "      <td>1.00</td>\n",
       "      <td>0</td>\n",
       "      <td>Tuesday</td>\n",
       "      <td>12</td>\n",
       "      <td>2018</td>\n",
       "      <td>Thursday</td>\n",
       "      <td>12</td>\n",
       "      <td>2018</td>\n",
       "    </tr>\n",
       "    <tr>\n",
       "      <th>2</th>\n",
       "      <td>1004023040</td>\n",
       "      <td>2018-12-11</td>\n",
       "      <td>2018-12-27</td>\n",
       "      <td>16</td>\n",
       "      <td>INTERNET</td>\n",
       "      <td>PARCEL</td>\n",
       "      <td>NOT FAMILY</td>\n",
       "      <td>PRIVATE</td>\n",
       "      <td>8</td>\n",
       "      <td>3.90</td>\n",
       "      <td>36.88</td>\n",
       "      <td>2.00</td>\n",
       "      <td>0</td>\n",
       "      <td>Tuesday</td>\n",
       "      <td>12</td>\n",
       "      <td>2018</td>\n",
       "      <td>Thursday</td>\n",
       "      <td>12</td>\n",
       "      <td>2018</td>\n",
       "    </tr>\n",
       "    <tr>\n",
       "      <th>3</th>\n",
       "      <td>1006574902</td>\n",
       "      <td>2018-12-10</td>\n",
       "      <td>2018-12-27</td>\n",
       "      <td>17</td>\n",
       "      <td>INTERNET</td>\n",
       "      <td>PARCEL</td>\n",
       "      <td>NOT FAMILY</td>\n",
       "      <td>PRIVATE</td>\n",
       "      <td>5</td>\n",
       "      <td>3.90</td>\n",
       "      <td>17.56</td>\n",
       "      <td>1.00</td>\n",
       "      <td>0</td>\n",
       "      <td>Monday</td>\n",
       "      <td>12</td>\n",
       "      <td>2018</td>\n",
       "      <td>Thursday</td>\n",
       "      <td>12</td>\n",
       "      <td>2018</td>\n",
       "    </tr>\n",
       "    <tr>\n",
       "      <th>4</th>\n",
       "      <td>1004384508</td>\n",
       "      <td>2018-12-07</td>\n",
       "      <td>2018-12-28</td>\n",
       "      <td>21</td>\n",
       "      <td>INTERNET</td>\n",
       "      <td>TRUCK</td>\n",
       "      <td>NOT FAMILY</td>\n",
       "      <td>PRIVATE</td>\n",
       "      <td>1</td>\n",
       "      <td>49.00</td>\n",
       "      <td>316.81</td>\n",
       "      <td>4.00</td>\n",
       "      <td>0</td>\n",
       "      <td>Friday</td>\n",
       "      <td>12</td>\n",
       "      <td>2018</td>\n",
       "      <td>Friday</td>\n",
       "      <td>12</td>\n",
       "      <td>2018</td>\n",
       "    </tr>\n",
       "  </tbody>\n",
       "</table>\n",
       "</div>"
      ],
      "text/plain": [
       "   ORDER_NUMBER CREATION_DATE COMPLETED_DATE  DELIVERY_DAYS ORDER_METHOD  \\\n",
       "0    1003228436    2018-12-11     2019-01-03             23     INTERNET   \n",
       "1    1006775526    2018-12-11     2018-12-27             16     INTERNET   \n",
       "2    1004023040    2018-12-11     2018-12-27             16     INTERNET   \n",
       "3    1006574902    2018-12-10     2018-12-27             17     INTERNET   \n",
       "4    1004384508    2018-12-07     2018-12-28             21     INTERNET   \n",
       "\n",
       "  DELIVERY_WAY FAMILY_CUST CUSTOMER_TYPE DELIVERY_ZIPCODE  DELIVERY_CHARGE  \\\n",
       "0        TRUCK  NOT FAMILY       PRIVATE                3            49.00   \n",
       "1       PARCEL  NOT FAMILY       PRIVATE                9             3.90   \n",
       "2       PARCEL  NOT FAMILY       PRIVATE                8             3.90   \n",
       "3       PARCEL  NOT FAMILY       PRIVATE                5             3.90   \n",
       "4        TRUCK  NOT FAMILY       PRIVATE                1            49.00   \n",
       "\n",
       "   TOTAL_ORDER_VALUE_NET  NUMBER_ARTICLES  ORDER_STATUS CREATION_DAY  \\\n",
       "0                 352.10             4.00             0      Tuesday   \n",
       "1                  45.29             1.00             0      Tuesday   \n",
       "2                  36.88             2.00             0      Tuesday   \n",
       "3                  17.56             1.00             0       Monday   \n",
       "4                 316.81             4.00             0       Friday   \n",
       "\n",
       "   CREATION_MONTH  CREATION_YEAR COMPLETED_DAY  COMPLETED_MONTH  \\\n",
       "0              12           2018      Thursday                1   \n",
       "1              12           2018      Thursday               12   \n",
       "2              12           2018      Thursday               12   \n",
       "3              12           2018      Thursday               12   \n",
       "4              12           2018        Friday               12   \n",
       "\n",
       "   COMPLETED_YEAR  \n",
       "0            2019  \n",
       "1            2018  \n",
       "2            2018  \n",
       "3            2018  \n",
       "4            2018  "
      ]
     },
     "execution_count": 49,
     "metadata": {},
     "output_type": "execute_result"
    }
   ],
   "source": [
    "df_a3.head()"
   ]
  },
  {
   "cell_type": "markdown",
   "metadata": {},
   "source": [
    "## Sampling of dataset"
   ]
  },
  {
   "cell_type": "code",
   "execution_count": 51,
   "metadata": {},
   "outputs": [
    {
     "data": {
      "text/plain": [
       "0    900000\n",
       "1    130294\n",
       "Name: ORDER_STATUS, dtype: int64"
      ]
     },
     "execution_count": 51,
     "metadata": {},
     "output_type": "execute_result"
    }
   ],
   "source": [
    "#downsampling for outliers limited dataframe\n",
    "shuffled_df1 = df_a3.sample(frac=1, random_state=1000)\n",
    "df_majority1 = shuffled_df1.loc[shuffled_df1['ORDER_STATUS']==0].sample(n=900000, random_state=1000)\n",
    "df_minority1 = shuffled_df1.loc[shuffled_df1['ORDER_STATUS']==1]\n",
    "df_downsampled1 = pd.concat([df_majority1, df_minority1])\n",
    "df_downsampled1 = df_downsampled1.sample(frac=1, random_state=1000)\n",
    "df_downsampled1['ORDER_STATUS'].value_counts()"
   ]
  },
  {
   "cell_type": "code",
   "execution_count": 52,
   "metadata": {},
   "outputs": [
    {
     "data": {
      "text/plain": [
       "0    900000\n",
       "1    123426\n",
       "Name: ORDER_STATUS, dtype: int64"
      ]
     },
     "execution_count": 52,
     "metadata": {},
     "output_type": "execute_result"
    }
   ],
   "source": [
    "#downsampling for outliers removed dataframe\n",
    "shuffled_df2 = df_b1.sample(frac=1, random_state=1000)\n",
    "df_majority2 = shuffled_df2.loc[shuffled_df2['ORDER_STATUS']==0].sample(n=900000, random_state=1000)\n",
    "df_minority2 = shuffled_df2.loc[shuffled_df2['ORDER_STATUS']==1]\n",
    "df_downsampled2 = pd.concat([df_majority2, df_minority2])\n",
    "df_downsampled2 = df_downsampled2.sample(frac=1, random_state=1000)\n",
    "df_downsampled2['ORDER_STATUS'].value_counts()"
   ]
  },
  {
   "cell_type": "code",
   "execution_count": 53,
   "metadata": {},
   "outputs": [],
   "source": [
    "df_a4 = df_downsampled1.copy()\n",
    "df_b2 = df_downsampled2.copy()"
   ]
  },
  {
   "cell_type": "markdown",
   "metadata": {},
   "source": [
    "## Building the classifier model "
   ]
  },
  {
   "cell_type": "code",
   "execution_count": 219,
   "metadata": {},
   "outputs": [],
   "source": [
    "X = df_a3.drop(['ORDER_STATUS', 'CREATION_DATE', 'COMPLETED_DATE', 'ORDER_NUMBER', 'DELIVERY_ZIPCODE', 'CREATION_DAY', 'COMPLETED_DAY'], axis=1)\n",
    "y = df_a3.ORDER_STATUS"
   ]
  },
  {
   "cell_type": "code",
   "execution_count": 220,
   "metadata": {},
   "outputs": [],
   "source": [
    "X = pd.get_dummies(X)"
   ]
  },
  {
   "cell_type": "code",
   "execution_count": 221,
   "metadata": {},
   "outputs": [
    {
     "data": {
      "text/html": [
       "<div>\n",
       "<style scoped>\n",
       "    .dataframe tbody tr th:only-of-type {\n",
       "        vertical-align: middle;\n",
       "    }\n",
       "\n",
       "    .dataframe tbody tr th {\n",
       "        vertical-align: top;\n",
       "    }\n",
       "\n",
       "    .dataframe thead th {\n",
       "        text-align: right;\n",
       "    }\n",
       "</style>\n",
       "<table border=\"1\" class=\"dataframe\">\n",
       "  <thead>\n",
       "    <tr style=\"text-align: right;\">\n",
       "      <th></th>\n",
       "      <th>DELIVERY_DAYS</th>\n",
       "      <th>DELIVERY_CHARGE</th>\n",
       "      <th>TOTAL_ORDER_VALUE_NET</th>\n",
       "      <th>NUMBER_ARTICLES</th>\n",
       "      <th>CREATION_MONTH</th>\n",
       "      <th>CREATION_YEAR</th>\n",
       "      <th>COMPLETED_MONTH</th>\n",
       "      <th>COMPLETED_YEAR</th>\n",
       "      <th>ORDER_METHOD_INTERNET</th>\n",
       "      <th>ORDER_METHOD_LETTER</th>\n",
       "      <th>ORDER_METHOD_PHONE</th>\n",
       "      <th>ORDER_METHOD_STORE</th>\n",
       "      <th>ORDER_METHOD_TELANSMACH</th>\n",
       "      <th>DELIVERY_WAY_MIXED ORDER</th>\n",
       "      <th>DELIVERY_WAY_PARCEL</th>\n",
       "      <th>DELIVERY_WAY_TRUCK</th>\n",
       "      <th>FAMILY_CUST_FAMILY</th>\n",
       "      <th>FAMILY_CUST_NOT FAMILY</th>\n",
       "      <th>CUSTOMER_TYPE_BUSINESS</th>\n",
       "      <th>CUSTOMER_TYPE_PRIVATE</th>\n",
       "    </tr>\n",
       "  </thead>\n",
       "  <tbody>\n",
       "    <tr>\n",
       "      <th>0</th>\n",
       "      <td>23</td>\n",
       "      <td>49.00</td>\n",
       "      <td>352.10</td>\n",
       "      <td>4.00</td>\n",
       "      <td>12</td>\n",
       "      <td>2018</td>\n",
       "      <td>1</td>\n",
       "      <td>2019</td>\n",
       "      <td>1</td>\n",
       "      <td>0</td>\n",
       "      <td>0</td>\n",
       "      <td>0</td>\n",
       "      <td>0</td>\n",
       "      <td>0</td>\n",
       "      <td>0</td>\n",
       "      <td>1</td>\n",
       "      <td>0</td>\n",
       "      <td>1</td>\n",
       "      <td>0</td>\n",
       "      <td>1</td>\n",
       "    </tr>\n",
       "    <tr>\n",
       "      <th>1</th>\n",
       "      <td>16</td>\n",
       "      <td>3.90</td>\n",
       "      <td>45.29</td>\n",
       "      <td>1.00</td>\n",
       "      <td>12</td>\n",
       "      <td>2018</td>\n",
       "      <td>12</td>\n",
       "      <td>2018</td>\n",
       "      <td>1</td>\n",
       "      <td>0</td>\n",
       "      <td>0</td>\n",
       "      <td>0</td>\n",
       "      <td>0</td>\n",
       "      <td>0</td>\n",
       "      <td>1</td>\n",
       "      <td>0</td>\n",
       "      <td>0</td>\n",
       "      <td>1</td>\n",
       "      <td>0</td>\n",
       "      <td>1</td>\n",
       "    </tr>\n",
       "    <tr>\n",
       "      <th>2</th>\n",
       "      <td>16</td>\n",
       "      <td>3.90</td>\n",
       "      <td>36.88</td>\n",
       "      <td>2.00</td>\n",
       "      <td>12</td>\n",
       "      <td>2018</td>\n",
       "      <td>12</td>\n",
       "      <td>2018</td>\n",
       "      <td>1</td>\n",
       "      <td>0</td>\n",
       "      <td>0</td>\n",
       "      <td>0</td>\n",
       "      <td>0</td>\n",
       "      <td>0</td>\n",
       "      <td>1</td>\n",
       "      <td>0</td>\n",
       "      <td>0</td>\n",
       "      <td>1</td>\n",
       "      <td>0</td>\n",
       "      <td>1</td>\n",
       "    </tr>\n",
       "    <tr>\n",
       "      <th>3</th>\n",
       "      <td>17</td>\n",
       "      <td>3.90</td>\n",
       "      <td>17.56</td>\n",
       "      <td>1.00</td>\n",
       "      <td>12</td>\n",
       "      <td>2018</td>\n",
       "      <td>12</td>\n",
       "      <td>2018</td>\n",
       "      <td>1</td>\n",
       "      <td>0</td>\n",
       "      <td>0</td>\n",
       "      <td>0</td>\n",
       "      <td>0</td>\n",
       "      <td>0</td>\n",
       "      <td>1</td>\n",
       "      <td>0</td>\n",
       "      <td>0</td>\n",
       "      <td>1</td>\n",
       "      <td>0</td>\n",
       "      <td>1</td>\n",
       "    </tr>\n",
       "    <tr>\n",
       "      <th>4</th>\n",
       "      <td>21</td>\n",
       "      <td>49.00</td>\n",
       "      <td>316.81</td>\n",
       "      <td>4.00</td>\n",
       "      <td>12</td>\n",
       "      <td>2018</td>\n",
       "      <td>12</td>\n",
       "      <td>2018</td>\n",
       "      <td>1</td>\n",
       "      <td>0</td>\n",
       "      <td>0</td>\n",
       "      <td>0</td>\n",
       "      <td>0</td>\n",
       "      <td>0</td>\n",
       "      <td>0</td>\n",
       "      <td>1</td>\n",
       "      <td>0</td>\n",
       "      <td>1</td>\n",
       "      <td>0</td>\n",
       "      <td>1</td>\n",
       "    </tr>\n",
       "  </tbody>\n",
       "</table>\n",
       "</div>"
      ],
      "text/plain": [
       "   DELIVERY_DAYS  DELIVERY_CHARGE  TOTAL_ORDER_VALUE_NET  NUMBER_ARTICLES  \\\n",
       "0             23            49.00                 352.10             4.00   \n",
       "1             16             3.90                  45.29             1.00   \n",
       "2             16             3.90                  36.88             2.00   \n",
       "3             17             3.90                  17.56             1.00   \n",
       "4             21            49.00                 316.81             4.00   \n",
       "\n",
       "   CREATION_MONTH  CREATION_YEAR  COMPLETED_MONTH  COMPLETED_YEAR  \\\n",
       "0              12           2018                1            2019   \n",
       "1              12           2018               12            2018   \n",
       "2              12           2018               12            2018   \n",
       "3              12           2018               12            2018   \n",
       "4              12           2018               12            2018   \n",
       "\n",
       "   ORDER_METHOD_INTERNET  ORDER_METHOD_LETTER  ORDER_METHOD_PHONE  \\\n",
       "0                      1                    0                   0   \n",
       "1                      1                    0                   0   \n",
       "2                      1                    0                   0   \n",
       "3                      1                    0                   0   \n",
       "4                      1                    0                   0   \n",
       "\n",
       "   ORDER_METHOD_STORE  ORDER_METHOD_TELANSMACH  DELIVERY_WAY_MIXED ORDER  \\\n",
       "0                   0                        0                         0   \n",
       "1                   0                        0                         0   \n",
       "2                   0                        0                         0   \n",
       "3                   0                        0                         0   \n",
       "4                   0                        0                         0   \n",
       "\n",
       "   DELIVERY_WAY_PARCEL  DELIVERY_WAY_TRUCK  FAMILY_CUST_FAMILY  \\\n",
       "0                    0                   1                   0   \n",
       "1                    1                   0                   0   \n",
       "2                    1                   0                   0   \n",
       "3                    1                   0                   0   \n",
       "4                    0                   1                   0   \n",
       "\n",
       "   FAMILY_CUST_NOT FAMILY  CUSTOMER_TYPE_BUSINESS  CUSTOMER_TYPE_PRIVATE  \n",
       "0                       1                       0                      1  \n",
       "1                       1                       0                      1  \n",
       "2                       1                       0                      1  \n",
       "3                       1                       0                      1  \n",
       "4                       1                       0                      1  "
      ]
     },
     "execution_count": 221,
     "metadata": {},
     "output_type": "execute_result"
    }
   ],
   "source": [
    "X.head()"
   ]
  },
  {
   "cell_type": "code",
   "execution_count": 222,
   "metadata": {},
   "outputs": [
    {
     "name": "stdout",
     "output_type": "stream",
     "text": [
      "<class 'pandas.core.frame.DataFrame'>\n",
      "RangeIndex: 2984273 entries, 0 to 2984272\n",
      "Data columns (total 20 columns):\n",
      "DELIVERY_DAYS               int64\n",
      "DELIVERY_CHARGE             float64\n",
      "TOTAL_ORDER_VALUE_NET       float64\n",
      "NUMBER_ARTICLES             float64\n",
      "CREATION_MONTH              int64\n",
      "CREATION_YEAR               int64\n",
      "COMPLETED_MONTH             int64\n",
      "COMPLETED_YEAR              int64\n",
      "ORDER_METHOD_INTERNET       uint8\n",
      "ORDER_METHOD_LETTER         uint8\n",
      "ORDER_METHOD_PHONE          uint8\n",
      "ORDER_METHOD_STORE          uint8\n",
      "ORDER_METHOD_TELANSMACH     uint8\n",
      "DELIVERY_WAY_MIXED ORDER    uint8\n",
      "DELIVERY_WAY_PARCEL         uint8\n",
      "DELIVERY_WAY_TRUCK          uint8\n",
      "FAMILY_CUST_FAMILY          uint8\n",
      "FAMILY_CUST_NOT FAMILY      uint8\n",
      "CUSTOMER_TYPE_BUSINESS      uint8\n",
      "CUSTOMER_TYPE_PRIVATE       uint8\n",
      "dtypes: float64(3), int64(5), uint8(12)\n",
      "memory usage: 216.3 MB\n"
     ]
    }
   ],
   "source": [
    "X.info()"
   ]
  },
  {
   "cell_type": "code",
   "execution_count": 223,
   "metadata": {},
   "outputs": [],
   "source": [
    "X_train, X_test, y_train, y_test = train_test_split(X, y, test_size=0.3, random_state=1000)"
   ]
  },
  {
   "cell_type": "code",
   "execution_count": 224,
   "metadata": {},
   "outputs": [],
   "source": [
    "model_features = list(X_train.columns)"
   ]
  },
  {
   "cell_type": "markdown",
   "metadata": {},
   "source": [
    "### Scaler transformation "
   ]
  },
  {
   "cell_type": "code",
   "execution_count": 225,
   "metadata": {},
   "outputs": [],
   "source": [
    "sc = StandardScaler()"
   ]
  },
  {
   "cell_type": "code",
   "execution_count": 226,
   "metadata": {},
   "outputs": [],
   "source": [
    "X_train = sc.fit_transform(X_train)\n",
    "X_test = sc.transform(X_test)"
   ]
  },
  {
   "cell_type": "code",
   "execution_count": 227,
   "metadata": {},
   "outputs": [
    {
     "name": "stdout",
     "output_type": "stream",
     "text": [
      "C value is: 0.1\n",
      "Features importance: \n",
      "('DELIVERY_DAYS', 0.020287876498891057)\n",
      "('DELIVERY_CHARGE', 0.014583188254919607)\n",
      "('TOTAL_ORDER_VALUE_NET', 0.2623340213538226)\n",
      "('NUMBER_ARTICLES', 0.20281284549442205)\n",
      "('CREATION_MONTH', -0.12482646540699167)\n",
      "('CREATION_YEAR', -0.15800549139514644)\n",
      "('COMPLETED_MONTH', 0.008351521469213004)\n",
      "('COMPLETED_YEAR', 0.06847349405119947)\n",
      "('ORDER_METHOD_INTERNET', 0.06382346525584937)\n",
      "('ORDER_METHOD_LETTER', 0.007029519531948029)\n",
      "('ORDER_METHOD_PHONE', -0.0935970461524137)\n",
      "('ORDER_METHOD_STORE', 0.0007541629145517053)\n",
      "('ORDER_METHOD_TELANSMACH', 0.003429030741907612)\n",
      "('DELIVERY_WAY_MIXED ORDER', 0.0)\n",
      "('DELIVERY_WAY_PARCEL', 0.007753423777207876)\n",
      "('DELIVERY_WAY_TRUCK', -0.02851287404836172)\n",
      "('FAMILY_CUST_FAMILY', 0.12359956181165854)\n",
      "('FAMILY_CUST_NOT FAMILY', -0.06397787592592166)\n",
      "('CUSTOMER_TYPE_BUSINESS', -0.030980579113112222)\n",
      "('CUSTOMER_TYPE_PRIVATE', 0.09303777980860793)\n",
      "Accuracy score: 0.956480751316345\n",
      "[[855514    892]\n",
      " [ 38070    806]]\n",
      "             precision    recall  f1-score   support\n",
      "\n",
      "          0       0.96      1.00      0.98    856406\n",
      "          1       0.47      0.02      0.04     38876\n",
      "\n",
      "avg / total       0.94      0.96      0.94    895282\n",
      "\n",
      "C value is: 0.5\n",
      "Features importance: \n",
      "('DELIVERY_DAYS', 0.018648209496702126)\n",
      "('DELIVERY_CHARGE', 0.014720559778705096)\n",
      "('TOTAL_ORDER_VALUE_NET', 0.2623630343117977)\n",
      "('NUMBER_ARTICLES', 0.202823986726723)\n",
      "('CREATION_MONTH', -0.15104312642366943)\n",
      "('CREATION_YEAR', -0.19905882047188564)\n",
      "('COMPLETED_MONTH', 0.034472572488854894)\n",
      "('COMPLETED_YEAR', 0.10777243393997737)\n",
      "('ORDER_METHOD_INTERNET', 0.05169504945894527)\n",
      "('ORDER_METHOD_LETTER', 0.006012259939317881)\n",
      "('ORDER_METHOD_PHONE', -0.10599092074847184)\n",
      "('ORDER_METHOD_STORE', 0.0006195837565608242)\n",
      "('ORDER_METHOD_TELANSMACH', 0.0029500316214350272)\n",
      "('DELIVERY_WAY_MIXED ORDER', 0.0)\n",
      "('DELIVERY_WAY_PARCEL', 0.007733670237030178)\n",
      "('DELIVERY_WAY_TRUCK', -0.02877337369996119)\n",
      "('FAMILY_CUST_FAMILY', 0.11470227095209788)\n",
      "('FAMILY_CUST_NOT FAMILY', -0.07293563338585818)\n",
      "('CUSTOMER_TYPE_BUSINESS', -0.06809796665791398)\n",
      "('CUSTOMER_TYPE_PRIVATE', 0.05606381695792843)\n",
      "Accuracy score: 0.9564774004168519\n",
      "[[855510    896]\n",
      " [ 38069    807]]\n",
      "             precision    recall  f1-score   support\n",
      "\n",
      "          0       0.96      1.00      0.98    856406\n",
      "          1       0.47      0.02      0.04     38876\n",
      "\n",
      "avg / total       0.94      0.96      0.94    895282\n",
      "\n"
     ]
    }
   ],
   "source": [
    "# Logistics classifier\n",
    "C = [0.1, 0.5]\n",
    "for c in C:\n",
    "    print('C value is: ' + str(c))\n",
    "    model = LogisticRegression(C=c, penalty='l1')\n",
    "    model.fit(X_train, y_train)\n",
    "    print('Features importance: ')\n",
    "    for feature in zip(model_features, model.coef_[0]):\n",
    "        print(feature)\n",
    "    pred_test = model.predict(X_test)\n",
    "    print('Accuracy score: ' + str(accuracy_score(y_test, pred_test)))\n",
    "    print(confusion_matrix(y_test, pred_test))\n",
    "    print(classification_report(y_test, pred_test))"
   ]
  },
  {
   "cell_type": "code",
   "execution_count": 145,
   "metadata": {},
   "outputs": [
    {
     "data": {
      "text/html": [
       "<div>\n",
       "<style scoped>\n",
       "    .dataframe tbody tr th:only-of-type {\n",
       "        vertical-align: middle;\n",
       "    }\n",
       "\n",
       "    .dataframe tbody tr th {\n",
       "        vertical-align: top;\n",
       "    }\n",
       "\n",
       "    .dataframe thead th {\n",
       "        text-align: right;\n",
       "    }\n",
       "</style>\n",
       "<table border=\"1\" class=\"dataframe\">\n",
       "  <thead>\n",
       "    <tr style=\"text-align: right;\">\n",
       "      <th></th>\n",
       "      <th>DELIVERY_DAYS</th>\n",
       "      <th>DELIVERY_CHARGE</th>\n",
       "      <th>TOTAL_ORDER_VALUE_NET</th>\n",
       "      <th>NUMBER_ARTICLES</th>\n",
       "      <th>CREATION_MONTH</th>\n",
       "      <th>CREATION_YEAR</th>\n",
       "      <th>COMPLETED_MONTH</th>\n",
       "      <th>COMPLETED_YEAR</th>\n",
       "      <th>ORDER_METHOD_INTERNET</th>\n",
       "      <th>ORDER_METHOD_LETTER</th>\n",
       "      <th>ORDER_METHOD_PHONE</th>\n",
       "      <th>ORDER_METHOD_STORE</th>\n",
       "      <th>ORDER_METHOD_TELANSMACH</th>\n",
       "      <th>DELIVERY_WAY_MIXED ORDER</th>\n",
       "      <th>DELIVERY_WAY_PARCEL</th>\n",
       "      <th>DELIVERY_WAY_TRUCK</th>\n",
       "      <th>FAMILY_CUST_FAMILY</th>\n",
       "      <th>FAMILY_CUST_NOT FAMILY</th>\n",
       "      <th>CUSTOMER_TYPE_BUSINESS</th>\n",
       "      <th>CUSTOMER_TYPE_PRIVATE</th>\n",
       "    </tr>\n",
       "  </thead>\n",
       "  <tbody>\n",
       "    <tr>\n",
       "      <th>1256189</th>\n",
       "      <td>10</td>\n",
       "      <td>7.00</td>\n",
       "      <td>172.98</td>\n",
       "      <td>6.00</td>\n",
       "      <td>5</td>\n",
       "      <td>2019</td>\n",
       "      <td>6</td>\n",
       "      <td>2019</td>\n",
       "      <td>1</td>\n",
       "      <td>0</td>\n",
       "      <td>0</td>\n",
       "      <td>0</td>\n",
       "      <td>0</td>\n",
       "      <td>0</td>\n",
       "      <td>1</td>\n",
       "      <td>0</td>\n",
       "      <td>0</td>\n",
       "      <td>1</td>\n",
       "      <td>0</td>\n",
       "      <td>1</td>\n",
       "    </tr>\n",
       "    <tr>\n",
       "      <th>396086</th>\n",
       "      <td>10</td>\n",
       "      <td>99.00</td>\n",
       "      <td>652.10</td>\n",
       "      <td>47.00</td>\n",
       "      <td>2</td>\n",
       "      <td>2019</td>\n",
       "      <td>3</td>\n",
       "      <td>2019</td>\n",
       "      <td>1</td>\n",
       "      <td>0</td>\n",
       "      <td>0</td>\n",
       "      <td>0</td>\n",
       "      <td>0</td>\n",
       "      <td>0</td>\n",
       "      <td>0</td>\n",
       "      <td>1</td>\n",
       "      <td>1</td>\n",
       "      <td>0</td>\n",
       "      <td>0</td>\n",
       "      <td>1</td>\n",
       "    </tr>\n",
       "    <tr>\n",
       "      <th>1558019</th>\n",
       "      <td>6</td>\n",
       "      <td>3.90</td>\n",
       "      <td>104.10</td>\n",
       "      <td>2.00</td>\n",
       "      <td>3</td>\n",
       "      <td>2019</td>\n",
       "      <td>3</td>\n",
       "      <td>2019</td>\n",
       "      <td>1</td>\n",
       "      <td>0</td>\n",
       "      <td>0</td>\n",
       "      <td>0</td>\n",
       "      <td>0</td>\n",
       "      <td>0</td>\n",
       "      <td>1</td>\n",
       "      <td>0</td>\n",
       "      <td>1</td>\n",
       "      <td>0</td>\n",
       "      <td>0</td>\n",
       "      <td>1</td>\n",
       "    </tr>\n",
       "    <tr>\n",
       "      <th>944414</th>\n",
       "      <td>5</td>\n",
       "      <td>4.00</td>\n",
       "      <td>65.39</td>\n",
       "      <td>8.00</td>\n",
       "      <td>7</td>\n",
       "      <td>2019</td>\n",
       "      <td>7</td>\n",
       "      <td>2019</td>\n",
       "      <td>1</td>\n",
       "      <td>0</td>\n",
       "      <td>0</td>\n",
       "      <td>0</td>\n",
       "      <td>0</td>\n",
       "      <td>0</td>\n",
       "      <td>1</td>\n",
       "      <td>0</td>\n",
       "      <td>0</td>\n",
       "      <td>1</td>\n",
       "      <td>0</td>\n",
       "      <td>1</td>\n",
       "    </tr>\n",
       "    <tr>\n",
       "      <th>1137198</th>\n",
       "      <td>8</td>\n",
       "      <td>3.90</td>\n",
       "      <td>168.78</td>\n",
       "      <td>6.00</td>\n",
       "      <td>5</td>\n",
       "      <td>2019</td>\n",
       "      <td>5</td>\n",
       "      <td>2019</td>\n",
       "      <td>1</td>\n",
       "      <td>0</td>\n",
       "      <td>0</td>\n",
       "      <td>0</td>\n",
       "      <td>0</td>\n",
       "      <td>0</td>\n",
       "      <td>1</td>\n",
       "      <td>0</td>\n",
       "      <td>0</td>\n",
       "      <td>1</td>\n",
       "      <td>0</td>\n",
       "      <td>1</td>\n",
       "    </tr>\n",
       "  </tbody>\n",
       "</table>\n",
       "</div>"
      ],
      "text/plain": [
       "         DELIVERY_DAYS  DELIVERY_CHARGE  TOTAL_ORDER_VALUE_NET  \\\n",
       "1256189             10             7.00                 172.98   \n",
       "396086              10            99.00                 652.10   \n",
       "1558019              6             3.90                 104.10   \n",
       "944414               5             4.00                  65.39   \n",
       "1137198              8             3.90                 168.78   \n",
       "\n",
       "         NUMBER_ARTICLES  CREATION_MONTH  CREATION_YEAR  COMPLETED_MONTH  \\\n",
       "1256189             6.00               5           2019                6   \n",
       "396086             47.00               2           2019                3   \n",
       "1558019             2.00               3           2019                3   \n",
       "944414              8.00               7           2019                7   \n",
       "1137198             6.00               5           2019                5   \n",
       "\n",
       "         COMPLETED_YEAR  ORDER_METHOD_INTERNET  ORDER_METHOD_LETTER  \\\n",
       "1256189            2019                      1                    0   \n",
       "396086             2019                      1                    0   \n",
       "1558019            2019                      1                    0   \n",
       "944414             2019                      1                    0   \n",
       "1137198            2019                      1                    0   \n",
       "\n",
       "         ORDER_METHOD_PHONE  ORDER_METHOD_STORE  ORDER_METHOD_TELANSMACH  \\\n",
       "1256189                   0                   0                        0   \n",
       "396086                    0                   0                        0   \n",
       "1558019                   0                   0                        0   \n",
       "944414                    0                   0                        0   \n",
       "1137198                   0                   0                        0   \n",
       "\n",
       "         DELIVERY_WAY_MIXED ORDER  DELIVERY_WAY_PARCEL  DELIVERY_WAY_TRUCK  \\\n",
       "1256189                         0                    1                   0   \n",
       "396086                          0                    0                   1   \n",
       "1558019                         0                    1                   0   \n",
       "944414                          0                    1                   0   \n",
       "1137198                         0                    1                   0   \n",
       "\n",
       "         FAMILY_CUST_FAMILY  FAMILY_CUST_NOT FAMILY  CUSTOMER_TYPE_BUSINESS  \\\n",
       "1256189                   0                       1                       0   \n",
       "396086                    1                       0                       0   \n",
       "1558019                   1                       0                       0   \n",
       "944414                    0                       1                       0   \n",
       "1137198                   0                       1                       0   \n",
       "\n",
       "         CUSTOMER_TYPE_PRIVATE  \n",
       "1256189                      1  \n",
       "396086                       1  \n",
       "1558019                      1  \n",
       "944414                       1  \n",
       "1137198                      1  "
      ]
     },
     "execution_count": 145,
     "metadata": {},
     "output_type": "execute_result"
    }
   ],
   "source": [
    "# Examples for false negatives\n",
    "df_fn = X_test[(y_test == 1) & (pred_test.T == 0)]\n",
    "df_fn.head()"
   ]
  },
  {
   "cell_type": "code",
   "execution_count": 146,
   "metadata": {},
   "outputs": [
    {
     "data": {
      "text/html": [
       "<div>\n",
       "<style scoped>\n",
       "    .dataframe tbody tr th:only-of-type {\n",
       "        vertical-align: middle;\n",
       "    }\n",
       "\n",
       "    .dataframe tbody tr th {\n",
       "        vertical-align: top;\n",
       "    }\n",
       "\n",
       "    .dataframe thead th {\n",
       "        text-align: right;\n",
       "    }\n",
       "</style>\n",
       "<table border=\"1\" class=\"dataframe\">\n",
       "  <thead>\n",
       "    <tr style=\"text-align: right;\">\n",
       "      <th></th>\n",
       "      <th>DELIVERY_DAYS</th>\n",
       "      <th>DELIVERY_CHARGE</th>\n",
       "      <th>TOTAL_ORDER_VALUE_NET</th>\n",
       "      <th>NUMBER_ARTICLES</th>\n",
       "      <th>CREATION_MONTH</th>\n",
       "      <th>CREATION_YEAR</th>\n",
       "      <th>COMPLETED_MONTH</th>\n",
       "      <th>COMPLETED_YEAR</th>\n",
       "      <th>ORDER_METHOD_INTERNET</th>\n",
       "      <th>ORDER_METHOD_LETTER</th>\n",
       "      <th>ORDER_METHOD_PHONE</th>\n",
       "      <th>ORDER_METHOD_STORE</th>\n",
       "      <th>ORDER_METHOD_TELANSMACH</th>\n",
       "      <th>DELIVERY_WAY_MIXED ORDER</th>\n",
       "      <th>DELIVERY_WAY_PARCEL</th>\n",
       "      <th>DELIVERY_WAY_TRUCK</th>\n",
       "      <th>FAMILY_CUST_FAMILY</th>\n",
       "      <th>FAMILY_CUST_NOT FAMILY</th>\n",
       "      <th>CUSTOMER_TYPE_BUSINESS</th>\n",
       "      <th>CUSTOMER_TYPE_PRIVATE</th>\n",
       "    </tr>\n",
       "  </thead>\n",
       "  <tbody>\n",
       "    <tr>\n",
       "      <th>2057054</th>\n",
       "      <td>31</td>\n",
       "      <td>0.00</td>\n",
       "      <td>1946.98</td>\n",
       "      <td>85.00</td>\n",
       "      <td>6</td>\n",
       "      <td>2019</td>\n",
       "      <td>7</td>\n",
       "      <td>2019</td>\n",
       "      <td>1</td>\n",
       "      <td>0</td>\n",
       "      <td>0</td>\n",
       "      <td>0</td>\n",
       "      <td>0</td>\n",
       "      <td>1</td>\n",
       "      <td>0</td>\n",
       "      <td>0</td>\n",
       "      <td>0</td>\n",
       "      <td>1</td>\n",
       "      <td>0</td>\n",
       "      <td>1</td>\n",
       "    </tr>\n",
       "    <tr>\n",
       "      <th>2901234</th>\n",
       "      <td>16</td>\n",
       "      <td>175.00</td>\n",
       "      <td>1508.24</td>\n",
       "      <td>31.00</td>\n",
       "      <td>9</td>\n",
       "      <td>2018</td>\n",
       "      <td>10</td>\n",
       "      <td>2018</td>\n",
       "      <td>1</td>\n",
       "      <td>0</td>\n",
       "      <td>0</td>\n",
       "      <td>0</td>\n",
       "      <td>0</td>\n",
       "      <td>0</td>\n",
       "      <td>0</td>\n",
       "      <td>1</td>\n",
       "      <td>1</td>\n",
       "      <td>0</td>\n",
       "      <td>0</td>\n",
       "      <td>1</td>\n",
       "    </tr>\n",
       "    <tr>\n",
       "      <th>2245002</th>\n",
       "      <td>13</td>\n",
       "      <td>175.00</td>\n",
       "      <td>1540.34</td>\n",
       "      <td>57.00</td>\n",
       "      <td>11</td>\n",
       "      <td>2018</td>\n",
       "      <td>11</td>\n",
       "      <td>2018</td>\n",
       "      <td>1</td>\n",
       "      <td>0</td>\n",
       "      <td>0</td>\n",
       "      <td>0</td>\n",
       "      <td>0</td>\n",
       "      <td>0</td>\n",
       "      <td>0</td>\n",
       "      <td>1</td>\n",
       "      <td>0</td>\n",
       "      <td>1</td>\n",
       "      <td>0</td>\n",
       "      <td>1</td>\n",
       "    </tr>\n",
       "    <tr>\n",
       "      <th>2301615</th>\n",
       "      <td>10</td>\n",
       "      <td>175.00</td>\n",
       "      <td>1862.16</td>\n",
       "      <td>54.00</td>\n",
       "      <td>4</td>\n",
       "      <td>2019</td>\n",
       "      <td>4</td>\n",
       "      <td>2019</td>\n",
       "      <td>1</td>\n",
       "      <td>0</td>\n",
       "      <td>0</td>\n",
       "      <td>0</td>\n",
       "      <td>0</td>\n",
       "      <td>0</td>\n",
       "      <td>0</td>\n",
       "      <td>1</td>\n",
       "      <td>0</td>\n",
       "      <td>1</td>\n",
       "      <td>0</td>\n",
       "      <td>1</td>\n",
       "    </tr>\n",
       "    <tr>\n",
       "      <th>717556</th>\n",
       "      <td>26</td>\n",
       "      <td>75.00</td>\n",
       "      <td>516.32</td>\n",
       "      <td>94.00</td>\n",
       "      <td>3</td>\n",
       "      <td>2019</td>\n",
       "      <td>3</td>\n",
       "      <td>2019</td>\n",
       "      <td>1</td>\n",
       "      <td>0</td>\n",
       "      <td>0</td>\n",
       "      <td>0</td>\n",
       "      <td>0</td>\n",
       "      <td>0</td>\n",
       "      <td>0</td>\n",
       "      <td>1</td>\n",
       "      <td>1</td>\n",
       "      <td>0</td>\n",
       "      <td>0</td>\n",
       "      <td>1</td>\n",
       "    </tr>\n",
       "  </tbody>\n",
       "</table>\n",
       "</div>"
      ],
      "text/plain": [
       "         DELIVERY_DAYS  DELIVERY_CHARGE  TOTAL_ORDER_VALUE_NET  \\\n",
       "2057054             31             0.00                1946.98   \n",
       "2901234             16           175.00                1508.24   \n",
       "2245002             13           175.00                1540.34   \n",
       "2301615             10           175.00                1862.16   \n",
       "717556              26            75.00                 516.32   \n",
       "\n",
       "         NUMBER_ARTICLES  CREATION_MONTH  CREATION_YEAR  COMPLETED_MONTH  \\\n",
       "2057054            85.00               6           2019                7   \n",
       "2901234            31.00               9           2018               10   \n",
       "2245002            57.00              11           2018               11   \n",
       "2301615            54.00               4           2019                4   \n",
       "717556             94.00               3           2019                3   \n",
       "\n",
       "         COMPLETED_YEAR  ORDER_METHOD_INTERNET  ORDER_METHOD_LETTER  \\\n",
       "2057054            2019                      1                    0   \n",
       "2901234            2018                      1                    0   \n",
       "2245002            2018                      1                    0   \n",
       "2301615            2019                      1                    0   \n",
       "717556             2019                      1                    0   \n",
       "\n",
       "         ORDER_METHOD_PHONE  ORDER_METHOD_STORE  ORDER_METHOD_TELANSMACH  \\\n",
       "2057054                   0                   0                        0   \n",
       "2901234                   0                   0                        0   \n",
       "2245002                   0                   0                        0   \n",
       "2301615                   0                   0                        0   \n",
       "717556                    0                   0                        0   \n",
       "\n",
       "         DELIVERY_WAY_MIXED ORDER  DELIVERY_WAY_PARCEL  DELIVERY_WAY_TRUCK  \\\n",
       "2057054                         1                    0                   0   \n",
       "2901234                         0                    0                   1   \n",
       "2245002                         0                    0                   1   \n",
       "2301615                         0                    0                   1   \n",
       "717556                          0                    0                   1   \n",
       "\n",
       "         FAMILY_CUST_FAMILY  FAMILY_CUST_NOT FAMILY  CUSTOMER_TYPE_BUSINESS  \\\n",
       "2057054                   0                       1                       0   \n",
       "2901234                   1                       0                       0   \n",
       "2245002                   0                       1                       0   \n",
       "2301615                   0                       1                       0   \n",
       "717556                    1                       0                       0   \n",
       "\n",
       "         CUSTOMER_TYPE_PRIVATE  \n",
       "2057054                      1  \n",
       "2901234                      1  \n",
       "2245002                      1  \n",
       "2301615                      1  \n",
       "717556                       1  "
      ]
     },
     "execution_count": 146,
     "metadata": {},
     "output_type": "execute_result"
    }
   ],
   "source": [
    "# Examples for false positives\n",
    "df_fp = X_test[(y_test == 0) & (pred_test.T == 1)]\n",
    "df_fp.head()"
   ]
  },
  {
   "cell_type": "code",
   "execution_count": 228,
   "metadata": {},
   "outputs": [],
   "source": [
    "# Naive Bayes classifier - GaussianNB\n",
    "model2 = GaussianNB() "
   ]
  },
  {
   "cell_type": "code",
   "execution_count": 229,
   "metadata": {},
   "outputs": [
    {
     "data": {
      "text/plain": [
       "GaussianNB(priors=None)"
      ]
     },
     "execution_count": 229,
     "metadata": {},
     "output_type": "execute_result"
    }
   ],
   "source": [
    "model2.fit(X_train, y_train)"
   ]
  },
  {
   "cell_type": "code",
   "execution_count": 230,
   "metadata": {},
   "outputs": [],
   "source": [
    "pred_test2 = model2.predict(X_test)"
   ]
  },
  {
   "cell_type": "code",
   "execution_count": 231,
   "metadata": {},
   "outputs": [
    {
     "name": "stdout",
     "output_type": "stream",
     "text": [
      "Accuracy score: 0.8858058131404407\n"
     ]
    }
   ],
   "source": [
    "print('Accuracy score: ' + str(accuracy_score(y_test, pred_test2)))"
   ]
  },
  {
   "cell_type": "code",
   "execution_count": 232,
   "metadata": {},
   "outputs": [
    {
     "data": {
      "text/plain": [
       "array([[782805,  73601],\n",
       "       [ 28635,  10241]], dtype=int64)"
      ]
     },
     "execution_count": 232,
     "metadata": {},
     "output_type": "execute_result"
    }
   ],
   "source": [
    "confusion_matrix(y_test, pred_test2)"
   ]
  },
  {
   "cell_type": "code",
   "execution_count": 233,
   "metadata": {},
   "outputs": [
    {
     "name": "stdout",
     "output_type": "stream",
     "text": [
      "             precision    recall  f1-score   support\n",
      "\n",
      "          0       0.96      0.91      0.94    856406\n",
      "          1       0.12      0.26      0.17     38876\n",
      "\n",
      "avg / total       0.93      0.89      0.91    895282\n",
      "\n"
     ]
    }
   ],
   "source": [
    "print(classification_report(y_test, pred_test2))"
   ]
  },
  {
   "cell_type": "code",
   "execution_count": 191,
   "metadata": {},
   "outputs": [],
   "source": [
    "# Naive Bayes classifier - MultinomialNB\n",
    "model4 = MultinomialNB() "
   ]
  },
  {
   "cell_type": "code",
   "execution_count": 192,
   "metadata": {},
   "outputs": [
    {
     "data": {
      "text/plain": [
       "MultinomialNB(alpha=1.0, class_prior=None, fit_prior=True)"
      ]
     },
     "execution_count": 192,
     "metadata": {},
     "output_type": "execute_result"
    }
   ],
   "source": [
    "model4.fit(X_train, y_train)"
   ]
  },
  {
   "cell_type": "code",
   "execution_count": 193,
   "metadata": {},
   "outputs": [],
   "source": [
    "pred_test4 = model4.predict(X_test)"
   ]
  },
  {
   "cell_type": "code",
   "execution_count": 194,
   "metadata": {},
   "outputs": [
    {
     "name": "stdout",
     "output_type": "stream",
     "text": [
      "Accuracy score: 0.7843630798896111\n"
     ]
    }
   ],
   "source": [
    "print('Accuracy score: ' + str(accuracy_score(y_test, pred_test4)))"
   ]
  },
  {
   "cell_type": "code",
   "execution_count": 195,
   "metadata": {},
   "outputs": [
    {
     "data": {
      "text/plain": [
       "array([[228069,  42004],\n",
       "       [ 24647,  14369]], dtype=int64)"
      ]
     },
     "execution_count": 195,
     "metadata": {},
     "output_type": "execute_result"
    }
   ],
   "source": [
    "confusion_matrix(y_test, pred_test4)"
   ]
  },
  {
   "cell_type": "code",
   "execution_count": 196,
   "metadata": {},
   "outputs": [
    {
     "name": "stdout",
     "output_type": "stream",
     "text": [
      "             precision    recall  f1-score   support\n",
      "\n",
      "          0       0.90      0.84      0.87    270073\n",
      "          1       0.25      0.37      0.30     39016\n",
      "\n",
      "avg / total       0.82      0.78      0.80    309089\n",
      "\n"
     ]
    }
   ],
   "source": [
    "print(classification_report(y_test, pred_test4))"
   ]
  },
  {
   "cell_type": "code",
   "execution_count": 234,
   "metadata": {},
   "outputs": [],
   "source": [
    "# Naive Bayes classifier - BernoulliNB\n",
    "model5 = BernoulliNB() "
   ]
  },
  {
   "cell_type": "code",
   "execution_count": 235,
   "metadata": {},
   "outputs": [
    {
     "data": {
      "text/plain": [
       "BernoulliNB(alpha=1.0, binarize=0.0, class_prior=None, fit_prior=True)"
      ]
     },
     "execution_count": 235,
     "metadata": {},
     "output_type": "execute_result"
    }
   ],
   "source": [
    "model5.fit(X_train, y_train)"
   ]
  },
  {
   "cell_type": "code",
   "execution_count": 236,
   "metadata": {},
   "outputs": [],
   "source": [
    "pred_test5 = model5.predict(X_test)"
   ]
  },
  {
   "cell_type": "code",
   "execution_count": 237,
   "metadata": {},
   "outputs": [
    {
     "name": "stdout",
     "output_type": "stream",
     "text": [
      "Accuracy score: 0.9300790142100478\n"
     ]
    }
   ],
   "source": [
    "print('Accuracy score: ' + str(accuracy_score(y_test, pred_test5)))"
   ]
  },
  {
   "cell_type": "code",
   "execution_count": 238,
   "metadata": {},
   "outputs": [
    {
     "data": {
      "text/plain": [
       "array([[826965,  29441],\n",
       "       [ 33158,   5718]], dtype=int64)"
      ]
     },
     "execution_count": 238,
     "metadata": {},
     "output_type": "execute_result"
    }
   ],
   "source": [
    "confusion_matrix(y_test, pred_test5)"
   ]
  },
  {
   "cell_type": "code",
   "execution_count": 202,
   "metadata": {},
   "outputs": [
    {
     "name": "stdout",
     "output_type": "stream",
     "text": [
      "             precision    recall  f1-score   support\n",
      "\n",
      "          0       0.87      1.00      0.93    270073\n",
      "          1       0.50      0.00      0.00     39016\n",
      "\n",
      "avg / total       0.83      0.87      0.81    309089\n",
      "\n"
     ]
    }
   ],
   "source": [
    "print(classification_report(y_test, pred_test5))"
   ]
  },
  {
   "cell_type": "code",
   "execution_count": 239,
   "metadata": {},
   "outputs": [],
   "source": [
    "# Ada boost classifier\n",
    "model3 = AdaBoostClassifier() "
   ]
  },
  {
   "cell_type": "code",
   "execution_count": 240,
   "metadata": {},
   "outputs": [
    {
     "data": {
      "text/plain": [
       "AdaBoostClassifier(algorithm='SAMME.R', base_estimator=None,\n",
       "          learning_rate=1.0, n_estimators=50, random_state=None)"
      ]
     },
     "execution_count": 240,
     "metadata": {},
     "output_type": "execute_result"
    }
   ],
   "source": [
    "model3.fit(X_train, y_train)"
   ]
  },
  {
   "cell_type": "code",
   "execution_count": 241,
   "metadata": {},
   "outputs": [],
   "source": [
    "pred_test3 = model3.predict(X_test)"
   ]
  },
  {
   "cell_type": "code",
   "execution_count": 242,
   "metadata": {},
   "outputs": [
    {
     "name": "stdout",
     "output_type": "stream",
     "text": [
      "Accuracy score: 0.9565768104351479\n"
     ]
    }
   ],
   "source": [
    "print('Accuracy score: ' + str(accuracy_score(y_test, pred_test3)))"
   ]
  },
  {
   "cell_type": "code",
   "execution_count": 243,
   "metadata": {},
   "outputs": [
    {
     "data": {
      "text/plain": [
       "array([[856406,      0],\n",
       "       [ 38876,      0]], dtype=int64)"
      ]
     },
     "execution_count": 243,
     "metadata": {},
     "output_type": "execute_result"
    }
   ],
   "source": [
    "confusion_matrix(y_test, pred_test3)"
   ]
  },
  {
   "cell_type": "code",
   "execution_count": 244,
   "metadata": {},
   "outputs": [
    {
     "name": "stdout",
     "output_type": "stream",
     "text": [
      "             precision    recall  f1-score   support\n",
      "\n",
      "          0       0.96      1.00      0.98    856406\n",
      "          1       0.00      0.00      0.00     38876\n",
      "\n",
      "avg / total       0.92      0.96      0.94    895282\n",
      "\n"
     ]
    }
   ],
   "source": [
    "print(classification_report(y_test, pred_test3))"
   ]
  },
  {
   "cell_type": "code",
   "execution_count": 245,
   "metadata": {},
   "outputs": [],
   "source": [
    "#Random forest classifier\n",
    "model6 = RandomForestClassifier(n_estimators=100, max_depth=3)"
   ]
  },
  {
   "cell_type": "code",
   "execution_count": 246,
   "metadata": {},
   "outputs": [
    {
     "data": {
      "text/plain": [
       "RandomForestClassifier(bootstrap=True, class_weight=None, criterion='gini',\n",
       "            max_depth=3, max_features='auto', max_leaf_nodes=None,\n",
       "            min_impurity_decrease=0.0, min_impurity_split=None,\n",
       "            min_samples_leaf=1, min_samples_split=2,\n",
       "            min_weight_fraction_leaf=0.0, n_estimators=100, n_jobs=1,\n",
       "            oob_score=False, random_state=None, verbose=0,\n",
       "            warm_start=False)"
      ]
     },
     "execution_count": 246,
     "metadata": {},
     "output_type": "execute_result"
    }
   ],
   "source": [
    "model6.fit(X_train, y_train)"
   ]
  },
  {
   "cell_type": "code",
   "execution_count": 211,
   "metadata": {},
   "outputs": [],
   "source": [
    "pred_test6 = model6.predict(X_test)"
   ]
  },
  {
   "cell_type": "code",
   "execution_count": 213,
   "metadata": {},
   "outputs": [
    {
     "data": {
      "text/plain": [
       "array([[270073,      0],\n",
       "       [ 39016,      0]], dtype=int64)"
      ]
     },
     "execution_count": 213,
     "metadata": {},
     "output_type": "execute_result"
    }
   ],
   "source": [
    "confusion_matrix(y_test, pred_test6)"
   ]
  },
  {
   "cell_type": "code",
   "execution_count": 214,
   "metadata": {},
   "outputs": [
    {
     "name": "stdout",
     "output_type": "stream",
     "text": [
      "             precision    recall  f1-score   support\n",
      "\n",
      "          0       0.87      1.00      0.93    270073\n",
      "          1       0.00      0.00      0.00     39016\n",
      "\n",
      "avg / total       0.76      0.87      0.81    309089\n",
      "\n"
     ]
    }
   ],
   "source": [
    "print(classification_report(y_test, pred_test6))"
   ]
  },
  {
   "cell_type": "code",
   "execution_count": 177,
   "metadata": {},
   "outputs": [
    {
     "name": "stdout",
     "output_type": "stream",
     "text": [
      "('DELIVERY_DAYS', 0.010334447368286905)\n",
      "('DELIVERY_CHARGE', 0.18555524325387707)\n",
      "('TOTAL_ORDER_VALUE_NET', 0.3646954215354373)\n",
      "('NUMBER_ARTICLES', 0.20566587514293044)\n",
      "('CREATION_MONTH', 0.0011018365943920464)\n",
      "('CREATION_YEAR', 5.0797548994297845e-06)\n",
      "('COMPLETED_MONTH', 0.0031124795423279118)\n",
      "('COMPLETED_YEAR', 4.287047028885607e-05)\n",
      "('ORDER_METHOD_INTERNET', 0.006180659271829734)\n",
      "('ORDER_METHOD_LETTER', 4.97415163458565e-06)\n",
      "('ORDER_METHOD_PHONE', 0.010728552330557696)\n",
      "('ORDER_METHOD_STORE', 0.0)\n",
      "('ORDER_METHOD_TELANSMACH', 8.17868129110129e-06)\n",
      "('DELIVERY_WAY_MIXED ORDER', 0.005091166628245145)\n",
      "('DELIVERY_WAY_PARCEL', 0.048229470133075075)\n",
      "('DELIVERY_WAY_TRUCK', 0.03514713006350536)\n",
      "('FAMILY_CUST_FAMILY', 0.06351765756816119)\n",
      "('FAMILY_CUST_NOT FAMILY', 0.056198130386405996)\n",
      "('CUSTOMER_TYPE_BUSINESS', 0.002118989661339573)\n",
      "('CUSTOMER_TYPE_PRIVATE', 0.0022618374615143754)\n"
     ]
    }
   ],
   "source": [
    "#Features importance\n",
    "for feature in zip(model_features, model6.feature_importances_):\n",
    "    print(feature)"
   ]
  },
  {
   "cell_type": "code",
   "execution_count": null,
   "metadata": {},
   "outputs": [],
   "source": []
  }
 ],
 "metadata": {
  "kernelspec": {
   "display_name": "Python 3",
   "language": "python",
   "name": "python3"
  },
  "language_info": {
   "codemirror_mode": {
    "name": "ipython",
    "version": 3
   },
   "file_extension": ".py",
   "mimetype": "text/x-python",
   "name": "python",
   "nbconvert_exporter": "python",
   "pygments_lexer": "ipython3",
   "version": "3.7.0"
  }
 },
 "nbformat": 4,
 "nbformat_minor": 2
}
