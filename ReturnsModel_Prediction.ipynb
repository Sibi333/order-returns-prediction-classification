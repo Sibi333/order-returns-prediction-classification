{
 "cells": [
  {
   "cell_type": "markdown",
   "metadata": {},
   "source": [
    "# Order returns prediction - binary classification "
   ]
  },
  {
   "cell_type": "markdown",
   "metadata": {},
   "source": [
    "## Import libraries"
   ]
  },
  {
   "cell_type": "code",
   "execution_count": 1,
   "metadata": {},
   "outputs": [],
   "source": [
    "import pandas as pd\n",
    "import numpy as np\n",
    "import seaborn as sns\n",
    "import matplotlib.pyplot as plt\n",
    "%matplotlib inline\n",
    "import warnings\n",
    "warnings.filterwarnings(\"ignore\")"
   ]
  },
  {
   "cell_type": "code",
   "execution_count": 2,
   "metadata": {},
   "outputs": [],
   "source": [
    "from sklearn.preprocessing import StandardScaler\n",
    "from sklearn.model_selection import train_test_split\n",
    "from sklearn.linear_model import LogisticRegression\n",
    "from sklearn.metrics import accuracy_score \n",
    "from sklearn.metrics import confusion_matrix\n",
    "from sklearn.metrics import classification_report"
   ]
  },
  {
   "cell_type": "code",
   "execution_count": 3,
   "metadata": {},
   "outputs": [
    {
     "name": "stderr",
     "output_type": "stream",
     "text": [
      "C:\\ProgramData\\Anaconda3\\lib\\site-packages\\sklearn\\ensemble\\weight_boosting.py:29: DeprecationWarning: numpy.core.umath_tests is an internal NumPy module and should not be imported. It will be removed in a future NumPy release.\n",
      "  from numpy.core.umath_tests import inner1d\n"
     ]
    }
   ],
   "source": [
    "from sklearn.naive_bayes import GaussianNB\n",
    "from sklearn.naive_bayes import BernoulliNB\n",
    "from sklearn.tree import DecisionTreeClassifier\n",
    "from sklearn import model_selection\n",
    "from sklearn.ensemble import VotingClassifier"
   ]
  },
  {
   "cell_type": "code",
   "execution_count": 21,
   "metadata": {},
   "outputs": [],
   "source": [
    "from sklearn import preprocessing"
   ]
  },
  {
   "cell_type": "code",
   "execution_count": 22,
   "metadata": {},
   "outputs": [],
   "source": [
    "from sklearn.ensemble import AdaBoostClassifier\n",
    "from sklearn.ensemble import RandomForestClassifier"
   ]
  },
  {
   "cell_type": "code",
   "execution_count": 4,
   "metadata": {},
   "outputs": [],
   "source": [
    "import cx_Oracle as orc"
   ]
  },
  {
   "cell_type": "markdown",
   "metadata": {},
   "source": [
    "## Data import from Oracle"
   ]
  },
  {
   "cell_type": "code",
   "execution_count": 8,
   "metadata": {},
   "outputs": [],
   "source": [
    "# Make DSN address\n",
    "dsn = orc.makedsn('hostname', 'port', service_name='servicename')\n",
    "# Connect to DSN\n",
    "conn = orc.connect(user='username', password='password', dsn=dsn)"
   ]
  },
  {
   "cell_type": "code",
   "execution_count": 9,
   "metadata": {},
   "outputs": [],
   "source": [
    "sql_query = \"\"\"SELECT \n",
    "  ORDER_NUMBER,\n",
    "  (COMPLETED_DATE - CREATION_DATE) AS DELIVERY_DAYS,\n",
    "  ORDER_METHOD,\n",
    "  DELIVERY_WAY, \n",
    "  CASE \n",
    "    WHEN FAMILY_MEMBER IS NOT NULL \n",
    "    THEN 'FAMILY'\n",
    "    ELSE 'NOT FAMILY'\n",
    "  END AS FAMILY_CUST,\n",
    "  TOTAL_ORDER_VALUE_NET,\n",
    "  NUMBER_ARTICLES,\n",
    "  RETURN_CREAT,\n",
    "  CASE \n",
    "    WHEN PUR_PROOF IS NOT NULL \n",
    "    THEN 'RETURNED'\n",
    "    ELSE 'NOT RETURNED'\n",
    "  END AS ORDER_STATUS\n",
    "FROM \n",
    "( \n",
    "SELECT \n",
    "  ORDER_NUMBER,\n",
    "  TRUNC(CREATION_DATE) AS CREATION_DATE,\n",
    "  TRUNC(COMPLETED_DATE) AS COMPLETED_DATE,\n",
    "  ORDER_METHOD,\n",
    "  DELIVERY_WAY,\n",
    "  FAMILY_MEMBER,\n",
    "  TOTAL_ORDER_VALUE_NET,\n",
    "  NUMBER_ARTICLES\n",
    "FROM \n",
    "  \"PRD_ODI_AWE\".\"MASTER_SALES_FACT\"\n",
    "WHERE \n",
    "  COMPLETED_DATE IS NOT NULL AND\n",
    "  DELIVERY_WAY NOT IN ('CLICK&COLLECT', 'EXPRESS DELIVERY') AND\n",
    "  CREATION_DATE >= TO_DATE('01.09.18','DD.MM.YY')) a \n",
    "LEFT JOIN \n",
    "( \n",
    "SELECT \n",
    "  MIN(RETURN_CREAT_DT) AS RETURN_CREAT,\n",
    "  MIN(RETURN_COMPL_DT) AS RETURN_COMPL,\n",
    "  PUR_PROOF \n",
    "FROM  \n",
    "  \"PRD_ODI_AWE\".\"RETURN_FT\"\n",
    "WHERE \n",
    "  SELLING_STO_ID = 52 AND\n",
    "  RETURN_CREAT_DT >= TO_DATE('01.09.18','DD.MM.YY') AND\n",
    "  PUR_PROOF IS NOT NULL \n",
    "GROUP BY\n",
    "  PUR_PROOF) b\n",
    "ON \n",
    "  a.ORDER_NUMBER = b.PUR_PROOF\n",
    "WHERE \n",
    "  CREATION_DATE IS NOT NULL AND\n",
    "  CREATION_DATE >= TO_DATE('01.09.18','DD.MM.YY')\"\"\""
   ]
  },
  {
   "cell_type": "code",
   "execution_count": 7,
   "metadata": {},
   "outputs": [],
   "source": [
    "original_df = pd.read_sql(sql_query, conn)"
   ]
  },
  {
   "cell_type": "code",
   "execution_count": 10,
   "metadata": {},
   "outputs": [],
   "source": [
    "df_a1 = original_df.copy()"
   ]
  },
  {
   "cell_type": "code",
   "execution_count": 11,
   "metadata": {},
   "outputs": [],
   "source": [
    "sql_query2 = \"\"\"SELECT \n",
    "  t1.SO_NO AS ORDER_NUMBER, \n",
    "  t5.HFB_NO, \n",
    "  t5.HFB_NAME\n",
    "FROM  \n",
    "  PRD_ODI_AWE.DIG_ODS_IDSS_CRE_SO_SALE_FT t1\n",
    "INNER JOIN \n",
    "  PRD_ODI_AWE.ITEM_DT t2 ON t1.ITEM_ID = t2.ITEM_ID\n",
    "INNER JOIN \n",
    "  PRD_ODI_AWE.PA_DT t3 ON t2.PA_ID = t3.PA_ID\n",
    "INNER JOIN \n",
    "  PRD_ODI_AWE.PRA_DT t4 ON t3.PRA_ID = t4.PRA_ID\n",
    "INNER JOIN \n",
    "  PRD_ODI_AWE.HFB_DT t5 ON t4.HFB_ID = t5.HFB_ID\n",
    "WHERE \n",
    "  t2.CUR_IND = 'Y' AND \n",
    "  t3.CUR_IND = 'Y' AND \n",
    "  t4.CUR_IND = 'Y' AND \n",
    "  t5.CUR_IND = 'Y' AND\n",
    "  t1.SO_CREAT_DTM >= TO_DATE('01.09.18','DD.MM.YY') AND\n",
    "  t1.STO_ID = 52 AND\n",
    "  t1.SO_COMPL_DTM IS NOT NULL\"\"\""
   ]
  },
  {
   "cell_type": "code",
   "execution_count": 12,
   "metadata": {},
   "outputs": [],
   "source": [
    "original_item_df = pd.read_sql(sql_query2, conn)"
   ]
  },
  {
   "cell_type": "code",
   "execution_count": 13,
   "metadata": {},
   "outputs": [],
   "source": [
    "item_df1 = original_item_df.copy()"
   ]
  },
  {
   "cell_type": "markdown",
   "metadata": {},
   "source": [
    "## Data exploration"
   ]
  },
  {
   "cell_type": "code",
   "execution_count": 14,
   "metadata": {},
   "outputs": [
    {
     "data": {
      "text/html": [
       "<div>\n",
       "<style scoped>\n",
       "    .dataframe tbody tr th:only-of-type {\n",
       "        vertical-align: middle;\n",
       "    }\n",
       "\n",
       "    .dataframe tbody tr th {\n",
       "        vertical-align: top;\n",
       "    }\n",
       "\n",
       "    .dataframe thead th {\n",
       "        text-align: right;\n",
       "    }\n",
       "</style>\n",
       "<table border=\"1\" class=\"dataframe\">\n",
       "  <thead>\n",
       "    <tr style=\"text-align: right;\">\n",
       "      <th></th>\n",
       "      <th>ORDER_NUMBER</th>\n",
       "      <th>DELIVERY_DAYS</th>\n",
       "      <th>ORDER_METHOD</th>\n",
       "      <th>DELIVERY_WAY</th>\n",
       "      <th>FAMILY_CUST</th>\n",
       "      <th>TOTAL_ORDER_VALUE_NET</th>\n",
       "      <th>NUMBER_ARTICLES</th>\n",
       "      <th>RETURN_CREAT</th>\n",
       "      <th>ORDER_STATUS</th>\n",
       "    </tr>\n",
       "  </thead>\n",
       "  <tbody>\n",
       "    <tr>\n",
       "      <th>0</th>\n",
       "      <td>1001221780</td>\n",
       "      <td>9</td>\n",
       "      <td>INTERNET</td>\n",
       "      <td>PARCEL</td>\n",
       "      <td>FAMILY</td>\n",
       "      <td>46.73</td>\n",
       "      <td>10.0</td>\n",
       "      <td>NaT</td>\n",
       "      <td>NOT RETURNED</td>\n",
       "    </tr>\n",
       "    <tr>\n",
       "      <th>1</th>\n",
       "      <td>1016958255</td>\n",
       "      <td>9</td>\n",
       "      <td>INTERNET</td>\n",
       "      <td>PARCEL</td>\n",
       "      <td>FAMILY</td>\n",
       "      <td>21.29</td>\n",
       "      <td>7.0</td>\n",
       "      <td>NaT</td>\n",
       "      <td>NOT RETURNED</td>\n",
       "    </tr>\n",
       "    <tr>\n",
       "      <th>2</th>\n",
       "      <td>1027034568</td>\n",
       "      <td>5</td>\n",
       "      <td>INTERNET</td>\n",
       "      <td>PARCEL</td>\n",
       "      <td>NOT FAMILY</td>\n",
       "      <td>90.61</td>\n",
       "      <td>8.0</td>\n",
       "      <td>2019-04-27 13:13:12</td>\n",
       "      <td>RETURNED</td>\n",
       "    </tr>\n",
       "    <tr>\n",
       "      <th>3</th>\n",
       "      <td>1023791192</td>\n",
       "      <td>5</td>\n",
       "      <td>INTERNET</td>\n",
       "      <td>PARCEL</td>\n",
       "      <td>FAMILY</td>\n",
       "      <td>52.86</td>\n",
       "      <td>13.0</td>\n",
       "      <td>NaT</td>\n",
       "      <td>NOT RETURNED</td>\n",
       "    </tr>\n",
       "    <tr>\n",
       "      <th>4</th>\n",
       "      <td>1021575410</td>\n",
       "      <td>6</td>\n",
       "      <td>INTERNET</td>\n",
       "      <td>PARCEL</td>\n",
       "      <td>NOT FAMILY</td>\n",
       "      <td>25.95</td>\n",
       "      <td>2.0</td>\n",
       "      <td>NaT</td>\n",
       "      <td>NOT RETURNED</td>\n",
       "    </tr>\n",
       "  </tbody>\n",
       "</table>\n",
       "</div>"
      ],
      "text/plain": [
       "   ORDER_NUMBER  DELIVERY_DAYS ORDER_METHOD DELIVERY_WAY FAMILY_CUST  \\\n",
       "0    1001221780              9     INTERNET       PARCEL      FAMILY   \n",
       "1    1016958255              9     INTERNET       PARCEL      FAMILY   \n",
       "2    1027034568              5     INTERNET       PARCEL  NOT FAMILY   \n",
       "3    1023791192              5     INTERNET       PARCEL      FAMILY   \n",
       "4    1021575410              6     INTERNET       PARCEL  NOT FAMILY   \n",
       "\n",
       "   TOTAL_ORDER_VALUE_NET  NUMBER_ARTICLES        RETURN_CREAT  ORDER_STATUS  \n",
       "0                  46.73             10.0                 NaT  NOT RETURNED  \n",
       "1                  21.29              7.0                 NaT  NOT RETURNED  \n",
       "2                  90.61              8.0 2019-04-27 13:13:12      RETURNED  \n",
       "3                  52.86             13.0                 NaT  NOT RETURNED  \n",
       "4                  25.95              2.0                 NaT  NOT RETURNED  "
      ]
     },
     "execution_count": 14,
     "metadata": {},
     "output_type": "execute_result"
    }
   ],
   "source": [
    "df_a1.head()"
   ]
  },
  {
   "cell_type": "code",
   "execution_count": null,
   "metadata": {},
   "outputs": [],
   "source": [
    "df_a1.info()"
   ]
  },
  {
   "cell_type": "code",
   "execution_count": null,
   "metadata": {},
   "outputs": [],
   "source": [
    "pd.set_option('display.float_format','{:.2f}'.format)\n",
    "df_a1.describe(include='all')"
   ]
  },
  {
   "cell_type": "code",
   "execution_count": 17,
   "metadata": {},
   "outputs": [
    {
     "data": {
      "text/plain": [
       "<matplotlib.axes._subplots.AxesSubplot at 0x1dc49d712b0>"
      ]
     },
     "execution_count": 17,
     "metadata": {},
     "output_type": "execute_result"
    },
    {
     "data": {
      "image/png": "[encoded data removed]",
      "text/plain": [
       "<Figure size 432x288 with 1 Axes>"
      ]
     },
     "metadata": {
      "needs_background": "light"
     },
     "output_type": "display_data"
    }
   ],
   "source": [
    "df_a1['ORDER_STATUS'].value_counts(normalize=True).plot.bar(title='Order Status')"
   ]
  },
  {
   "cell_type": "code",
   "execution_count": null,
   "metadata": {},
   "outputs": [],
   "source": [
    "df_a1['ORDER_STATUS'].value_counts(normalize=True)"
   ]
  },
  {
   "cell_type": "code",
   "execution_count": null,
   "metadata": {},
   "outputs": [],
   "source": [
    "df_a1['ORDER_STATUS'].value_counts()"
   ]
  },
  {
   "cell_type": "code",
   "execution_count": null,
   "metadata": {},
   "outputs": [],
   "source": [
    "fig = plt.figure(figsize=(20,20))\n",
    "ax1 = fig.add_subplot(321)\n",
    "pd.crosstab(df_a1['FAMILY_CUST'], df_a1['ORDER_STATUS'], normalize='index').plot.barh(stacked=True, ax=ax1, legend=False)\n",
    "ax2 = fig.add_subplot(322)\n",
    "pd.crosstab(df_a1['ORDER_METHOD'], df_a1['ORDER_STATUS'], normalize='index').plot.barh(stacked=True, ax=ax2, legend=False)\n",
    "ax4 = fig.add_subplot(323)\n",
    "pd.crosstab(df_a1['DELIVERY_WAY'], df_a1['ORDER_STATUS'], normalize='index').plot.barh(stacked=True, ax=ax4, legend=False)\n",
    "plt.show()"
   ]
  },
  {
   "cell_type": "code",
   "execution_count": 24,
   "metadata": {},
   "outputs": [
    {
     "data": {
      "text/html": [
       "<div>\n",
       "<style scoped>\n",
       "    .dataframe tbody tr th:only-of-type {\n",
       "        vertical-align: middle;\n",
       "    }\n",
       "\n",
       "    .dataframe tbody tr th {\n",
       "        vertical-align: top;\n",
       "    }\n",
       "\n",
       "    .dataframe thead th {\n",
       "        text-align: right;\n",
       "    }\n",
       "</style>\n",
       "<table border=\"1\" class=\"dataframe\">\n",
       "  <thead>\n",
       "    <tr style=\"text-align: right;\">\n",
       "      <th></th>\n",
       "      <th>ORDER_NUMBER</th>\n",
       "      <th>DELIVERY_DAYS</th>\n",
       "      <th>ORDER_METHOD</th>\n",
       "      <th>DELIVERY_WAY</th>\n",
       "      <th>FAMILY_CUST</th>\n",
       "      <th>TOTAL_ORDER_VALUE_NET</th>\n",
       "      <th>NUMBER_ARTICLES</th>\n",
       "      <th>RETURN_CREAT</th>\n",
       "      <th>ORDER_STATUS</th>\n",
       "    </tr>\n",
       "  </thead>\n",
       "  <tbody>\n",
       "    <tr>\n",
       "      <th>0</th>\n",
       "      <td>1001221780</td>\n",
       "      <td>9</td>\n",
       "      <td>INTERNET</td>\n",
       "      <td>PARCEL</td>\n",
       "      <td>FAMILY</td>\n",
       "      <td>46.73</td>\n",
       "      <td>10.00</td>\n",
       "      <td>NaT</td>\n",
       "      <td>0</td>\n",
       "    </tr>\n",
       "    <tr>\n",
       "      <th>1</th>\n",
       "      <td>1016958255</td>\n",
       "      <td>9</td>\n",
       "      <td>INTERNET</td>\n",
       "      <td>PARCEL</td>\n",
       "      <td>FAMILY</td>\n",
       "      <td>21.29</td>\n",
       "      <td>7.00</td>\n",
       "      <td>NaT</td>\n",
       "      <td>0</td>\n",
       "    </tr>\n",
       "    <tr>\n",
       "      <th>2</th>\n",
       "      <td>1027034568</td>\n",
       "      <td>5</td>\n",
       "      <td>INTERNET</td>\n",
       "      <td>PARCEL</td>\n",
       "      <td>NOT FAMILY</td>\n",
       "      <td>90.61</td>\n",
       "      <td>8.00</td>\n",
       "      <td>2019-04-27 13:13:12</td>\n",
       "      <td>1</td>\n",
       "    </tr>\n",
       "    <tr>\n",
       "      <th>3</th>\n",
       "      <td>1023791192</td>\n",
       "      <td>5</td>\n",
       "      <td>INTERNET</td>\n",
       "      <td>PARCEL</td>\n",
       "      <td>FAMILY</td>\n",
       "      <td>52.86</td>\n",
       "      <td>13.00</td>\n",
       "      <td>NaT</td>\n",
       "      <td>0</td>\n",
       "    </tr>\n",
       "    <tr>\n",
       "      <th>4</th>\n",
       "      <td>1021575410</td>\n",
       "      <td>6</td>\n",
       "      <td>INTERNET</td>\n",
       "      <td>PARCEL</td>\n",
       "      <td>NOT FAMILY</td>\n",
       "      <td>25.95</td>\n",
       "      <td>2.00</td>\n",
       "      <td>NaT</td>\n",
       "      <td>0</td>\n",
       "    </tr>\n",
       "  </tbody>\n",
       "</table>\n",
       "</div>"
      ],
      "text/plain": [
       "   ORDER_NUMBER  DELIVERY_DAYS ORDER_METHOD DELIVERY_WAY FAMILY_CUST  \\\n",
       "0    1001221780              9     INTERNET       PARCEL      FAMILY   \n",
       "1    1016958255              9     INTERNET       PARCEL      FAMILY   \n",
       "2    1027034568              5     INTERNET       PARCEL  NOT FAMILY   \n",
       "3    1023791192              5     INTERNET       PARCEL      FAMILY   \n",
       "4    1021575410              6     INTERNET       PARCEL  NOT FAMILY   \n",
       "\n",
       "   TOTAL_ORDER_VALUE_NET  NUMBER_ARTICLES        RETURN_CREAT  ORDER_STATUS  \n",
       "0                  46.73            10.00                 NaT             0  \n",
       "1                  21.29             7.00                 NaT             0  \n",
       "2                  90.61             8.00 2019-04-27 13:13:12             1  \n",
       "3                  52.86            13.00                 NaT             0  \n",
       "4                  25.95             2.00                 NaT             0  "
      ]
     },
     "execution_count": 24,
     "metadata": {},
     "output_type": "execute_result"
    }
   ],
   "source": [
    "le = preprocessing.LabelEncoder()\n",
    "df_a1['ORDER_STATUS'] = le.fit_transform(df_a1['ORDER_STATUS'])\n",
    "df_a1.head()"
   ]
  },
  {
   "cell_type": "code",
   "execution_count": null,
   "metadata": {},
   "outputs": [],
   "source": [
    "df_a1.info()"
   ]
  },
  {
   "cell_type": "code",
   "execution_count": null,
   "metadata": {},
   "outputs": [],
   "source": [
    "df_a1.corr(method='spearman')"
   ]
  },
  {
   "cell_type": "markdown",
   "metadata": {},
   "source": [
    "## Handling missing values"
   ]
  },
  {
   "cell_type": "code",
   "execution_count": 22,
   "metadata": {},
   "outputs": [
    {
     "data": {
      "text/plain": [
       "ORDER_NUMBER                   0\n",
       "DELIVERY_DAYS                  0\n",
       "ORDER_METHOD                   0\n",
       "DELIVERY_WAY                   0\n",
       "FAMILY_CUST                    0\n",
       "TOTAL_ORDER_VALUE_NET         32\n",
       "NUMBER_ARTICLES             2696\n",
       "RETURN_CREAT             3061918\n",
       "ORDER_STATUS                   0\n",
       "dtype: int64"
      ]
     },
     "execution_count": 22,
     "metadata": {},
     "output_type": "execute_result"
    }
   ],
   "source": [
    "df_a1.isnull().sum()"
   ]
  },
  {
   "cell_type": "code",
   "execution_count": 23,
   "metadata": {},
   "outputs": [],
   "source": [
    "df_a2 = df_a1.drop(['RETURN_CREAT'], axis=1)"
   ]
  },
  {
   "cell_type": "code",
   "execution_count": 24,
   "metadata": {},
   "outputs": [],
   "source": [
    "df_a2['TOTAL_ORDER_VALUE_NET'].fillna(df_a2['TOTAL_ORDER_VALUE_NET'].median(), inplace=True)\n",
    "df_a2['NUMBER_ARTICLES'].fillna(df_a2['NUMBER_ARTICLES'].median(), inplace=True)"
   ]
  },
  {
   "cell_type": "code",
   "execution_count": 25,
   "metadata": {},
   "outputs": [
    {
     "data": {
      "text/plain": [
       "ORDER_NUMBER             0\n",
       "DELIVERY_DAYS            0\n",
       "ORDER_METHOD             0\n",
       "DELIVERY_WAY             0\n",
       "FAMILY_CUST              0\n",
       "TOTAL_ORDER_VALUE_NET    0\n",
       "NUMBER_ARTICLES          0\n",
       "ORDER_STATUS             0\n",
       "dtype: int64"
      ]
     },
     "execution_count": 25,
     "metadata": {},
     "output_type": "execute_result"
    }
   ],
   "source": [
    "df_a2.isnull().sum()"
   ]
  },
  {
   "cell_type": "markdown",
   "metadata": {},
   "source": [
    "## Outliers treatment"
   ]
  },
  {
   "cell_type": "code",
   "execution_count": null,
   "metadata": {},
   "outputs": [],
   "source": [
    "fig = plt.figure(figsize=(16,16))\n",
    "ax1 = fig.add_subplot(221)\n",
    "sns.distplot(df_a2['DELIVERY_DAYS'], hist=True, ax=ax1)\n",
    "ax2 = fig.add_subplot(222)\n",
    "sns.distplot(df_a2['TOTAL_ORDER_VALUE_NET'], hist=True, ax=ax2)\n",
    "ax3 = fig.add_subplot(223)\n",
    "sns.distplot(df_a2['NUMBER_ARTICLES'], hist=True, ax=ax3)\n",
    "plt.show()"
   ]
  },
  {
   "cell_type": "code",
   "execution_count": 24,
   "metadata": {},
   "outputs": [
    {
     "data": {
      "text/plain": [
       "13609"
      ]
     },
     "execution_count": 24,
     "metadata": {},
     "output_type": "execute_result"
    }
   ],
   "source": [
    "len(df_a2[df_a2['NUMBER_ARTICLES']>100])"
   ]
  },
  {
   "cell_type": "code",
   "execution_count": 25,
   "metadata": {},
   "outputs": [
    {
     "data": {
      "text/plain": [
       "14673"
      ]
     },
     "execution_count": 25,
     "metadata": {},
     "output_type": "execute_result"
    }
   ],
   "source": [
    "len(df_a2[df_a2['DELIVERY_DAYS']>50])"
   ]
  },
  {
   "cell_type": "code",
   "execution_count": 26,
   "metadata": {},
   "outputs": [
    {
     "data": {
      "text/plain": [
       "14510"
      ]
     },
     "execution_count": 26,
     "metadata": {},
     "output_type": "execute_result"
    }
   ],
   "source": [
    "len(df_a2[df_a2['TOTAL_ORDER_VALUE_NET']>2100])"
   ]
  },
  {
   "cell_type": "code",
   "execution_count": 26,
   "metadata": {},
   "outputs": [
    {
     "data": {
      "text/plain": [
       "38207"
      ]
     },
     "execution_count": 26,
     "metadata": {},
     "output_type": "execute_result"
    }
   ],
   "source": [
    "len(df_a2[(df_a2['NUMBER_ARTICLES']>100) | (df_a2['DELIVERY_DAYS']>50) | (df_a2['TOTAL_ORDER_VALUE_NET']>2100)])"
   ]
  },
  {
   "cell_type": "code",
   "execution_count": 27,
   "metadata": {},
   "outputs": [],
   "source": [
    "df_a3 = df_a2.copy()"
   ]
  },
  {
   "cell_type": "code",
   "execution_count": 28,
   "metadata": {},
   "outputs": [],
   "source": [
    "df_a3['NUMBER_ARTICLES'] = df_a3['NUMBER_ARTICLES'].clip(0, 100)"
   ]
  },
  {
   "cell_type": "code",
   "execution_count": 29,
   "metadata": {},
   "outputs": [],
   "source": [
    "df_a3['DELIVERY_DAYS'] = df_a3['DELIVERY_DAYS'].clip(0, 50)"
   ]
  },
  {
   "cell_type": "code",
   "execution_count": 30,
   "metadata": {},
   "outputs": [],
   "source": [
    "df_a3['TOTAL_ORDER_VALUE_NET'] = df_a3['TOTAL_ORDER_VALUE_NET'].clip(0, 2100)"
   ]
  },
  {
   "cell_type": "code",
   "execution_count": 32,
   "metadata": {},
   "outputs": [
    {
     "data": {
      "image/png": "[encoded data removed]",
      "text/plain": [
       "<Figure size 1152x1152 with 3 Axes>"
      ]
     },
     "metadata": {
      "needs_background": "light"
     },
     "output_type": "display_data"
    }
   ],
   "source": [
    "fig = plt.figure(figsize=(16,16))\n",
    "ax1 = fig.add_subplot(221)\n",
    "sns.boxplot(x=df_a3['ORDER_STATUS'], y=df_a3['NUMBER_ARTICLES'], ax=ax1)\n",
    "ax2 = fig.add_subplot(222)\n",
    "sns.boxplot(x=df_a3['ORDER_STATUS'], y=df_a3['DELIVERY_DAYS'], ax=ax2)\n",
    "ax3 = fig.add_subplot(223)\n",
    "sns.boxplot(x=df_a3['ORDER_STATUS'], y=df_a3['TOTAL_ORDER_VALUE_NET'], ax=ax3)\n",
    "plt.show()"
   ]
  },
  {
   "cell_type": "code",
   "execution_count": 31,
   "metadata": {},
   "outputs": [
    {
     "data": {
      "text/html": [
       "<div>\n",
       "<style scoped>\n",
       "    .dataframe tbody tr th:only-of-type {\n",
       "        vertical-align: middle;\n",
       "    }\n",
       "\n",
       "    .dataframe tbody tr th {\n",
       "        vertical-align: top;\n",
       "    }\n",
       "\n",
       "    .dataframe thead th {\n",
       "        text-align: right;\n",
       "    }\n",
       "</style>\n",
       "<table border=\"1\" class=\"dataframe\">\n",
       "  <thead>\n",
       "    <tr style=\"text-align: right;\">\n",
       "      <th></th>\n",
       "      <th>ORDER_NUMBER</th>\n",
       "      <th>DELIVERY_DAYS</th>\n",
       "      <th>ORDER_METHOD</th>\n",
       "      <th>DELIVERY_WAY</th>\n",
       "      <th>FAMILY_CUST</th>\n",
       "      <th>TOTAL_ORDER_VALUE_NET</th>\n",
       "      <th>NUMBER_ARTICLES</th>\n",
       "      <th>ORDER_STATUS</th>\n",
       "    </tr>\n",
       "  </thead>\n",
       "  <tbody>\n",
       "    <tr>\n",
       "      <th>0</th>\n",
       "      <td>1052627295</td>\n",
       "      <td>37</td>\n",
       "      <td>INTERNET</td>\n",
       "      <td>PARCEL</td>\n",
       "      <td>NOT FAMILY</td>\n",
       "      <td>22.59</td>\n",
       "      <td>2.0</td>\n",
       "      <td>0</td>\n",
       "    </tr>\n",
       "    <tr>\n",
       "      <th>1</th>\n",
       "      <td>1051968556</td>\n",
       "      <td>5</td>\n",
       "      <td>INTERNET</td>\n",
       "      <td>TRUCK</td>\n",
       "      <td>FAMILY</td>\n",
       "      <td>242.02</td>\n",
       "      <td>4.0</td>\n",
       "      <td>0</td>\n",
       "    </tr>\n",
       "    <tr>\n",
       "      <th>2</th>\n",
       "      <td>1052039863</td>\n",
       "      <td>12</td>\n",
       "      <td>INTERNET</td>\n",
       "      <td>PARCEL</td>\n",
       "      <td>NOT FAMILY</td>\n",
       "      <td>108.32</td>\n",
       "      <td>1.0</td>\n",
       "      <td>0</td>\n",
       "    </tr>\n",
       "    <tr>\n",
       "      <th>3</th>\n",
       "      <td>1052056126</td>\n",
       "      <td>14</td>\n",
       "      <td>INTERNET</td>\n",
       "      <td>PARCEL</td>\n",
       "      <td>NOT FAMILY</td>\n",
       "      <td>37.71</td>\n",
       "      <td>3.0</td>\n",
       "      <td>0</td>\n",
       "    </tr>\n",
       "    <tr>\n",
       "      <th>4</th>\n",
       "      <td>1048719337</td>\n",
       "      <td>18</td>\n",
       "      <td>INTERNET</td>\n",
       "      <td>MIXED ORDER</td>\n",
       "      <td>NOT FAMILY</td>\n",
       "      <td>662.56</td>\n",
       "      <td>60.0</td>\n",
       "      <td>1</td>\n",
       "    </tr>\n",
       "  </tbody>\n",
       "</table>\n",
       "</div>"
      ],
      "text/plain": [
       "   ORDER_NUMBER  DELIVERY_DAYS ORDER_METHOD DELIVERY_WAY FAMILY_CUST  \\\n",
       "0    1052627295             37     INTERNET       PARCEL  NOT FAMILY   \n",
       "1    1051968556              5     INTERNET        TRUCK      FAMILY   \n",
       "2    1052039863             12     INTERNET       PARCEL  NOT FAMILY   \n",
       "3    1052056126             14     INTERNET       PARCEL  NOT FAMILY   \n",
       "4    1048719337             18     INTERNET  MIXED ORDER  NOT FAMILY   \n",
       "\n",
       "   TOTAL_ORDER_VALUE_NET  NUMBER_ARTICLES  ORDER_STATUS  \n",
       "0                  22.59              2.0             0  \n",
       "1                 242.02              4.0             0  \n",
       "2                 108.32              1.0             0  \n",
       "3                  37.71              3.0             0  \n",
       "4                 662.56             60.0             1  "
      ]
     },
     "execution_count": 31,
     "metadata": {},
     "output_type": "execute_result"
    }
   ],
   "source": [
    "df_a3.head()"
   ]
  },
  {
   "cell_type": "markdown",
   "metadata": {},
   "source": [
    "## Sampling of dataset"
   ]
  },
  {
   "cell_type": "code",
   "execution_count": 32,
   "metadata": {},
   "outputs": [
    {
     "data": {
      "text/plain": [
       "0    700000\n",
       "1    134682\n",
       "Name: ORDER_STATUS, dtype: int64"
      ]
     },
     "execution_count": 32,
     "metadata": {},
     "output_type": "execute_result"
    }
   ],
   "source": [
    "#downsampling for outliers limited dataframe\n",
    "shuffled_df1 = df_a3.sample(frac=1, random_state=1000)\n",
    "df_majority1 = shuffled_df1.loc[shuffled_df1['ORDER_STATUS']==0].sample(n=700000, random_state=1000)\n",
    "df_minority1 = shuffled_df1.loc[shuffled_df1['ORDER_STATUS']==1]\n",
    "df_downsampled1 = pd.concat([df_majority1, df_minority1])\n",
    "df_downsampled1 = df_downsampled1.sample(frac=1, random_state=1000)\n",
    "df_downsampled1['ORDER_STATUS'].value_counts()"
   ]
  },
  {
   "cell_type": "code",
   "execution_count": 33,
   "metadata": {},
   "outputs": [],
   "source": [
    "df_a4 = df_downsampled1.copy()"
   ]
  },
  {
   "cell_type": "code",
   "execution_count": null,
   "metadata": {},
   "outputs": [],
   "source": [
    "df_a4.info()"
   ]
  },
  {
   "cell_type": "markdown",
   "metadata": {},
   "source": [
    "### Joining with Item level dataset"
   ]
  },
  {
   "cell_type": "code",
   "execution_count": 25,
   "metadata": {},
   "outputs": [
    {
     "data": {
      "text/html": [
       "<div>\n",
       "<style scoped>\n",
       "    .dataframe tbody tr th:only-of-type {\n",
       "        vertical-align: middle;\n",
       "    }\n",
       "\n",
       "    .dataframe tbody tr th {\n",
       "        vertical-align: top;\n",
       "    }\n",
       "\n",
       "    .dataframe thead th {\n",
       "        text-align: right;\n",
       "    }\n",
       "</style>\n",
       "<table border=\"1\" class=\"dataframe\">\n",
       "  <thead>\n",
       "    <tr style=\"text-align: right;\">\n",
       "      <th></th>\n",
       "      <th>ORDER_NUMBER</th>\n",
       "      <th>HFB_NO</th>\n",
       "      <th>HFB_NAME</th>\n",
       "    </tr>\n",
       "  </thead>\n",
       "  <tbody>\n",
       "    <tr>\n",
       "      <th>0</th>\n",
       "      <td>689293298</td>\n",
       "      <td>02</td>\n",
       "      <td>Store and organise furniture</td>\n",
       "    </tr>\n",
       "    <tr>\n",
       "      <th>1</th>\n",
       "      <td>1003961275</td>\n",
       "      <td>97</td>\n",
       "      <td>Services</td>\n",
       "    </tr>\n",
       "    <tr>\n",
       "      <th>2</th>\n",
       "      <td>1003961275</td>\n",
       "      <td>04</td>\n",
       "      <td>Bedroom furniture</td>\n",
       "    </tr>\n",
       "    <tr>\n",
       "      <th>3</th>\n",
       "      <td>1003961275</td>\n",
       "      <td>18</td>\n",
       "      <td>Home organisation</td>\n",
       "    </tr>\n",
       "    <tr>\n",
       "      <th>4</th>\n",
       "      <td>1003961275</td>\n",
       "      <td>04</td>\n",
       "      <td>Bedroom furniture</td>\n",
       "    </tr>\n",
       "    <tr>\n",
       "      <th>5</th>\n",
       "      <td>1003961275</td>\n",
       "      <td>04</td>\n",
       "      <td>Bedroom furniture</td>\n",
       "    </tr>\n",
       "    <tr>\n",
       "      <th>6</th>\n",
       "      <td>1003961369</td>\n",
       "      <td>02</td>\n",
       "      <td>Store and organise furniture</td>\n",
       "    </tr>\n",
       "    <tr>\n",
       "      <th>7</th>\n",
       "      <td>1003961369</td>\n",
       "      <td>02</td>\n",
       "      <td>Store and organise furniture</td>\n",
       "    </tr>\n",
       "    <tr>\n",
       "      <th>8</th>\n",
       "      <td>1003961369</td>\n",
       "      <td>02</td>\n",
       "      <td>Store and organise furniture</td>\n",
       "    </tr>\n",
       "    <tr>\n",
       "      <th>9</th>\n",
       "      <td>1003961369</td>\n",
       "      <td>02</td>\n",
       "      <td>Store and organise furniture</td>\n",
       "    </tr>\n",
       "  </tbody>\n",
       "</table>\n",
       "</div>"
      ],
      "text/plain": [
       "   ORDER_NUMBER HFB_NO                      HFB_NAME\n",
       "0     689293298     02  Store and organise furniture\n",
       "1    1003961275     97                      Services\n",
       "2    1003961275     04             Bedroom furniture\n",
       "3    1003961275     18             Home organisation\n",
       "4    1003961275     04             Bedroom furniture\n",
       "5    1003961275     04             Bedroom furniture\n",
       "6    1003961369     02  Store and organise furniture\n",
       "7    1003961369     02  Store and organise furniture\n",
       "8    1003961369     02  Store and organise furniture\n",
       "9    1003961369     02  Store and organise furniture"
      ]
     },
     "execution_count": 25,
     "metadata": {},
     "output_type": "execute_result"
    }
   ],
   "source": [
    "item_df1.head(10)"
   ]
  },
  {
   "cell_type": "code",
   "execution_count": 13,
   "metadata": {},
   "outputs": [
    {
     "data": {
      "text/plain": [
       "ORDER_NUMBER    0\n",
       "HFB_NO          0\n",
       "HFB_NAME        0\n",
       "dtype: int64"
      ]
     },
     "execution_count": 13,
     "metadata": {},
     "output_type": "execute_result"
    }
   ],
   "source": [
    "item_df1.isnull().sum()"
   ]
  },
  {
   "cell_type": "code",
   "execution_count": 15,
   "metadata": {},
   "outputs": [],
   "source": [
    "item_df2 = item_df1.drop(['HFB_NAME'], axis=1)"
   ]
  },
  {
   "cell_type": "code",
   "execution_count": 16,
   "metadata": {},
   "outputs": [],
   "source": [
    "item_df3 = pd.get_dummies(item_df2, prefix=['HFB_NO'])"
   ]
  },
  {
   "cell_type": "code",
   "execution_count": 26,
   "metadata": {},
   "outputs": [
    {
     "data": {
      "text/html": [
       "<div>\n",
       "<style scoped>\n",
       "    .dataframe tbody tr th:only-of-type {\n",
       "        vertical-align: middle;\n",
       "    }\n",
       "\n",
       "    .dataframe tbody tr th {\n",
       "        vertical-align: top;\n",
       "    }\n",
       "\n",
       "    .dataframe thead th {\n",
       "        text-align: right;\n",
       "    }\n",
       "</style>\n",
       "<table border=\"1\" class=\"dataframe\">\n",
       "  <thead>\n",
       "    <tr style=\"text-align: right;\">\n",
       "      <th></th>\n",
       "      <th>ORDER_NUMBER</th>\n",
       "      <th>HFB_NO_01</th>\n",
       "      <th>HFB_NO_02</th>\n",
       "      <th>HFB_NO_03</th>\n",
       "      <th>HFB_NO_04</th>\n",
       "      <th>HFB_NO_05</th>\n",
       "      <th>HFB_NO_06</th>\n",
       "      <th>HFB_NO_07</th>\n",
       "      <th>HFB_NO_08</th>\n",
       "      <th>HFB_NO_09</th>\n",
       "      <th>...</th>\n",
       "      <th>HFB_NO_15</th>\n",
       "      <th>HFB_NO_16</th>\n",
       "      <th>HFB_NO_17</th>\n",
       "      <th>HFB_NO_18</th>\n",
       "      <th>HFB_NO_20</th>\n",
       "      <th>HFB_NO_70</th>\n",
       "      <th>HFB_NO_95</th>\n",
       "      <th>HFB_NO_96</th>\n",
       "      <th>HFB_NO_97</th>\n",
       "      <th>HFB_NO_?</th>\n",
       "    </tr>\n",
       "  </thead>\n",
       "  <tbody>\n",
       "    <tr>\n",
       "      <th>0</th>\n",
       "      <td>689293298</td>\n",
       "      <td>0</td>\n",
       "      <td>1</td>\n",
       "      <td>0</td>\n",
       "      <td>0</td>\n",
       "      <td>0</td>\n",
       "      <td>0</td>\n",
       "      <td>0</td>\n",
       "      <td>0</td>\n",
       "      <td>0</td>\n",
       "      <td>...</td>\n",
       "      <td>0</td>\n",
       "      <td>0</td>\n",
       "      <td>0</td>\n",
       "      <td>0</td>\n",
       "      <td>0</td>\n",
       "      <td>0</td>\n",
       "      <td>0</td>\n",
       "      <td>0</td>\n",
       "      <td>0</td>\n",
       "      <td>0</td>\n",
       "    </tr>\n",
       "    <tr>\n",
       "      <th>1</th>\n",
       "      <td>1003961275</td>\n",
       "      <td>0</td>\n",
       "      <td>0</td>\n",
       "      <td>0</td>\n",
       "      <td>0</td>\n",
       "      <td>0</td>\n",
       "      <td>0</td>\n",
       "      <td>0</td>\n",
       "      <td>0</td>\n",
       "      <td>0</td>\n",
       "      <td>...</td>\n",
       "      <td>0</td>\n",
       "      <td>0</td>\n",
       "      <td>0</td>\n",
       "      <td>0</td>\n",
       "      <td>0</td>\n",
       "      <td>0</td>\n",
       "      <td>0</td>\n",
       "      <td>0</td>\n",
       "      <td>1</td>\n",
       "      <td>0</td>\n",
       "    </tr>\n",
       "    <tr>\n",
       "      <th>2</th>\n",
       "      <td>1003961275</td>\n",
       "      <td>0</td>\n",
       "      <td>0</td>\n",
       "      <td>0</td>\n",
       "      <td>1</td>\n",
       "      <td>0</td>\n",
       "      <td>0</td>\n",
       "      <td>0</td>\n",
       "      <td>0</td>\n",
       "      <td>0</td>\n",
       "      <td>...</td>\n",
       "      <td>0</td>\n",
       "      <td>0</td>\n",
       "      <td>0</td>\n",
       "      <td>0</td>\n",
       "      <td>0</td>\n",
       "      <td>0</td>\n",
       "      <td>0</td>\n",
       "      <td>0</td>\n",
       "      <td>0</td>\n",
       "      <td>0</td>\n",
       "    </tr>\n",
       "    <tr>\n",
       "      <th>3</th>\n",
       "      <td>1003961275</td>\n",
       "      <td>0</td>\n",
       "      <td>0</td>\n",
       "      <td>0</td>\n",
       "      <td>0</td>\n",
       "      <td>0</td>\n",
       "      <td>0</td>\n",
       "      <td>0</td>\n",
       "      <td>0</td>\n",
       "      <td>0</td>\n",
       "      <td>...</td>\n",
       "      <td>0</td>\n",
       "      <td>0</td>\n",
       "      <td>0</td>\n",
       "      <td>1</td>\n",
       "      <td>0</td>\n",
       "      <td>0</td>\n",
       "      <td>0</td>\n",
       "      <td>0</td>\n",
       "      <td>0</td>\n",
       "      <td>0</td>\n",
       "    </tr>\n",
       "    <tr>\n",
       "      <th>4</th>\n",
       "      <td>1003961275</td>\n",
       "      <td>0</td>\n",
       "      <td>0</td>\n",
       "      <td>0</td>\n",
       "      <td>1</td>\n",
       "      <td>0</td>\n",
       "      <td>0</td>\n",
       "      <td>0</td>\n",
       "      <td>0</td>\n",
       "      <td>0</td>\n",
       "      <td>...</td>\n",
       "      <td>0</td>\n",
       "      <td>0</td>\n",
       "      <td>0</td>\n",
       "      <td>0</td>\n",
       "      <td>0</td>\n",
       "      <td>0</td>\n",
       "      <td>0</td>\n",
       "      <td>0</td>\n",
       "      <td>0</td>\n",
       "      <td>0</td>\n",
       "    </tr>\n",
       "    <tr>\n",
       "      <th>5</th>\n",
       "      <td>1003961275</td>\n",
       "      <td>0</td>\n",
       "      <td>0</td>\n",
       "      <td>0</td>\n",
       "      <td>1</td>\n",
       "      <td>0</td>\n",
       "      <td>0</td>\n",
       "      <td>0</td>\n",
       "      <td>0</td>\n",
       "      <td>0</td>\n",
       "      <td>...</td>\n",
       "      <td>0</td>\n",
       "      <td>0</td>\n",
       "      <td>0</td>\n",
       "      <td>0</td>\n",
       "      <td>0</td>\n",
       "      <td>0</td>\n",
       "      <td>0</td>\n",
       "      <td>0</td>\n",
       "      <td>0</td>\n",
       "      <td>0</td>\n",
       "    </tr>\n",
       "    <tr>\n",
       "      <th>6</th>\n",
       "      <td>1003961369</td>\n",
       "      <td>0</td>\n",
       "      <td>1</td>\n",
       "      <td>0</td>\n",
       "      <td>0</td>\n",
       "      <td>0</td>\n",
       "      <td>0</td>\n",
       "      <td>0</td>\n",
       "      <td>0</td>\n",
       "      <td>0</td>\n",
       "      <td>...</td>\n",
       "      <td>0</td>\n",
       "      <td>0</td>\n",
       "      <td>0</td>\n",
       "      <td>0</td>\n",
       "      <td>0</td>\n",
       "      <td>0</td>\n",
       "      <td>0</td>\n",
       "      <td>0</td>\n",
       "      <td>0</td>\n",
       "      <td>0</td>\n",
       "    </tr>\n",
       "    <tr>\n",
       "      <th>7</th>\n",
       "      <td>1003961369</td>\n",
       "      <td>0</td>\n",
       "      <td>1</td>\n",
       "      <td>0</td>\n",
       "      <td>0</td>\n",
       "      <td>0</td>\n",
       "      <td>0</td>\n",
       "      <td>0</td>\n",
       "      <td>0</td>\n",
       "      <td>0</td>\n",
       "      <td>...</td>\n",
       "      <td>0</td>\n",
       "      <td>0</td>\n",
       "      <td>0</td>\n",
       "      <td>0</td>\n",
       "      <td>0</td>\n",
       "      <td>0</td>\n",
       "      <td>0</td>\n",
       "      <td>0</td>\n",
       "      <td>0</td>\n",
       "      <td>0</td>\n",
       "    </tr>\n",
       "    <tr>\n",
       "      <th>8</th>\n",
       "      <td>1003961369</td>\n",
       "      <td>0</td>\n",
       "      <td>1</td>\n",
       "      <td>0</td>\n",
       "      <td>0</td>\n",
       "      <td>0</td>\n",
       "      <td>0</td>\n",
       "      <td>0</td>\n",
       "      <td>0</td>\n",
       "      <td>0</td>\n",
       "      <td>...</td>\n",
       "      <td>0</td>\n",
       "      <td>0</td>\n",
       "      <td>0</td>\n",
       "      <td>0</td>\n",
       "      <td>0</td>\n",
       "      <td>0</td>\n",
       "      <td>0</td>\n",
       "      <td>0</td>\n",
       "      <td>0</td>\n",
       "      <td>0</td>\n",
       "    </tr>\n",
       "    <tr>\n",
       "      <th>9</th>\n",
       "      <td>1003961369</td>\n",
       "      <td>0</td>\n",
       "      <td>1</td>\n",
       "      <td>0</td>\n",
       "      <td>0</td>\n",
       "      <td>0</td>\n",
       "      <td>0</td>\n",
       "      <td>0</td>\n",
       "      <td>0</td>\n",
       "      <td>0</td>\n",
       "      <td>...</td>\n",
       "      <td>0</td>\n",
       "      <td>0</td>\n",
       "      <td>0</td>\n",
       "      <td>0</td>\n",
       "      <td>0</td>\n",
       "      <td>0</td>\n",
       "      <td>0</td>\n",
       "      <td>0</td>\n",
       "      <td>0</td>\n",
       "      <td>0</td>\n",
       "    </tr>\n",
       "  </tbody>\n",
       "</table>\n",
       "<p>10 rows × 25 columns</p>\n",
       "</div>"
      ],
      "text/plain": [
       "   ORDER_NUMBER  HFB_NO_01  HFB_NO_02  HFB_NO_03  HFB_NO_04  HFB_NO_05  \\\n",
       "0     689293298          0          1          0          0          0   \n",
       "1    1003961275          0          0          0          0          0   \n",
       "2    1003961275          0          0          0          1          0   \n",
       "3    1003961275          0          0          0          0          0   \n",
       "4    1003961275          0          0          0          1          0   \n",
       "5    1003961275          0          0          0          1          0   \n",
       "6    1003961369          0          1          0          0          0   \n",
       "7    1003961369          0          1          0          0          0   \n",
       "8    1003961369          0          1          0          0          0   \n",
       "9    1003961369          0          1          0          0          0   \n",
       "\n",
       "   HFB_NO_06  HFB_NO_07  HFB_NO_08  HFB_NO_09    ...     HFB_NO_15  HFB_NO_16  \\\n",
       "0          0          0          0          0    ...             0          0   \n",
       "1          0          0          0          0    ...             0          0   \n",
       "2          0          0          0          0    ...             0          0   \n",
       "3          0          0          0          0    ...             0          0   \n",
       "4          0          0          0          0    ...             0          0   \n",
       "5          0          0          0          0    ...             0          0   \n",
       "6          0          0          0          0    ...             0          0   \n",
       "7          0          0          0          0    ...             0          0   \n",
       "8          0          0          0          0    ...             0          0   \n",
       "9          0          0          0          0    ...             0          0   \n",
       "\n",
       "   HFB_NO_17  HFB_NO_18  HFB_NO_20  HFB_NO_70  HFB_NO_95  HFB_NO_96  \\\n",
       "0          0          0          0          0          0          0   \n",
       "1          0          0          0          0          0          0   \n",
       "2          0          0          0          0          0          0   \n",
       "3          0          1          0          0          0          0   \n",
       "4          0          0          0          0          0          0   \n",
       "5          0          0          0          0          0          0   \n",
       "6          0          0          0          0          0          0   \n",
       "7          0          0          0          0          0          0   \n",
       "8          0          0          0          0          0          0   \n",
       "9          0          0          0          0          0          0   \n",
       "\n",
       "   HFB_NO_97  HFB_NO_?  \n",
       "0          0         0  \n",
       "1          1         0  \n",
       "2          0         0  \n",
       "3          0         0  \n",
       "4          0         0  \n",
       "5          0         0  \n",
       "6          0         0  \n",
       "7          0         0  \n",
       "8          0         0  \n",
       "9          0         0  \n",
       "\n",
       "[10 rows x 25 columns]"
      ]
     },
     "execution_count": 26,
     "metadata": {},
     "output_type": "execute_result"
    }
   ],
   "source": [
    "item_df3.head(10)"
   ]
  },
  {
   "cell_type": "code",
   "execution_count": 27,
   "metadata": {},
   "outputs": [],
   "source": [
    "item_df4 = item_df3.groupby(['ORDER_NUMBER'])['HFB_NO_01', 'HFB_NO_02', 'HFB_NO_03', 'HFB_NO_04', 'HFB_NO_05', 'HFB_NO_06', 'HFB_NO_07', 'HFB_NO_08',\n",
    "                                             'HFB_NO_09', 'HFB_NO_10', 'HFB_NO_11', 'HFB_NO_12', 'HFB_NO_13', 'HFB_NO_14', 'HFB_NO_15', 'HFB_NO_16',\n",
    "                                             'HFB_NO_17', 'HFB_NO_18',  'HFB_NO_20', 'HFB_NO_70', 'HFB_NO_95', 'HFB_NO_96', 'HFB_NO_97'].apply(lambda x: x.max())"
   ]
  },
  {
   "cell_type": "code",
   "execution_count": null,
   "metadata": {},
   "outputs": [],
   "source": [
    "item_df4.head()"
   ]
  },
  {
   "cell_type": "code",
   "execution_count": 44,
   "metadata": {},
   "outputs": [],
   "source": [
    "df_a5 = pd.merge(df_a4, item_df4, on='ORDER_NUMBER', how='left')"
   ]
  },
  {
   "cell_type": "code",
   "execution_count": 45,
   "metadata": {},
   "outputs": [
    {
     "data": {
      "text/html": [
       "<div>\n",
       "<style scoped>\n",
       "    .dataframe tbody tr th:only-of-type {\n",
       "        vertical-align: middle;\n",
       "    }\n",
       "\n",
       "    .dataframe tbody tr th {\n",
       "        vertical-align: top;\n",
       "    }\n",
       "\n",
       "    .dataframe thead th {\n",
       "        text-align: right;\n",
       "    }\n",
       "</style>\n",
       "<table border=\"1\" class=\"dataframe\">\n",
       "  <thead>\n",
       "    <tr style=\"text-align: right;\">\n",
       "      <th></th>\n",
       "      <th>ORDER_NUMBER</th>\n",
       "      <th>DELIVERY_DAYS</th>\n",
       "      <th>ORDER_METHOD</th>\n",
       "      <th>DELIVERY_WAY</th>\n",
       "      <th>FAMILY_CUST</th>\n",
       "      <th>TOTAL_ORDER_VALUE_NET</th>\n",
       "      <th>NUMBER_ARTICLES</th>\n",
       "      <th>ORDER_STATUS</th>\n",
       "      <th>HFB_NO_01</th>\n",
       "      <th>HFB_NO_02</th>\n",
       "      <th>...</th>\n",
       "      <th>HFB_NO_14</th>\n",
       "      <th>HFB_NO_15</th>\n",
       "      <th>HFB_NO_16</th>\n",
       "      <th>HFB_NO_17</th>\n",
       "      <th>HFB_NO_18</th>\n",
       "      <th>HFB_NO_20</th>\n",
       "      <th>HFB_NO_70</th>\n",
       "      <th>HFB_NO_95</th>\n",
       "      <th>HFB_NO_96</th>\n",
       "      <th>HFB_NO_97</th>\n",
       "    </tr>\n",
       "  </thead>\n",
       "  <tbody>\n",
       "    <tr>\n",
       "      <th>0</th>\n",
       "      <td>1010507090</td>\n",
       "      <td>11</td>\n",
       "      <td>INTERNET</td>\n",
       "      <td>PARCEL</td>\n",
       "      <td>NOT FAMILY</td>\n",
       "      <td>19.20</td>\n",
       "      <td>5.0</td>\n",
       "      <td>0</td>\n",
       "      <td>0</td>\n",
       "      <td>0</td>\n",
       "      <td>...</td>\n",
       "      <td>1</td>\n",
       "      <td>0</td>\n",
       "      <td>0</td>\n",
       "      <td>0</td>\n",
       "      <td>1</td>\n",
       "      <td>0</td>\n",
       "      <td>0</td>\n",
       "      <td>0</td>\n",
       "      <td>0</td>\n",
       "      <td>1</td>\n",
       "    </tr>\n",
       "    <tr>\n",
       "      <th>1</th>\n",
       "      <td>1001931606</td>\n",
       "      <td>9</td>\n",
       "      <td>INTERNET</td>\n",
       "      <td>PARCEL</td>\n",
       "      <td>NOT FAMILY</td>\n",
       "      <td>51.18</td>\n",
       "      <td>18.0</td>\n",
       "      <td>0</td>\n",
       "      <td>0</td>\n",
       "      <td>0</td>\n",
       "      <td>...</td>\n",
       "      <td>0</td>\n",
       "      <td>0</td>\n",
       "      <td>0</td>\n",
       "      <td>0</td>\n",
       "      <td>0</td>\n",
       "      <td>0</td>\n",
       "      <td>0</td>\n",
       "      <td>0</td>\n",
       "      <td>0</td>\n",
       "      <td>1</td>\n",
       "    </tr>\n",
       "    <tr>\n",
       "      <th>2</th>\n",
       "      <td>1014350764</td>\n",
       "      <td>16</td>\n",
       "      <td>INTERNET</td>\n",
       "      <td>TRUCK</td>\n",
       "      <td>NOT FAMILY</td>\n",
       "      <td>860.51</td>\n",
       "      <td>34.0</td>\n",
       "      <td>0</td>\n",
       "      <td>0</td>\n",
       "      <td>0</td>\n",
       "      <td>...</td>\n",
       "      <td>0</td>\n",
       "      <td>0</td>\n",
       "      <td>0</td>\n",
       "      <td>0</td>\n",
       "      <td>0</td>\n",
       "      <td>0</td>\n",
       "      <td>0</td>\n",
       "      <td>0</td>\n",
       "      <td>0</td>\n",
       "      <td>1</td>\n",
       "    </tr>\n",
       "    <tr>\n",
       "      <th>3</th>\n",
       "      <td>1014505275</td>\n",
       "      <td>9</td>\n",
       "      <td>INTERNET</td>\n",
       "      <td>PARCEL</td>\n",
       "      <td>NOT FAMILY</td>\n",
       "      <td>35.50</td>\n",
       "      <td>31.0</td>\n",
       "      <td>0</td>\n",
       "      <td>0</td>\n",
       "      <td>0</td>\n",
       "      <td>...</td>\n",
       "      <td>0</td>\n",
       "      <td>0</td>\n",
       "      <td>0</td>\n",
       "      <td>0</td>\n",
       "      <td>1</td>\n",
       "      <td>0</td>\n",
       "      <td>0</td>\n",
       "      <td>0</td>\n",
       "      <td>0</td>\n",
       "      <td>1</td>\n",
       "    </tr>\n",
       "    <tr>\n",
       "      <th>4</th>\n",
       "      <td>1052973957</td>\n",
       "      <td>11</td>\n",
       "      <td>INTERNET</td>\n",
       "      <td>MIXED ORDER</td>\n",
       "      <td>NOT FAMILY</td>\n",
       "      <td>248.73</td>\n",
       "      <td>3.0</td>\n",
       "      <td>0</td>\n",
       "      <td>1</td>\n",
       "      <td>0</td>\n",
       "      <td>...</td>\n",
       "      <td>0</td>\n",
       "      <td>0</td>\n",
       "      <td>0</td>\n",
       "      <td>0</td>\n",
       "      <td>0</td>\n",
       "      <td>0</td>\n",
       "      <td>0</td>\n",
       "      <td>0</td>\n",
       "      <td>0</td>\n",
       "      <td>1</td>\n",
       "    </tr>\n",
       "  </tbody>\n",
       "</table>\n",
       "<p>5 rows × 31 columns</p>\n",
       "</div>"
      ],
      "text/plain": [
       "   ORDER_NUMBER  DELIVERY_DAYS ORDER_METHOD DELIVERY_WAY FAMILY_CUST  \\\n",
       "0    1010507090             11     INTERNET       PARCEL  NOT FAMILY   \n",
       "1    1001931606              9     INTERNET       PARCEL  NOT FAMILY   \n",
       "2    1014350764             16     INTERNET        TRUCK  NOT FAMILY   \n",
       "3    1014505275              9     INTERNET       PARCEL  NOT FAMILY   \n",
       "4    1052973957             11     INTERNET  MIXED ORDER  NOT FAMILY   \n",
       "\n",
       "   TOTAL_ORDER_VALUE_NET  NUMBER_ARTICLES  ORDER_STATUS  HFB_NO_01  HFB_NO_02  \\\n",
       "0                  19.20              5.0             0          0          0   \n",
       "1                  51.18             18.0             0          0          0   \n",
       "2                 860.51             34.0             0          0          0   \n",
       "3                  35.50             31.0             0          0          0   \n",
       "4                 248.73              3.0             0          1          0   \n",
       "\n",
       "     ...      HFB_NO_14  HFB_NO_15  HFB_NO_16  HFB_NO_17  HFB_NO_18  \\\n",
       "0    ...              1          0          0          0          1   \n",
       "1    ...              0          0          0          0          0   \n",
       "2    ...              0          0          0          0          0   \n",
       "3    ...              0          0          0          0          1   \n",
       "4    ...              0          0          0          0          0   \n",
       "\n",
       "   HFB_NO_20  HFB_NO_70  HFB_NO_95  HFB_NO_96  HFB_NO_97  \n",
       "0          0          0          0          0          1  \n",
       "1          0          0          0          0          1  \n",
       "2          0          0          0          0          1  \n",
       "3          0          0          0          0          1  \n",
       "4          0          0          0          0          1  \n",
       "\n",
       "[5 rows x 31 columns]"
      ]
     },
     "execution_count": 45,
     "metadata": {},
     "output_type": "execute_result"
    }
   ],
   "source": [
    "df_a5.head()"
   ]
  },
  {
   "cell_type": "markdown",
   "metadata": {},
   "source": [
    "## Building the classifier model "
   ]
  },
  {
   "cell_type": "code",
   "execution_count": 35,
   "metadata": {},
   "outputs": [],
   "source": [
    "X = df_a4.drop(['ORDER_STATUS', 'ORDER_NUMBER', 'ORDER_METHOD'], axis=1)\n",
    "y = df_a4.ORDER_STATUS"
   ]
  },
  {
   "cell_type": "code",
   "execution_count": 36,
   "metadata": {},
   "outputs": [],
   "source": [
    "X = pd.get_dummies(X)"
   ]
  },
  {
   "cell_type": "code",
   "execution_count": null,
   "metadata": {},
   "outputs": [],
   "source": [
    "X.head()"
   ]
  },
  {
   "cell_type": "code",
   "execution_count": null,
   "metadata": {},
   "outputs": [],
   "source": [
    "X.info()"
   ]
  },
  {
   "cell_type": "code",
   "execution_count": 39,
   "metadata": {},
   "outputs": [],
   "source": [
    "X_train, X_test, y_train, y_test = train_test_split(X, y, test_size=0.3, random_state=1000)"
   ]
  },
  {
   "cell_type": "code",
   "execution_count": 40,
   "metadata": {},
   "outputs": [],
   "source": [
    "model_features = list(X_train.columns)"
   ]
  },
  {
   "cell_type": "markdown",
   "metadata": {},
   "source": [
    "### Scaler transformation "
   ]
  },
  {
   "cell_type": "code",
   "execution_count": 41,
   "metadata": {},
   "outputs": [],
   "source": [
    "sc = StandardScaler()"
   ]
  },
  {
   "cell_type": "code",
   "execution_count": 42,
   "metadata": {},
   "outputs": [],
   "source": [
    "X_train = sc.fit_transform(X_train)\n",
    "X_test = sc.transform(X_test)"
   ]
  },
  {
   "cell_type": "code",
   "execution_count": null,
   "metadata": {},
   "outputs": [],
   "source": [
    "# Logistics classifier\n",
    "C = [0.1, 0.5]\n",
    "for c in C:\n",
    "    print('C value is: ' + str(c))\n",
    "    model = LogisticRegression(C=c, penalty='l1')\n",
    "    model.fit(X_train, y_train)\n",
    "    print('Features importance: ')\n",
    "    for feature in zip(model_features, model.coef_[0]):\n",
    "        print(feature)\n",
    "    pred_test = model.predict(X_test)\n",
    "    print('Accuracy score: ' + str(accuracy_score(y_test, pred_test)))\n",
    "    print(confusion_matrix(y_test, pred_test))\n",
    "    print(classification_report(y_test, pred_test))"
   ]
  },
  {
   "cell_type": "code",
   "execution_count": 145,
   "metadata": {},
   "outputs": [
    {
     "data": {
      "text/html": [
       "<div>\n",
       "<style scoped>\n",
       "    .dataframe tbody tr th:only-of-type {\n",
       "        vertical-align: middle;\n",
       "    }\n",
       "\n",
       "    .dataframe tbody tr th {\n",
       "        vertical-align: top;\n",
       "    }\n",
       "\n",
       "    .dataframe thead th {\n",
       "        text-align: right;\n",
       "    }\n",
       "</style>\n",
       "<table border=\"1\" class=\"dataframe\">\n",
       "  <thead>\n",
       "    <tr style=\"text-align: right;\">\n",
       "      <th></th>\n",
       "      <th>DELIVERY_DAYS</th>\n",
       "      <th>DELIVERY_CHARGE</th>\n",
       "      <th>TOTAL_ORDER_VALUE_NET</th>\n",
       "      <th>NUMBER_ARTICLES</th>\n",
       "      <th>CREATION_MONTH</th>\n",
       "      <th>CREATION_YEAR</th>\n",
       "      <th>COMPLETED_MONTH</th>\n",
       "      <th>COMPLETED_YEAR</th>\n",
       "      <th>ORDER_METHOD_INTERNET</th>\n",
       "      <th>ORDER_METHOD_LETTER</th>\n",
       "      <th>ORDER_METHOD_PHONE</th>\n",
       "      <th>ORDER_METHOD_STORE</th>\n",
       "      <th>ORDER_METHOD_TELANSMACH</th>\n",
       "      <th>DELIVERY_WAY_MIXED ORDER</th>\n",
       "      <th>DELIVERY_WAY_PARCEL</th>\n",
       "      <th>DELIVERY_WAY_TRUCK</th>\n",
       "      <th>FAMILY_CUST_FAMILY</th>\n",
       "      <th>FAMILY_CUST_NOT FAMILY</th>\n",
       "      <th>CUSTOMER_TYPE_BUSINESS</th>\n",
       "      <th>CUSTOMER_TYPE_PRIVATE</th>\n",
       "    </tr>\n",
       "  </thead>\n",
       "  <tbody>\n",
       "    <tr>\n",
       "      <th>1256189</th>\n",
       "      <td>10</td>\n",
       "      <td>7.00</td>\n",
       "      <td>172.98</td>\n",
       "      <td>6.00</td>\n",
       "      <td>5</td>\n",
       "      <td>2019</td>\n",
       "      <td>6</td>\n",
       "      <td>2019</td>\n",
       "      <td>1</td>\n",
       "      <td>0</td>\n",
       "      <td>0</td>\n",
       "      <td>0</td>\n",
       "      <td>0</td>\n",
       "      <td>0</td>\n",
       "      <td>1</td>\n",
       "      <td>0</td>\n",
       "      <td>0</td>\n",
       "      <td>1</td>\n",
       "      <td>0</td>\n",
       "      <td>1</td>\n",
       "    </tr>\n",
       "    <tr>\n",
       "      <th>396086</th>\n",
       "      <td>10</td>\n",
       "      <td>99.00</td>\n",
       "      <td>652.10</td>\n",
       "      <td>47.00</td>\n",
       "      <td>2</td>\n",
       "      <td>2019</td>\n",
       "      <td>3</td>\n",
       "      <td>2019</td>\n",
       "      <td>1</td>\n",
       "      <td>0</td>\n",
       "      <td>0</td>\n",
       "      <td>0</td>\n",
       "      <td>0</td>\n",
       "      <td>0</td>\n",
       "      <td>0</td>\n",
       "      <td>1</td>\n",
       "      <td>1</td>\n",
       "      <td>0</td>\n",
       "      <td>0</td>\n",
       "      <td>1</td>\n",
       "    </tr>\n",
       "    <tr>\n",
       "      <th>1558019</th>\n",
       "      <td>6</td>\n",
       "      <td>3.90</td>\n",
       "      <td>104.10</td>\n",
       "      <td>2.00</td>\n",
       "      <td>3</td>\n",
       "      <td>2019</td>\n",
       "      <td>3</td>\n",
       "      <td>2019</td>\n",
       "      <td>1</td>\n",
       "      <td>0</td>\n",
       "      <td>0</td>\n",
       "      <td>0</td>\n",
       "      <td>0</td>\n",
       "      <td>0</td>\n",
       "      <td>1</td>\n",
       "      <td>0</td>\n",
       "      <td>1</td>\n",
       "      <td>0</td>\n",
       "      <td>0</td>\n",
       "      <td>1</td>\n",
       "    </tr>\n",
       "    <tr>\n",
       "      <th>944414</th>\n",
       "      <td>5</td>\n",
       "      <td>4.00</td>\n",
       "      <td>65.39</td>\n",
       "      <td>8.00</td>\n",
       "      <td>7</td>\n",
       "      <td>2019</td>\n",
       "      <td>7</td>\n",
       "      <td>2019</td>\n",
       "      <td>1</td>\n",
       "      <td>0</td>\n",
       "      <td>0</td>\n",
       "      <td>0</td>\n",
       "      <td>0</td>\n",
       "      <td>0</td>\n",
       "      <td>1</td>\n",
       "      <td>0</td>\n",
       "      <td>0</td>\n",
       "      <td>1</td>\n",
       "      <td>0</td>\n",
       "      <td>1</td>\n",
       "    </tr>\n",
       "    <tr>\n",
       "      <th>1137198</th>\n",
       "      <td>8</td>\n",
       "      <td>3.90</td>\n",
       "      <td>168.78</td>\n",
       "      <td>6.00</td>\n",
       "      <td>5</td>\n",
       "      <td>2019</td>\n",
       "      <td>5</td>\n",
       "      <td>2019</td>\n",
       "      <td>1</td>\n",
       "      <td>0</td>\n",
       "      <td>0</td>\n",
       "      <td>0</td>\n",
       "      <td>0</td>\n",
       "      <td>0</td>\n",
       "      <td>1</td>\n",
       "      <td>0</td>\n",
       "      <td>0</td>\n",
       "      <td>1</td>\n",
       "      <td>0</td>\n",
       "      <td>1</td>\n",
       "    </tr>\n",
       "  </tbody>\n",
       "</table>\n",
       "</div>"
      ],
      "text/plain": [
       "         DELIVERY_DAYS  DELIVERY_CHARGE  TOTAL_ORDER_VALUE_NET  \\\n",
       "1256189             10             7.00                 172.98   \n",
       "396086              10            99.00                 652.10   \n",
       "1558019              6             3.90                 104.10   \n",
       "944414               5             4.00                  65.39   \n",
       "1137198              8             3.90                 168.78   \n",
       "\n",
       "         NUMBER_ARTICLES  CREATION_MONTH  CREATION_YEAR  COMPLETED_MONTH  \\\n",
       "1256189             6.00               5           2019                6   \n",
       "396086             47.00               2           2019                3   \n",
       "1558019             2.00               3           2019                3   \n",
       "944414              8.00               7           2019                7   \n",
       "1137198             6.00               5           2019                5   \n",
       "\n",
       "         COMPLETED_YEAR  ORDER_METHOD_INTERNET  ORDER_METHOD_LETTER  \\\n",
       "1256189            2019                      1                    0   \n",
       "396086             2019                      1                    0   \n",
       "1558019            2019                      1                    0   \n",
       "944414             2019                      1                    0   \n",
       "1137198            2019                      1                    0   \n",
       "\n",
       "         ORDER_METHOD_PHONE  ORDER_METHOD_STORE  ORDER_METHOD_TELANSMACH  \\\n",
       "1256189                   0                   0                        0   \n",
       "396086                    0                   0                        0   \n",
       "1558019                   0                   0                        0   \n",
       "944414                    0                   0                        0   \n",
       "1137198                   0                   0                        0   \n",
       "\n",
       "         DELIVERY_WAY_MIXED ORDER  DELIVERY_WAY_PARCEL  DELIVERY_WAY_TRUCK  \\\n",
       "1256189                         0                    1                   0   \n",
       "396086                          0                    0                   1   \n",
       "1558019                         0                    1                   0   \n",
       "944414                          0                    1                   0   \n",
       "1137198                         0                    1                   0   \n",
       "\n",
       "         FAMILY_CUST_FAMILY  FAMILY_CUST_NOT FAMILY  CUSTOMER_TYPE_BUSINESS  \\\n",
       "1256189                   0                       1                       0   \n",
       "396086                    1                       0                       0   \n",
       "1558019                   1                       0                       0   \n",
       "944414                    0                       1                       0   \n",
       "1137198                   0                       1                       0   \n",
       "\n",
       "         CUSTOMER_TYPE_PRIVATE  \n",
       "1256189                      1  \n",
       "396086                       1  \n",
       "1558019                      1  \n",
       "944414                       1  \n",
       "1137198                      1  "
      ]
     },
     "execution_count": 145,
     "metadata": {},
     "output_type": "execute_result"
    }
   ],
   "source": [
    "# Examples for false negatives\n",
    "df_fn = X_test[(y_test == 1) & (pred_test.T == 0)]\n",
    "df_fn.head()"
   ]
  },
  {
   "cell_type": "code",
   "execution_count": 146,
   "metadata": {},
   "outputs": [
    {
     "data": {
      "text/html": [
       "<div>\n",
       "<style scoped>\n",
       "    .dataframe tbody tr th:only-of-type {\n",
       "        vertical-align: middle;\n",
       "    }\n",
       "\n",
       "    .dataframe tbody tr th {\n",
       "        vertical-align: top;\n",
       "    }\n",
       "\n",
       "    .dataframe thead th {\n",
       "        text-align: right;\n",
       "    }\n",
       "</style>\n",
       "<table border=\"1\" class=\"dataframe\">\n",
       "  <thead>\n",
       "    <tr style=\"text-align: right;\">\n",
       "      <th></th>\n",
       "      <th>DELIVERY_DAYS</th>\n",
       "      <th>DELIVERY_CHARGE</th>\n",
       "      <th>TOTAL_ORDER_VALUE_NET</th>\n",
       "      <th>NUMBER_ARTICLES</th>\n",
       "      <th>CREATION_MONTH</th>\n",
       "      <th>CREATION_YEAR</th>\n",
       "      <th>COMPLETED_MONTH</th>\n",
       "      <th>COMPLETED_YEAR</th>\n",
       "      <th>ORDER_METHOD_INTERNET</th>\n",
       "      <th>ORDER_METHOD_LETTER</th>\n",
       "      <th>ORDER_METHOD_PHONE</th>\n",
       "      <th>ORDER_METHOD_STORE</th>\n",
       "      <th>ORDER_METHOD_TELANSMACH</th>\n",
       "      <th>DELIVERY_WAY_MIXED ORDER</th>\n",
       "      <th>DELIVERY_WAY_PARCEL</th>\n",
       "      <th>DELIVERY_WAY_TRUCK</th>\n",
       "      <th>FAMILY_CUST_FAMILY</th>\n",
       "      <th>FAMILY_CUST_NOT FAMILY</th>\n",
       "      <th>CUSTOMER_TYPE_BUSINESS</th>\n",
       "      <th>CUSTOMER_TYPE_PRIVATE</th>\n",
       "    </tr>\n",
       "  </thead>\n",
       "  <tbody>\n",
       "    <tr>\n",
       "      <th>2057054</th>\n",
       "      <td>31</td>\n",
       "      <td>0.00</td>\n",
       "      <td>1946.98</td>\n",
       "      <td>85.00</td>\n",
       "      <td>6</td>\n",
       "      <td>2019</td>\n",
       "      <td>7</td>\n",
       "      <td>2019</td>\n",
       "      <td>1</td>\n",
       "      <td>0</td>\n",
       "      <td>0</td>\n",
       "      <td>0</td>\n",
       "      <td>0</td>\n",
       "      <td>1</td>\n",
       "      <td>0</td>\n",
       "      <td>0</td>\n",
       "      <td>0</td>\n",
       "      <td>1</td>\n",
       "      <td>0</td>\n",
       "      <td>1</td>\n",
       "    </tr>\n",
       "    <tr>\n",
       "      <th>2901234</th>\n",
       "      <td>16</td>\n",
       "      <td>175.00</td>\n",
       "      <td>1508.24</td>\n",
       "      <td>31.00</td>\n",
       "      <td>9</td>\n",
       "      <td>2018</td>\n",
       "      <td>10</td>\n",
       "      <td>2018</td>\n",
       "      <td>1</td>\n",
       "      <td>0</td>\n",
       "      <td>0</td>\n",
       "      <td>0</td>\n",
       "      <td>0</td>\n",
       "      <td>0</td>\n",
       "      <td>0</td>\n",
       "      <td>1</td>\n",
       "      <td>1</td>\n",
       "      <td>0</td>\n",
       "      <td>0</td>\n",
       "      <td>1</td>\n",
       "    </tr>\n",
       "    <tr>\n",
       "      <th>2245002</th>\n",
       "      <td>13</td>\n",
       "      <td>175.00</td>\n",
       "      <td>1540.34</td>\n",
       "      <td>57.00</td>\n",
       "      <td>11</td>\n",
       "      <td>2018</td>\n",
       "      <td>11</td>\n",
       "      <td>2018</td>\n",
       "      <td>1</td>\n",
       "      <td>0</td>\n",
       "      <td>0</td>\n",
       "      <td>0</td>\n",
       "      <td>0</td>\n",
       "      <td>0</td>\n",
       "      <td>0</td>\n",
       "      <td>1</td>\n",
       "      <td>0</td>\n",
       "      <td>1</td>\n",
       "      <td>0</td>\n",
       "      <td>1</td>\n",
       "    </tr>\n",
       "    <tr>\n",
       "      <th>2301615</th>\n",
       "      <td>10</td>\n",
       "      <td>175.00</td>\n",
       "      <td>1862.16</td>\n",
       "      <td>54.00</td>\n",
       "      <td>4</td>\n",
       "      <td>2019</td>\n",
       "      <td>4</td>\n",
       "      <td>2019</td>\n",
       "      <td>1</td>\n",
       "      <td>0</td>\n",
       "      <td>0</td>\n",
       "      <td>0</td>\n",
       "      <td>0</td>\n",
       "      <td>0</td>\n",
       "      <td>0</td>\n",
       "      <td>1</td>\n",
       "      <td>0</td>\n",
       "      <td>1</td>\n",
       "      <td>0</td>\n",
       "      <td>1</td>\n",
       "    </tr>\n",
       "    <tr>\n",
       "      <th>717556</th>\n",
       "      <td>26</td>\n",
       "      <td>75.00</td>\n",
       "      <td>516.32</td>\n",
       "      <td>94.00</td>\n",
       "      <td>3</td>\n",
       "      <td>2019</td>\n",
       "      <td>3</td>\n",
       "      <td>2019</td>\n",
       "      <td>1</td>\n",
       "      <td>0</td>\n",
       "      <td>0</td>\n",
       "      <td>0</td>\n",
       "      <td>0</td>\n",
       "      <td>0</td>\n",
       "      <td>0</td>\n",
       "      <td>1</td>\n",
       "      <td>1</td>\n",
       "      <td>0</td>\n",
       "      <td>0</td>\n",
       "      <td>1</td>\n",
       "    </tr>\n",
       "  </tbody>\n",
       "</table>\n",
       "</div>"
      ],
      "text/plain": [
       "         DELIVERY_DAYS  DELIVERY_CHARGE  TOTAL_ORDER_VALUE_NET  \\\n",
       "2057054             31             0.00                1946.98   \n",
       "2901234             16           175.00                1508.24   \n",
       "2245002             13           175.00                1540.34   \n",
       "2301615             10           175.00                1862.16   \n",
       "717556              26            75.00                 516.32   \n",
       "\n",
       "         NUMBER_ARTICLES  CREATION_MONTH  CREATION_YEAR  COMPLETED_MONTH  \\\n",
       "2057054            85.00               6           2019                7   \n",
       "2901234            31.00               9           2018               10   \n",
       "2245002            57.00              11           2018               11   \n",
       "2301615            54.00               4           2019                4   \n",
       "717556             94.00               3           2019                3   \n",
       "\n",
       "         COMPLETED_YEAR  ORDER_METHOD_INTERNET  ORDER_METHOD_LETTER  \\\n",
       "2057054            2019                      1                    0   \n",
       "2901234            2018                      1                    0   \n",
       "2245002            2018                      1                    0   \n",
       "2301615            2019                      1                    0   \n",
       "717556             2019                      1                    0   \n",
       "\n",
       "         ORDER_METHOD_PHONE  ORDER_METHOD_STORE  ORDER_METHOD_TELANSMACH  \\\n",
       "2057054                   0                   0                        0   \n",
       "2901234                   0                   0                        0   \n",
       "2245002                   0                   0                        0   \n",
       "2301615                   0                   0                        0   \n",
       "717556                    0                   0                        0   \n",
       "\n",
       "         DELIVERY_WAY_MIXED ORDER  DELIVERY_WAY_PARCEL  DELIVERY_WAY_TRUCK  \\\n",
       "2057054                         1                    0                   0   \n",
       "2901234                         0                    0                   1   \n",
       "2245002                         0                    0                   1   \n",
       "2301615                         0                    0                   1   \n",
       "717556                          0                    0                   1   \n",
       "\n",
       "         FAMILY_CUST_FAMILY  FAMILY_CUST_NOT FAMILY  CUSTOMER_TYPE_BUSINESS  \\\n",
       "2057054                   0                       1                       0   \n",
       "2901234                   1                       0                       0   \n",
       "2245002                   0                       1                       0   \n",
       "2301615                   0                       1                       0   \n",
       "717556                    1                       0                       0   \n",
       "\n",
       "         CUSTOMER_TYPE_PRIVATE  \n",
       "2057054                      1  \n",
       "2901234                      1  \n",
       "2245002                      1  \n",
       "2301615                      1  \n",
       "717556                       1  "
      ]
     },
     "execution_count": 146,
     "metadata": {},
     "output_type": "execute_result"
    }
   ],
   "source": [
    "# Examples for false positives\n",
    "df_fp = X_test[(y_test == 0) & (pred_test.T == 1)]\n",
    "df_fp.head()"
   ]
  },
  {
   "cell_type": "code",
   "execution_count": 55,
   "metadata": {},
   "outputs": [],
   "source": [
    "# Naive Bayes classifier - GaussianNB\n",
    "model2 = GaussianNB() "
   ]
  },
  {
   "cell_type": "code",
   "execution_count": 56,
   "metadata": {},
   "outputs": [
    {
     "data": {
      "text/plain": [
       "GaussianNB(priors=None)"
      ]
     },
     "execution_count": 56,
     "metadata": {},
     "output_type": "execute_result"
    }
   ],
   "source": [
    "model2.fit(X_train, y_train)"
   ]
  },
  {
   "cell_type": "code",
   "execution_count": 57,
   "metadata": {},
   "outputs": [],
   "source": [
    "pred_test2 = model2.predict(X_test)"
   ]
  },
  {
   "cell_type": "code",
   "execution_count": null,
   "metadata": {},
   "outputs": [],
   "source": [
    "print('Accuracy score: ' + str(accuracy_score(y_test, pred_test2)))"
   ]
  },
  {
   "cell_type": "code",
   "execution_count": null,
   "metadata": {},
   "outputs": [],
   "source": [
    "confusion_matrix(y_test, pred_test2)"
   ]
  },
  {
   "cell_type": "code",
   "execution_count": null,
   "metadata": {},
   "outputs": [],
   "source": [
    "print(classification_report(y_test, pred_test2))"
   ]
  },
  {
   "cell_type": "code",
   "execution_count": 61,
   "metadata": {},
   "outputs": [],
   "source": [
    "# Naive Bayes classifier - BernoulliNB\n",
    "model5 = BernoulliNB() "
   ]
  },
  {
   "cell_type": "code",
   "execution_count": 62,
   "metadata": {},
   "outputs": [
    {
     "data": {
      "text/plain": [
       "BernoulliNB(alpha=1.0, binarize=0.0, class_prior=None, fit_prior=True)"
      ]
     },
     "execution_count": 62,
     "metadata": {},
     "output_type": "execute_result"
    }
   ],
   "source": [
    "model5.fit(X_train, y_train)"
   ]
  },
  {
   "cell_type": "code",
   "execution_count": null,
   "metadata": {},
   "outputs": [],
   "source": [
    "pred_test5 = model5.predict(X_test)"
   ]
  },
  {
   "cell_type": "code",
   "execution_count": null,
   "metadata": {},
   "outputs": [],
   "source": [
    "print('Accuracy score: ' + str(accuracy_score(y_test, pred_test5)))"
   ]
  },
  {
   "cell_type": "code",
   "execution_count": null,
   "metadata": {},
   "outputs": [],
   "source": [
    "confusion_matrix(y_test, pred_test5)"
   ]
  },
  {
   "cell_type": "code",
   "execution_count": 63,
   "metadata": {},
   "outputs": [],
   "source": [
    "print(classification_report(y_test, pred_test5))"
   ]
  },
  {
   "cell_type": "code",
   "execution_count": 206,
   "metadata": {},
   "outputs": [],
   "source": [
    "# Decision trees classifier\n",
    "model8 = DecisionTreeClassifier(max_depth=8) "
   ]
  },
  {
   "cell_type": "code",
   "execution_count": 207,
   "metadata": {},
   "outputs": [
    {
     "data": {
      "text/plain": [
       "DecisionTreeClassifier(class_weight=None, criterion='gini', max_depth=8,\n",
       "            max_features=None, max_leaf_nodes=None,\n",
       "            min_impurity_decrease=0.0, min_impurity_split=None,\n",
       "            min_samples_leaf=1, min_samples_split=2,\n",
       "            min_weight_fraction_leaf=0.0, presort=False, random_state=None,\n",
       "            splitter='best')"
      ]
     },
     "execution_count": 207,
     "metadata": {},
     "output_type": "execute_result"
    }
   ],
   "source": [
    "model8.fit(X_train, y_train)"
   ]
  },
  {
   "cell_type": "code",
   "execution_count": 208,
   "metadata": {},
   "outputs": [],
   "source": [
    "pred_test8 = model8.predict(X_test)"
   ]
  },
  {
   "cell_type": "code",
   "execution_count": null,
   "metadata": {},
   "outputs": [],
   "source": [
    "print('Accuracy score: ' + str(accuracy_score(y_test, pred_test8)))"
   ]
  },
  {
   "cell_type": "code",
   "execution_count": null,
   "metadata": {},
   "outputs": [],
   "source": [
    "confusion_matrix(y_test, pred_test8)"
   ]
  },
  {
   "cell_type": "code",
   "execution_count": null,
   "metadata": {},
   "outputs": [],
   "source": [
    "print(classification_report(y_test, pred_test8))"
   ]
  },
  {
   "cell_type": "markdown",
   "metadata": {},
   "source": [
    "### Voting classifer - hard voting"
   ]
  },
  {
   "cell_type": "code",
   "execution_count": 62,
   "metadata": {},
   "outputs": [],
   "source": [
    "modelx = VotingClassifier(estimators = [('logistic',LogisticRegression()),\n",
    "                            ('dectree', DecisionTreeClassifier(max_depth=8)),\n",
    "                            ('bern',BernoulliNB())], voting='hard')"
   ]
  },
  {
   "cell_type": "code",
   "execution_count": 63,
   "metadata": {},
   "outputs": [
    {
     "data": {
      "text/plain": [
       "VotingClassifier(estimators=[('logistic', LogisticRegression(C=1.0, class_weight=None, dual=False, fit_intercept=True,\n",
       "          intercept_scaling=1, max_iter=100, multi_class='ovr', n_jobs=1,\n",
       "          penalty='l2', random_state=None, solver='liblinear', tol=0.0001,\n",
       "          verbose=0, warm_start=False)), ('dectre...splitter='best')), ('bern', BernoulliNB(alpha=1.0, binarize=0.0, class_prior=None, fit_prior=True))],\n",
       "         flatten_transform=None, n_jobs=1, voting='hard', weights=None)"
      ]
     },
     "execution_count": 63,
     "metadata": {},
     "output_type": "execute_result"
    }
   ],
   "source": [
    "modelx.fit(X_train, y_train)"
   ]
  },
  {
   "cell_type": "code",
   "execution_count": 64,
   "metadata": {},
   "outputs": [
    {
     "name": "stderr",
     "output_type": "stream",
     "text": [
      "C:\\ProgramData\\Anaconda3\\lib\\site-packages\\sklearn\\preprocessing\\label.py:151: DeprecationWarning: The truth value of an empty array is ambiguous. Returning False, but in future this will result in an error. Use `array.size > 0` to check that an array is not empty.\n",
      "  if diff:\n"
     ]
    }
   ],
   "source": [
    "pred_testx = modelx.predict(X_test)"
   ]
  },
  {
   "cell_type": "code",
   "execution_count": null,
   "metadata": {},
   "outputs": [],
   "source": [
    "print('Accuracy score: ' + str(accuracy_score(y_test, pred_testx)))"
   ]
  },
  {
   "cell_type": "code",
   "execution_count": null,
   "metadata": {},
   "outputs": [],
   "source": [
    "confusion_matrix(y_test, pred_testx)"
   ]
  },
  {
   "cell_type": "code",
   "execution_count": null,
   "metadata": {},
   "outputs": [],
   "source": [
    "print(classification_report(y_test, pred_testx))"
   ]
  }
 ],
 "metadata": {
  "kernelspec": {
   "display_name": "Python 3",
   "language": "python",
   "name": "python3"
  },
  "language_info": {
   "codemirror_mode": {
    "name": "ipython",
    "version": 3
   },
   "file_extension": ".py",
   "mimetype": "text/x-python",
   "name": "python",
   "nbconvert_exporter": "python",
   "pygments_lexer": "ipython3",
   "version": "3.7.0"
  }
 },
 "nbformat": 4,
 "nbformat_minor": 2
}
